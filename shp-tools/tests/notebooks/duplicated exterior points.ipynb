{
 "cells": [
  {
   "cell_type": "markdown",
   "metadata": {},
   "source": [
    "# Duplicated exterior vertecies"
   ]
  },
  {
   "cell_type": "code",
   "execution_count": 1,
   "metadata": {
    "ExecuteTime": {
     "end_time": "2019-01-22T19:08:17.400856Z",
     "start_time": "2019-01-22T19:08:16.802250Z"
    }
   },
   "outputs": [],
   "source": [
    "%matplotlib inline\n",
    "%load_ext autoreload\n",
    "%autoreload 2"
   ]
  },
  {
   "cell_type": "code",
   "execution_count": 2,
   "metadata": {
    "ExecuteTime": {
     "end_time": "2019-01-22T19:08:18.450208Z",
     "start_time": "2019-01-22T19:08:17.433920Z"
    }
   },
   "outputs": [
    {
     "data": {
      "text/plain": [
       "'/Users/lukaszkielar/Python/geopandas/geopandas/tools/tests/notebooks'"
      ]
     },
     "execution_count": 2,
     "metadata": {},
     "output_type": "execute_result"
    }
   ],
   "source": [
    "import geopandas as gpd\n",
    "import os\n",
    "os.getcwd()"
   ]
  },
  {
   "cell_type": "code",
   "execution_count": null,
   "metadata": {},
   "outputs": [],
   "source": [
    "from geopandas.tools.topology import _return_affected_geoms, _exterior_duplicates_bool, exterior_duplicates"
   ]
  },
  {
   "cell_type": "markdown",
   "metadata": {},
   "source": [
    "## Get the data"
   ]
  },
  {
   "cell_type": "markdown",
   "metadata": {},
   "source": [
    "### GeoJSON"
   ]
  },
  {
   "cell_type": "code",
   "execution_count": 3,
   "metadata": {
    "ExecuteTime": {
     "end_time": "2019-01-22T19:08:18.532521Z",
     "start_time": "2019-01-22T19:08:18.493043Z"
    }
   },
   "outputs": [],
   "source": [
    "path = \"../data/exterior/exterior_test_data.geojson\"\n",
    "gdf = gpd.read_file(path)"
   ]
  },
  {
   "cell_type": "code",
   "execution_count": 4,
   "metadata": {
    "ExecuteTime": {
     "end_time": "2019-01-22T19:08:19.311128Z",
     "start_time": "2019-01-22T19:08:19.252580Z"
    }
   },
   "outputs": [
    {
     "data": {
      "text/html": [
       "<div>\n",
       "<style scoped>\n",
       "    .dataframe tbody tr th:only-of-type {\n",
       "        vertical-align: middle;\n",
       "    }\n",
       "\n",
       "    .dataframe tbody tr th {\n",
       "        vertical-align: top;\n",
       "    }\n",
       "\n",
       "    .dataframe thead th {\n",
       "        text-align: right;\n",
       "    }\n",
       "</style>\n",
       "<table border=\"1\" class=\"dataframe\">\n",
       "  <thead>\n",
       "    <tr style=\"text-align: right;\">\n",
       "      <th></th>\n",
       "      <th>descr</th>\n",
       "      <th>geometry</th>\n",
       "    </tr>\n",
       "  </thead>\n",
       "  <tbody>\n",
       "    <tr>\n",
       "      <th>0</th>\n",
       "      <td>geom1 no dupl</td>\n",
       "      <td>POLYGON ((0 0, 0 3, 3 3, 3 0, 0 0))</td>\n",
       "    </tr>\n",
       "    <tr>\n",
       "      <th>1</th>\n",
       "      <td>geom1 1 dupl</td>\n",
       "      <td>POLYGON ((0 0, 0 3, 3 3, 3 0, 3 0, 0 0))</td>\n",
       "    </tr>\n",
       "    <tr>\n",
       "      <th>2</th>\n",
       "      <td>geom1 2 dupl</td>\n",
       "      <td>POLYGON ((0 0, 0 3, 3 3, 3 3, 3 0, 3 0, 0 0))</td>\n",
       "    </tr>\n",
       "    <tr>\n",
       "      <th>3</th>\n",
       "      <td>geom1 int no dupl</td>\n",
       "      <td>POLYGON ((0 0, 0 3, 3 3, 3 0, 0 0), (1 1, 1 2,...</td>\n",
       "    </tr>\n",
       "    <tr>\n",
       "      <th>4</th>\n",
       "      <td>geom1 int 1 dupl</td>\n",
       "      <td>POLYGON ((0 0, 0 3, 3 3, 3 0, 3 0, 0 0), (1 1,...</td>\n",
       "    </tr>\n",
       "    <tr>\n",
       "      <th>5</th>\n",
       "      <td>geom1 int 2 dupl</td>\n",
       "      <td>POLYGON ((0 0, 0 3, 3 3, 3 3, 3 0, 3 0, 0 0), ...</td>\n",
       "    </tr>\n",
       "    <tr>\n",
       "      <th>6</th>\n",
       "      <td>geom2 no dupl</td>\n",
       "      <td>POLYGON ((5 0, 5 3, 8 3, 8 0, 5 0))</td>\n",
       "    </tr>\n",
       "    <tr>\n",
       "      <th>7</th>\n",
       "      <td>geom2 1 dupl</td>\n",
       "      <td>POLYGON ((5 0, 5 3, 8 3, 8 0, 8 0, 5 0))</td>\n",
       "    </tr>\n",
       "    <tr>\n",
       "      <th>8</th>\n",
       "      <td>geom2 2 dupl</td>\n",
       "      <td>POLYGON ((5 0, 5 3, 8 3, 8 3, 8 0, 8 0, 5 0))</td>\n",
       "    </tr>\n",
       "    <tr>\n",
       "      <th>9</th>\n",
       "      <td>geom2 int no dupl</td>\n",
       "      <td>POLYGON ((5 0, 5 3, 8 3, 8 0, 5 0), (6 1, 6 2,...</td>\n",
       "    </tr>\n",
       "    <tr>\n",
       "      <th>10</th>\n",
       "      <td>geom2 int 1 dupl</td>\n",
       "      <td>POLYGON ((5 0, 5 3, 8 3, 8 0, 8 0, 5 0), (6 1,...</td>\n",
       "    </tr>\n",
       "    <tr>\n",
       "      <th>11</th>\n",
       "      <td>geom2 int 2 dupl</td>\n",
       "      <td>POLYGON ((5 0, 5 3, 8 3, 8 3, 8 0, 8 0, 5 0), ...</td>\n",
       "    </tr>\n",
       "    <tr>\n",
       "      <th>12</th>\n",
       "      <td>geoms no dupl</td>\n",
       "      <td>(POLYGON ((0 0, 0 3, 3 3, 3 0, 0 0)), POLYGON ...</td>\n",
       "    </tr>\n",
       "    <tr>\n",
       "      <th>13</th>\n",
       "      <td>geoms 1 dupl left</td>\n",
       "      <td>(POLYGON ((0 0, 0 3, 3 3, 3 0, 3 0, 0 0)), POL...</td>\n",
       "    </tr>\n",
       "    <tr>\n",
       "      <th>14</th>\n",
       "      <td>geoms 1 dupl right</td>\n",
       "      <td>(POLYGON ((0 0, 0 3, 3 3, 3 0, 0 0)), POLYGON ...</td>\n",
       "    </tr>\n",
       "    <tr>\n",
       "      <th>15</th>\n",
       "      <td>geoms 1 dupl int left</td>\n",
       "      <td>(POLYGON ((0 0, 0 3, 3 3, 3 0, 3 0, 0 0), (1 1...</td>\n",
       "    </tr>\n",
       "    <tr>\n",
       "      <th>16</th>\n",
       "      <td>geoms 1 dupl int right</td>\n",
       "      <td>(POLYGON ((0 0, 0 3, 3 3, 3 0, 0 0), (1 1, 1 2...</td>\n",
       "    </tr>\n",
       "    <tr>\n",
       "      <th>17</th>\n",
       "      <td>geoms 1l 1r dupl</td>\n",
       "      <td>(POLYGON ((0 0, 0 3, 3 3, 3 0, 3 0, 0 0)), POL...</td>\n",
       "    </tr>\n",
       "    <tr>\n",
       "      <th>18</th>\n",
       "      <td>geoms 1l 1r int dupl</td>\n",
       "      <td>(POLYGON ((0 0, 0 3, 3 3, 3 0, 3 0, 0 0), (1 1...</td>\n",
       "    </tr>\n",
       "    <tr>\n",
       "      <th>19</th>\n",
       "      <td>geoms int no dupl</td>\n",
       "      <td>(POLYGON ((0 0, 0 3, 3 3, 3 0, 0 0), (1 1, 1 2...</td>\n",
       "    </tr>\n",
       "    <tr>\n",
       "      <th>20</th>\n",
       "      <td>geoms 2l dupl</td>\n",
       "      <td>(POLYGON ((0 0, 0 3, 3 3, 3 3, 3 0, 3 0, 0 0))...</td>\n",
       "    </tr>\n",
       "    <tr>\n",
       "      <th>21</th>\n",
       "      <td>geoms 2r dupl</td>\n",
       "      <td>(POLYGON ((0 0, 0 3, 3 3, 3 0, 0 0)), POLYGON ...</td>\n",
       "    </tr>\n",
       "    <tr>\n",
       "      <th>22</th>\n",
       "      <td>geoms 2l int dupl</td>\n",
       "      <td>(POLYGON ((0 0, 0 3, 3 3, 3 3, 3 0, 3 0, 0 0),...</td>\n",
       "    </tr>\n",
       "    <tr>\n",
       "      <th>23</th>\n",
       "      <td>geoms 2r int dupl</td>\n",
       "      <td>(POLYGON ((0 0, 0 3, 3 3, 3 0, 0 0), (1 1, 1 2...</td>\n",
       "    </tr>\n",
       "    <tr>\n",
       "      <th>24</th>\n",
       "      <td>geoms 2l 2r dupl</td>\n",
       "      <td>(POLYGON ((0 0, 0 3, 3 3, 3 3, 3 0, 3 0, 0 0))...</td>\n",
       "    </tr>\n",
       "    <tr>\n",
       "      <th>25</th>\n",
       "      <td>geoms 2l 2r int dupl</td>\n",
       "      <td>(POLYGON ((0 0, 0 3, 3 3, 3 3, 3 0, 3 0, 0 0),...</td>\n",
       "    </tr>\n",
       "  </tbody>\n",
       "</table>\n",
       "</div>"
      ],
      "text/plain": [
       "                     descr                                           geometry\n",
       "0            geom1 no dupl                POLYGON ((0 0, 0 3, 3 3, 3 0, 0 0))\n",
       "1             geom1 1 dupl           POLYGON ((0 0, 0 3, 3 3, 3 0, 3 0, 0 0))\n",
       "2             geom1 2 dupl      POLYGON ((0 0, 0 3, 3 3, 3 3, 3 0, 3 0, 0 0))\n",
       "3        geom1 int no dupl  POLYGON ((0 0, 0 3, 3 3, 3 0, 0 0), (1 1, 1 2,...\n",
       "4         geom1 int 1 dupl  POLYGON ((0 0, 0 3, 3 3, 3 0, 3 0, 0 0), (1 1,...\n",
       "5         geom1 int 2 dupl  POLYGON ((0 0, 0 3, 3 3, 3 3, 3 0, 3 0, 0 0), ...\n",
       "6            geom2 no dupl                POLYGON ((5 0, 5 3, 8 3, 8 0, 5 0))\n",
       "7             geom2 1 dupl           POLYGON ((5 0, 5 3, 8 3, 8 0, 8 0, 5 0))\n",
       "8             geom2 2 dupl      POLYGON ((5 0, 5 3, 8 3, 8 3, 8 0, 8 0, 5 0))\n",
       "9        geom2 int no dupl  POLYGON ((5 0, 5 3, 8 3, 8 0, 5 0), (6 1, 6 2,...\n",
       "10        geom2 int 1 dupl  POLYGON ((5 0, 5 3, 8 3, 8 0, 8 0, 5 0), (6 1,...\n",
       "11        geom2 int 2 dupl  POLYGON ((5 0, 5 3, 8 3, 8 3, 8 0, 8 0, 5 0), ...\n",
       "12           geoms no dupl  (POLYGON ((0 0, 0 3, 3 3, 3 0, 0 0)), POLYGON ...\n",
       "13       geoms 1 dupl left  (POLYGON ((0 0, 0 3, 3 3, 3 0, 3 0, 0 0)), POL...\n",
       "14      geoms 1 dupl right  (POLYGON ((0 0, 0 3, 3 3, 3 0, 0 0)), POLYGON ...\n",
       "15   geoms 1 dupl int left  (POLYGON ((0 0, 0 3, 3 3, 3 0, 3 0, 0 0), (1 1...\n",
       "16  geoms 1 dupl int right  (POLYGON ((0 0, 0 3, 3 3, 3 0, 0 0), (1 1, 1 2...\n",
       "17        geoms 1l 1r dupl  (POLYGON ((0 0, 0 3, 3 3, 3 0, 3 0, 0 0)), POL...\n",
       "18    geoms 1l 1r int dupl  (POLYGON ((0 0, 0 3, 3 3, 3 0, 3 0, 0 0), (1 1...\n",
       "19       geoms int no dupl  (POLYGON ((0 0, 0 3, 3 3, 3 0, 0 0), (1 1, 1 2...\n",
       "20           geoms 2l dupl  (POLYGON ((0 0, 0 3, 3 3, 3 3, 3 0, 3 0, 0 0))...\n",
       "21           geoms 2r dupl  (POLYGON ((0 0, 0 3, 3 3, 3 0, 0 0)), POLYGON ...\n",
       "22       geoms 2l int dupl  (POLYGON ((0 0, 0 3, 3 3, 3 3, 3 0, 3 0, 0 0),...\n",
       "23       geoms 2r int dupl  (POLYGON ((0 0, 0 3, 3 3, 3 0, 0 0), (1 1, 1 2...\n",
       "24        geoms 2l 2r dupl  (POLYGON ((0 0, 0 3, 3 3, 3 3, 3 0, 3 0, 0 0))...\n",
       "25    geoms 2l 2r int dupl  (POLYGON ((0 0, 0 3, 3 3, 3 3, 3 0, 3 0, 0 0),..."
      ]
     },
     "execution_count": 4,
     "metadata": {},
     "output_type": "execute_result"
    }
   ],
   "source": [
    "gdf"
   ]
  },
  {
   "cell_type": "code",
   "execution_count": 5,
   "metadata": {
    "ExecuteTime": {
     "end_time": "2019-01-22T19:08:23.125614Z",
     "start_time": "2019-01-22T19:08:22.819066Z"
    }
   },
   "outputs": [
    {
     "data": {
      "text/plain": [
       "<matplotlib.axes._subplots.AxesSubplot at 0x111c1c128>"
      ]
     },
     "execution_count": 5,
     "metadata": {},
     "output_type": "execute_result"
    },
    {
     "data": {
      "image/png": "[encoded data removed]",
      "text/plain": [
       "<Figure size 720x720 with 1 Axes>"
      ]
     },
     "metadata": {
      "needs_background": "light"
     },
     "output_type": "display_data"
    }
   ],
   "source": [
    "gdf.plot(figsize=(10,10))"
   ]
  },
  {
   "cell_type": "code",
   "execution_count": 8,
   "metadata": {
    "ExecuteTime": {
     "end_time": "2019-01-22T19:08:36.194941Z",
     "start_time": "2019-01-22T19:08:36.149033Z"
    }
   },
   "outputs": [
    {
     "data": {
      "text/plain": [
       "0                   POLYGON ((0 0, 0 3, 3 3, 3 0, 0 0))\n",
       "1              POLYGON ((0 0, 0 3, 3 3, 3 0, 3 0, 0 0))\n",
       "2         POLYGON ((0 0, 0 3, 3 3, 3 3, 3 0, 3 0, 0 0))\n",
       "3     POLYGON ((0 0, 0 3, 3 3, 3 0, 0 0), (1 1, 1 2,...\n",
       "4     POLYGON ((0 0, 0 3, 3 3, 3 0, 3 0, 0 0), (1 1,...\n",
       "5     POLYGON ((0 0, 0 3, 3 3, 3 3, 3 0, 3 0, 0 0), ...\n",
       "6                   POLYGON ((5 0, 5 3, 8 3, 8 0, 5 0))\n",
       "7              POLYGON ((5 0, 5 3, 8 3, 8 0, 8 0, 5 0))\n",
       "8         POLYGON ((5 0, 5 3, 8 3, 8 3, 8 0, 8 0, 5 0))\n",
       "9     POLYGON ((5 0, 5 3, 8 3, 8 0, 5 0), (6 1, 6 2,...\n",
       "10    POLYGON ((5 0, 5 3, 8 3, 8 0, 8 0, 5 0), (6 1,...\n",
       "11    POLYGON ((5 0, 5 3, 8 3, 8 3, 8 0, 8 0, 5 0), ...\n",
       "12    (POLYGON ((0 0, 0 3, 3 3, 3 0, 0 0)), POLYGON ...\n",
       "13    (POLYGON ((0 0, 0 3, 3 3, 3 0, 3 0, 0 0)), POL...\n",
       "14    (POLYGON ((0 0, 0 3, 3 3, 3 0, 0 0)), POLYGON ...\n",
       "15    (POLYGON ((0 0, 0 3, 3 3, 3 0, 3 0, 0 0), (1 1...\n",
       "16    (POLYGON ((0 0, 0 3, 3 3, 3 0, 0 0), (1 1, 1 2...\n",
       "17    (POLYGON ((0 0, 0 3, 3 3, 3 0, 3 0, 0 0)), POL...\n",
       "18    (POLYGON ((0 0, 0 3, 3 3, 3 0, 3 0, 0 0), (1 1...\n",
       "19    (POLYGON ((0 0, 0 3, 3 3, 3 0, 0 0), (1 1, 1 2...\n",
       "20    (POLYGON ((0 0, 0 3, 3 3, 3 3, 3 0, 3 0, 0 0))...\n",
       "21    (POLYGON ((0 0, 0 3, 3 3, 3 0, 0 0)), POLYGON ...\n",
       "22    (POLYGON ((0 0, 0 3, 3 3, 3 3, 3 0, 3 0, 0 0),...\n",
       "23    (POLYGON ((0 0, 0 3, 3 3, 3 0, 0 0), (1 1, 1 2...\n",
       "24    (POLYGON ((0 0, 0 3, 3 3, 3 3, 3 0, 3 0, 0 0))...\n",
       "25    (POLYGON ((0 0, 0 3, 3 3, 3 3, 3 0, 3 0, 0 0),...\n",
       "Name: geometry, dtype: object"
      ]
     },
     "execution_count": 8,
     "metadata": {},
     "output_type": "execute_result"
    }
   ],
   "source": [
    "geoseries = gdf.geometry\n",
    "geoseries"
   ]
  },
  {
   "cell_type": "code",
   "execution_count": 9,
   "metadata": {
    "ExecuteTime": {
     "end_time": "2019-01-22T19:08:40.199721Z",
     "start_time": "2019-01-22T19:08:40.155606Z"
    }
   },
   "outputs": [
    {
     "data": {
      "text/plain": [
       "1              POLYGON ((0 0, 0 3, 3 3, 3 0, 3 0, 0 0))\n",
       "2         POLYGON ((0 0, 0 3, 3 3, 3 3, 3 0, 3 0, 0 0))\n",
       "4     POLYGON ((0 0, 0 3, 3 3, 3 0, 3 0, 0 0), (1 1,...\n",
       "5     POLYGON ((0 0, 0 3, 3 3, 3 3, 3 0, 3 0, 0 0), ...\n",
       "7              POLYGON ((5 0, 5 3, 8 3, 8 0, 8 0, 5 0))\n",
       "8         POLYGON ((5 0, 5 3, 8 3, 8 3, 8 0, 8 0, 5 0))\n",
       "10    POLYGON ((5 0, 5 3, 8 3, 8 0, 8 0, 5 0), (6 1,...\n",
       "11    POLYGON ((5 0, 5 3, 8 3, 8 3, 8 0, 8 0, 5 0), ...\n",
       "13    (POLYGON ((0 0, 0 3, 3 3, 3 0, 3 0, 0 0)), POL...\n",
       "14    (POLYGON ((0 0, 0 3, 3 3, 3 0, 0 0)), POLYGON ...\n",
       "15    (POLYGON ((0 0, 0 3, 3 3, 3 0, 3 0, 0 0), (1 1...\n",
       "16    (POLYGON ((0 0, 0 3, 3 3, 3 0, 0 0), (1 1, 1 2...\n",
       "17    (POLYGON ((0 0, 0 3, 3 3, 3 0, 3 0, 0 0)), POL...\n",
       "18    (POLYGON ((0 0, 0 3, 3 3, 3 0, 3 0, 0 0), (1 1...\n",
       "20    (POLYGON ((0 0, 0 3, 3 3, 3 3, 3 0, 3 0, 0 0))...\n",
       "21    (POLYGON ((0 0, 0 3, 3 3, 3 0, 0 0)), POLYGON ...\n",
       "22    (POLYGON ((0 0, 0 3, 3 3, 3 3, 3 0, 3 0, 0 0),...\n",
       "23    (POLYGON ((0 0, 0 3, 3 3, 3 0, 0 0), (1 1, 1 2...\n",
       "24    (POLYGON ((0 0, 0 3, 3 3, 3 3, 3 0, 3 0, 0 0))...\n",
       "25    (POLYGON ((0 0, 0 3, 3 3, 3 3, 3 0, 3 0, 0 0),...\n",
       "Name: geometry, dtype: object"
      ]
     },
     "execution_count": 9,
     "metadata": {},
     "output_type": "execute_result"
    }
   ],
   "source": [
    "new_geoseries = _return_affected_geoms(geoseries, func=_exterior_duplicates_bool)\n",
    "new_geoseries"
   ]
  },
  {
   "cell_type": "code",
   "execution_count": 10,
   "metadata": {
    "ExecuteTime": {
     "end_time": "2019-01-22T19:08:49.022029Z",
     "start_time": "2019-01-22T19:08:48.642121Z"
    }
   },
   "outputs": [
    {
     "data": {
      "text/plain": [
       "<matplotlib.axes._subplots.AxesSubplot at 0x111eab470>"
      ]
     },
     "execution_count": 10,
     "metadata": {},
     "output_type": "execute_result"
    },
    {
     "data": {
      "image/png": "[encoded data removed]",
      "text/plain": [
       "<Figure size 720x720 with 1 Axes>"
      ]
     },
     "metadata": {
      "needs_background": "light"
     },
     "output_type": "display_data"
    }
   ],
   "source": [
    "ax = geoseries.plot(figsize=(10,10), color='red', alpha=0.3)\n",
    "new_geoseries.plot(ax=ax, color='blue', alpha=0.3)"
   ]
  },
  {
   "cell_type": "code",
   "execution_count": 15,
   "metadata": {
    "ExecuteTime": {
     "end_time": "2019-01-22T19:09:18.999392Z",
     "start_time": "2019-01-22T19:09:18.955131Z"
    }
   },
   "outputs": [],
   "source": [
    "final_geoseries = exterior_duplicates(geoseries)"
   ]
  },
  {
   "cell_type": "code",
   "execution_count": 16,
   "metadata": {
    "ExecuteTime": {
     "end_time": "2019-01-22T19:09:22.782160Z",
     "start_time": "2019-01-22T19:09:22.741461Z"
    }
   },
   "outputs": [
    {
     "data": {
      "text/plain": [
       "1                                         (POINT (3 0))\n",
       "2                            (POINT (3 0), POINT (3 3))\n",
       "4                                         (POINT (3 0))\n",
       "5                            (POINT (3 0), POINT (3 3))\n",
       "7                                         (POINT (8 0))\n",
       "8                            (POINT (8 3), POINT (8 0))\n",
       "10                                        (POINT (8 0))\n",
       "11                           (POINT (8 3), POINT (8 0))\n",
       "13                                        (POINT (3 0))\n",
       "14                                        (POINT (8 0))\n",
       "15                                        (POINT (3 0))\n",
       "16                                        (POINT (8 0))\n",
       "17                           (POINT (3 0), POINT (8 0))\n",
       "18                           (POINT (3 0), POINT (8 0))\n",
       "20                           (POINT (3 0), POINT (3 3))\n",
       "21                           (POINT (8 3), POINT (8 0))\n",
       "22                           (POINT (3 0), POINT (3 3))\n",
       "23                           (POINT (8 3), POINT (8 0))\n",
       "24    (POINT (3 0), POINT (3 3), POINT (8 3), POINT ...\n",
       "25    (POINT (3 0), POINT (3 3), POINT (8 3), POINT ...\n",
       "Name: geometry, dtype: object"
      ]
     },
     "execution_count": 16,
     "metadata": {},
     "output_type": "execute_result"
    }
   ],
   "source": [
    "final_geoseries"
   ]
  },
  {
   "cell_type": "code",
   "execution_count": 17,
   "metadata": {
    "ExecuteTime": {
     "end_time": "2019-01-22T19:09:27.845843Z",
     "start_time": "2019-01-22T19:09:27.666589Z"
    }
   },
   "outputs": [
    {
     "data": {
      "text/plain": [
       "<matplotlib.axes._subplots.AxesSubplot at 0x111f01c50>"
      ]
     },
     "execution_count": 17,
     "metadata": {},
     "output_type": "execute_result"
    },
    {
     "data": {
      "image/png": "[encoded data removed]",
      "text/plain": [
       "<Figure size 432x288 with 1 Axes>"
      ]
     },
     "metadata": {
      "needs_background": "light"
     },
     "output_type": "display_data"
    }
   ],
   "source": [
    "final_geoseries.plot()"
   ]
  },
  {
   "cell_type": "markdown",
   "metadata": {},
   "source": [
    "### SHP"
   ]
  },
  {
   "cell_type": "code",
   "execution_count": 28,
   "metadata": {
    "ExecuteTime": {
     "end_time": "2019-01-22T19:13:56.727629Z",
     "start_time": "2019-01-22T19:13:56.691486Z"
    }
   },
   "outputs": [],
   "source": [
    "path = \"../data/shp/duplicated_exterior_vertices.shp\"\n",
    "path2 = \"../data/shp/duplicated_exterior_vertices_multipart.shp\"\n",
    "gdf = gpd.read_file(path2)"
   ]
  },
  {
   "cell_type": "code",
   "execution_count": 29,
   "metadata": {
    "ExecuteTime": {
     "end_time": "2019-01-22T19:13:57.220480Z",
     "start_time": "2019-01-22T19:13:57.178268Z"
    }
   },
   "outputs": [
    {
     "data": {
      "text/html": [
       "<div>\n",
       "<style scoped>\n",
       "    .dataframe tbody tr th:only-of-type {\n",
       "        vertical-align: middle;\n",
       "    }\n",
       "\n",
       "    .dataframe tbody tr th {\n",
       "        vertical-align: top;\n",
       "    }\n",
       "\n",
       "    .dataframe thead th {\n",
       "        text-align: right;\n",
       "    }\n",
       "</style>\n",
       "<table border=\"1\" class=\"dataframe\">\n",
       "  <thead>\n",
       "    <tr style=\"text-align: right;\">\n",
       "      <th></th>\n",
       "      <th>id</th>\n",
       "      <th>geometry</th>\n",
       "    </tr>\n",
       "  </thead>\n",
       "  <tbody>\n",
       "    <tr>\n",
       "      <th>0</th>\n",
       "      <td>1</td>\n",
       "      <td>POLYGON ((151 -285, 352 -279, 352 -279, 364 -3...</td>\n",
       "    </tr>\n",
       "    <tr>\n",
       "      <th>1</th>\n",
       "      <td>10</td>\n",
       "      <td>(POLYGON ((-43.99851510731804 50.9361132418613...</td>\n",
       "    </tr>\n",
       "    <tr>\n",
       "      <th>2</th>\n",
       "      <td>2</td>\n",
       "      <td>POLYGON ((435.8477564102565 -284.7503205128205...</td>\n",
       "    </tr>\n",
       "    <tr>\n",
       "      <th>3</th>\n",
       "      <td>3</td>\n",
       "      <td>POLYGON ((241.8759615384615 -29.32211538461519...</td>\n",
       "    </tr>\n",
       "    <tr>\n",
       "      <th>4</th>\n",
       "      <td>4</td>\n",
       "      <td>POLYGON ((483.860576923077 -29.32211538461519,...</td>\n",
       "    </tr>\n",
       "    <tr>\n",
       "      <th>5</th>\n",
       "      <td>5</td>\n",
       "      <td>POLYGON ((297.5708333333333 -159.9169871794871...</td>\n",
       "    </tr>\n",
       "    <tr>\n",
       "      <th>6</th>\n",
       "      <td>6</td>\n",
       "      <td>POLYGON ((201.7852564102556 -155.5958333333346...</td>\n",
       "    </tr>\n",
       "    <tr>\n",
       "      <th>7</th>\n",
       "      <td>7</td>\n",
       "      <td>(POLYGON ((663.3976574654281 -128.552467858686...</td>\n",
       "    </tr>\n",
       "    <tr>\n",
       "      <th>8</th>\n",
       "      <td>8</td>\n",
       "      <td>(POLYGON ((248.9901981597521 109.0059483038032...</td>\n",
       "    </tr>\n",
       "    <tr>\n",
       "      <th>9</th>\n",
       "      <td>9</td>\n",
       "      <td>(POLYGON ((183.0017492257273 -413.622567253673...</td>\n",
       "    </tr>\n",
       "  </tbody>\n",
       "</table>\n",
       "</div>"
      ],
      "text/plain": [
       "   id                                           geometry\n",
       "0   1  POLYGON ((151 -285, 352 -279, 352 -279, 364 -3...\n",
       "1  10  (POLYGON ((-43.99851510731804 50.9361132418613...\n",
       "2   2  POLYGON ((435.8477564102565 -284.7503205128205...\n",
       "3   3  POLYGON ((241.8759615384615 -29.32211538461519...\n",
       "4   4  POLYGON ((483.860576923077 -29.32211538461519,...\n",
       "5   5  POLYGON ((297.5708333333333 -159.9169871794871...\n",
       "6   6  POLYGON ((201.7852564102556 -155.5958333333346...\n",
       "7   7  (POLYGON ((663.3976574654281 -128.552467858686...\n",
       "8   8  (POLYGON ((248.9901981597521 109.0059483038032...\n",
       "9   9  (POLYGON ((183.0017492257273 -413.622567253673..."
      ]
     },
     "execution_count": 29,
     "metadata": {},
     "output_type": "execute_result"
    }
   ],
   "source": [
    "gdf"
   ]
  },
  {
   "cell_type": "code",
   "execution_count": 30,
   "metadata": {
    "ExecuteTime": {
     "end_time": "2019-01-22T19:13:58.870467Z",
     "start_time": "2019-01-22T19:13:58.659469Z"
    }
   },
   "outputs": [
    {
     "data": {
      "text/plain": [
       "<matplotlib.axes._subplots.AxesSubplot at 0x116ba1f60>"
      ]
     },
     "execution_count": 30,
     "metadata": {},
     "output_type": "execute_result"
    },
    {
     "data": {
      "image/png": "[encoded data removed]",
      "text/plain": [
       "<Figure size 720x720 with 1 Axes>"
      ]
     },
     "metadata": {
      "needs_background": "light"
     },
     "output_type": "display_data"
    }
   ],
   "source": [
    "gdf.plot(figsize=(10,10))"
   ]
  },
  {
   "cell_type": "code",
   "execution_count": 31,
   "metadata": {
    "ExecuteTime": {
     "end_time": "2019-01-22T19:14:00.390011Z",
     "start_time": "2019-01-22T19:14:00.352666Z"
    }
   },
   "outputs": [
    {
     "data": {
      "text/plain": [
       "0    POLYGON ((151 -285, 352 -279, 352 -279, 364 -3...\n",
       "1    (POLYGON ((-43.99851510731804 50.9361132418613...\n",
       "2    POLYGON ((435.8477564102565 -284.7503205128205...\n",
       "3    POLYGON ((241.8759615384615 -29.32211538461519...\n",
       "4    POLYGON ((483.860576923077 -29.32211538461519,...\n",
       "5    POLYGON ((297.5708333333333 -159.9169871794871...\n",
       "6    POLYGON ((201.7852564102556 -155.5958333333346...\n",
       "7    (POLYGON ((663.3976574654281 -128.552467858686...\n",
       "8    (POLYGON ((248.9901981597521 109.0059483038032...\n",
       "9    (POLYGON ((183.0017492257273 -413.622567253673...\n",
       "Name: geometry, dtype: object"
      ]
     },
     "execution_count": 31,
     "metadata": {},
     "output_type": "execute_result"
    }
   ],
   "source": [
    "geoseries = gdf.geometry\n",
    "geoseries"
   ]
  },
  {
   "cell_type": "code",
   "execution_count": 32,
   "metadata": {
    "ExecuteTime": {
     "end_time": "2019-01-22T19:14:04.702394Z",
     "start_time": "2019-01-22T19:14:04.656806Z"
    }
   },
   "outputs": [
    {
     "data": {
      "text/plain": [
       "0                 (POINT (352 -279), POINT (364 -362))\n",
       "1    (POINT (77.42023093128762 61.49426507130534), ...\n",
       "2       (POINT (547.2375000000002 -355.8092948717949))\n",
       "3       (POINT (349.4246794871795 -123.4272435897435))\n",
       "4       (POINT (543.3964743589745 -27.40160256410235))\n",
       "7       (POINT (774.2582516745898 -213.0176824942379))\n",
       "8    (POINT (373.0484821557188 24.54073366825145), ...\n",
       "9         (POINT (314.978647093777 -524.483161462835))\n",
       "Name: geometry, dtype: object"
      ]
     },
     "execution_count": 32,
     "metadata": {},
     "output_type": "execute_result"
    }
   ],
   "source": [
    "final_geoseries = exterior_duplicates(geoseries)\n",
    "final_geoseries"
   ]
  },
  {
   "cell_type": "code",
   "execution_count": 33,
   "metadata": {
    "ExecuteTime": {
     "end_time": "2019-01-22T19:14:10.931699Z",
     "start_time": "2019-01-22T19:14:10.695883Z"
    }
   },
   "outputs": [
    {
     "data": {
      "text/plain": [
       "<matplotlib.axes._subplots.AxesSubplot at 0x116d129e8>"
      ]
     },
     "execution_count": 33,
     "metadata": {},
     "output_type": "execute_result"
    },
    {
     "data": {
      "image/png": "[encoded data removed]",
      "text/plain": [
       "<Figure size 720x720 with 1 Axes>"
      ]
     },
     "metadata": {
      "needs_background": "light"
     },
     "output_type": "display_data"
    }
   ],
   "source": [
    "ax = geoseries.plot(figsize=(10,10), color='red', alpha=0.5)\n",
    "final_geoseries.plot(ax=ax, color='black', marker='o')"
   ]
  },
  {
   "cell_type": "code",
   "execution_count": null,
   "metadata": {},
   "outputs": [],
   "source": []
  }
 ],
 "metadata": {
  "kernelspec": {
   "display_name": "geopandas_dev",
   "language": "python",
   "name": "geopandas_dev"
  },
  "language_info": {
   "codemirror_mode": {
    "name": "ipython",
    "version": 3
   },
   "file_extension": ".py",
   "mimetype": "text/x-python",
   "name": "python",
   "nbconvert_exporter": "python",
   "pygments_lexer": "ipython3",
   "version": "3.5.5"
  },
  "varInspector": {
   "cols": {
    "lenName": 16,
    "lenType": 16,
    "lenVar": 40
   },
   "kernels_config": {
    "python": {
     "delete_cmd_postfix": "",
     "delete_cmd_prefix": "del ",
     "library": "var_list.py",
     "varRefreshCmd": "print(var_dic_list())"
    },
    "r": {
     "delete_cmd_postfix": ") ",
     "delete_cmd_prefix": "rm(",
     "library": "var_list.r",
     "varRefreshCmd": "cat(var_dic_list()) "
    }
   },
   "types_to_exclude": [
    "module",
    "function",
    "builtin_function_or_method",
    "instance",
    "_Feature"
   ],
   "window_display": false
  }
 },
 "nbformat": 4,
 "nbformat_minor": 2
}
