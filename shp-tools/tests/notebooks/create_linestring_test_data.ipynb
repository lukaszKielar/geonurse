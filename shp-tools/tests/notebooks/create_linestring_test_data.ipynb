{
 "cells": [
  {
   "cell_type": "code",
   "execution_count": 16,
   "metadata": {
    "ExecuteTime": {
     "end_time": "2019-01-28T19:58:03.839458Z",
     "start_time": "2019-01-28T19:58:03.828151Z"
    }
   },
   "outputs": [],
   "source": [
    "%matplotlib inline\n",
    "\n",
    "import collections\n",
    "\n",
    "from shapely.geometry import box\n",
    "from shapely.geometry import GeometryCollection\n",
    "from shapely.geometry import LineString, MultiLineString\n",
    "from shapely.geometry import MultiPoint\n",
    "\n",
    "import warnings\n",
    "\n",
    "import geopandas as gpd"
   ]
  },
  {
   "cell_type": "markdown",
   "metadata": {},
   "source": [
    "# Prepare the data"
   ]
  },
  {
   "cell_type": "markdown",
   "metadata": {},
   "source": [
    "### 1st geometry no duplicates (line1)"
   ]
  },
  {
   "cell_type": "code",
   "execution_count": 2,
   "metadata": {
    "ExecuteTime": {
     "end_time": "2019-01-28T19:54:35.900475Z",
     "start_time": "2019-01-28T19:54:35.889538Z"
    }
   },
   "outputs": [
    {
     "data": {
      "image/svg+xml": [
       "<svg xmlns=\"http://www.w3.org/2000/svg\" xmlns:xlink=\"http://www.w3.org/1999/xlink\" width=\"100.0\" height=\"100.0\" viewBox=\"-0.12 -0.12 3.24 3.24\" preserveAspectRatio=\"xMinYMin meet\"><g transform=\"matrix(1,0,0,-1,0,3.0)\"><polyline fill=\"none\" stroke=\"#66cc99\" stroke-width=\"0.06480000000000001\" points=\"0.0,0.0 0.0,3.0 3.0,3.0 3.0,0.0\" opacity=\"0.8\" /></g></svg>"
      ],
      "text/plain": [
       "<shapely.geometry.linestring.LineString at 0x11ecbec88>"
      ]
     },
     "execution_count": 2,
     "metadata": {},
     "output_type": "execute_result"
    }
   ],
   "source": [
    "coords = [(0., 0.), (0., 3.), (3., 3.), (3., 0.)]\n",
    "line1 = LineString(coords)\n",
    "\n",
    "line1"
   ]
  },
  {
   "cell_type": "markdown",
   "metadata": {},
   "source": [
    "### 1st geometry ring (line1_ring)"
   ]
  },
  {
   "cell_type": "code",
   "execution_count": 3,
   "metadata": {
    "ExecuteTime": {
     "end_time": "2019-01-28T19:54:36.725049Z",
     "start_time": "2019-01-28T19:54:36.715579Z"
    }
   },
   "outputs": [
    {
     "data": {
      "image/svg+xml": [
       "<svg xmlns=\"http://www.w3.org/2000/svg\" xmlns:xlink=\"http://www.w3.org/1999/xlink\" width=\"100.0\" height=\"100.0\" viewBox=\"-0.12 -0.12 3.24 3.24\" preserveAspectRatio=\"xMinYMin meet\"><g transform=\"matrix(1,0,0,-1,0,3.0)\"><polyline fill=\"none\" stroke=\"#66cc99\" stroke-width=\"0.06480000000000001\" points=\"0.0,0.0 0.0,3.0 3.0,3.0 3.0,0.0 0.0,0.0\" opacity=\"0.8\" /></g></svg>"
      ],
      "text/plain": [
       "<shapely.geometry.linestring.LineString at 0x11ecbecf8>"
      ]
     },
     "execution_count": 3,
     "metadata": {},
     "output_type": "execute_result"
    }
   ],
   "source": [
    "coords = [(0., 0.), (0., 3.), (3., 3.), (3., 0.), (0., 0.)]\n",
    "line1_ring = LineString(coords)\n",
    "\n",
    "line1_ring"
   ]
  },
  {
   "cell_type": "markdown",
   "metadata": {},
   "source": [
    "### 1st geometry 1 duplicate (line1_dupl)"
   ]
  },
  {
   "cell_type": "code",
   "execution_count": 4,
   "metadata": {
    "ExecuteTime": {
     "end_time": "2019-01-28T19:54:37.574923Z",
     "start_time": "2019-01-28T19:54:37.563042Z"
    }
   },
   "outputs": [
    {
     "data": {
      "image/svg+xml": [
       "<svg xmlns=\"http://www.w3.org/2000/svg\" xmlns:xlink=\"http://www.w3.org/1999/xlink\" width=\"100.0\" height=\"100.0\" viewBox=\"-0.12 -0.12 3.24 3.24\" preserveAspectRatio=\"xMinYMin meet\"><g transform=\"matrix(1,0,0,-1,0,3.0)\"><polyline fill=\"none\" stroke=\"#66cc99\" stroke-width=\"0.06480000000000001\" points=\"0.0,0.0 0.0,3.0 3.0,3.0 3.0,3.0 3.0,0.0\" opacity=\"0.8\" /></g></svg>"
      ],
      "text/plain": [
       "<shapely.geometry.linestring.LineString at 0x11ecbed68>"
      ]
     },
     "execution_count": 4,
     "metadata": {},
     "output_type": "execute_result"
    }
   ],
   "source": [
    "coords = [(0., 0.), (0., 3.), (3., 3.), (3., 3.), (3., 0.)]\n",
    "line1_dupl = LineString(coords)\n",
    "\n",
    "line1_dupl"
   ]
  },
  {
   "cell_type": "markdown",
   "metadata": {},
   "source": [
    "### 1st geometry ring 1 duplicate (line1_ring_dupl)"
   ]
  },
  {
   "cell_type": "code",
   "execution_count": 5,
   "metadata": {
    "ExecuteTime": {
     "end_time": "2019-01-28T19:54:39.272485Z",
     "start_time": "2019-01-28T19:54:39.263831Z"
    }
   },
   "outputs": [
    {
     "data": {
      "image/svg+xml": [
       "<svg xmlns=\"http://www.w3.org/2000/svg\" xmlns:xlink=\"http://www.w3.org/1999/xlink\" width=\"100.0\" height=\"100.0\" viewBox=\"-0.12 -0.12 3.24 3.24\" preserveAspectRatio=\"xMinYMin meet\"><g transform=\"matrix(1,0,0,-1,0,3.0)\"><polyline fill=\"none\" stroke=\"#66cc99\" stroke-width=\"0.06480000000000001\" points=\"0.0,0.0 0.0,3.0 3.0,3.0 3.0,3.0 3.0,0.0 0.0,0.0\" opacity=\"0.8\" /></g></svg>"
      ],
      "text/plain": [
       "<shapely.geometry.linestring.LineString at 0x11ecbef60>"
      ]
     },
     "execution_count": 5,
     "metadata": {},
     "output_type": "execute_result"
    }
   ],
   "source": [
    "coords = [(0., 0.), (0., 3.), (3., 3.), (3., 3.), (3., 0.), (0., 0.)]\n",
    "line1_ring_dupl = LineString(coords)\n",
    "\n",
    "line1_ring_dupl"
   ]
  },
  {
   "cell_type": "markdown",
   "metadata": {},
   "source": [
    "### multi geometry no duplicates (mpoly)"
   ]
  },
  {
   "cell_type": "code",
   "execution_count": 6,
   "metadata": {
    "ExecuteTime": {
     "end_time": "2019-01-28T19:54:40.661518Z",
     "start_time": "2019-01-28T19:54:40.651508Z"
    }
   },
   "outputs": [
    {
     "data": {
      "image/svg+xml": [
       "<svg xmlns=\"http://www.w3.org/2000/svg\" xmlns:xlink=\"http://www.w3.org/1999/xlink\" width=\"100.0\" height=\"100.0\" viewBox=\"-0.28 -0.28 7.5600000000000005 3.5600000000000005\" preserveAspectRatio=\"xMinYMin meet\"><g transform=\"matrix(1,0,0,-1,0,3.0)\"><g><polyline fill=\"none\" stroke=\"#66cc99\" stroke-width=\"0.1512\" points=\"0.0,0.0 0.0,3.0 3.0,3.0 3.0,0.0\" opacity=\"0.8\" /><polyline fill=\"none\" stroke=\"#66cc99\" stroke-width=\"0.1512\" points=\"4.0,0.0 4.0,3.0 7.0,3.0 7.0,0.0\" opacity=\"0.8\" /></g></g></svg>"
      ],
      "text/plain": [
       "<shapely.geometry.multilinestring.MultiLineString at 0x111054a90>"
      ]
     },
     "execution_count": 6,
     "metadata": {},
     "output_type": "execute_result"
    }
   ],
   "source": [
    "coords = [(0., 0.), (0., 3.), (3., 3.), (3., 0.)]\n",
    "coords2 = [(4., 0.), (4., 3.), (7., 3.), (7., 0.)]\n",
    "mpoly = MultiLineString([coords, coords2])\n",
    "\n",
    "mpoly"
   ]
  },
  {
   "cell_type": "markdown",
   "metadata": {},
   "source": [
    "### multi geometry 1 duplicate (mpoly_1ldupl)"
   ]
  },
  {
   "cell_type": "code",
   "execution_count": 7,
   "metadata": {
    "ExecuteTime": {
     "end_time": "2019-01-28T19:54:41.772076Z",
     "start_time": "2019-01-28T19:54:41.761490Z"
    }
   },
   "outputs": [
    {
     "data": {
      "image/svg+xml": [
       "<svg xmlns=\"http://www.w3.org/2000/svg\" xmlns:xlink=\"http://www.w3.org/1999/xlink\" width=\"100.0\" height=\"100.0\" viewBox=\"-0.28 -0.28 7.5600000000000005 3.5600000000000005\" preserveAspectRatio=\"xMinYMin meet\"><g transform=\"matrix(1,0,0,-1,0,3.0)\"><g><polyline fill=\"none\" stroke=\"#66cc99\" stroke-width=\"0.1512\" points=\"0.0,0.0 0.0,3.0 3.0,3.0 3.0,3.0 3.0,0.0\" opacity=\"0.8\" /><polyline fill=\"none\" stroke=\"#66cc99\" stroke-width=\"0.1512\" points=\"4.0,0.0 4.0,3.0 7.0,3.0 7.0,0.0\" opacity=\"0.8\" /></g></g></svg>"
      ],
      "text/plain": [
       "<shapely.geometry.multilinestring.MultiLineString at 0x111054550>"
      ]
     },
     "execution_count": 7,
     "metadata": {},
     "output_type": "execute_result"
    }
   ],
   "source": [
    "coords = [(0., 0.), (0., 3.), (3., 3.), (3., 3.), (3., 0.)]\n",
    "coords2 = [(4., 0.), (4., 3.), (7., 3.), (7., 0.)]\n",
    "mpoly_lldupl = MultiLineString([coords, coords2])\n",
    "\n",
    "mpoly_lldupl"
   ]
  },
  {
   "cell_type": "markdown",
   "metadata": {},
   "source": [
    "### multi geometry 2 duplicates *1 each* (mpoly_1l1rdupl)"
   ]
  },
  {
   "cell_type": "code",
   "execution_count": 8,
   "metadata": {
    "ExecuteTime": {
     "end_time": "2019-01-28T19:54:43.909414Z",
     "start_time": "2019-01-28T19:54:43.897130Z"
    }
   },
   "outputs": [
    {
     "data": {
      "image/svg+xml": [
       "<svg xmlns=\"http://www.w3.org/2000/svg\" xmlns:xlink=\"http://www.w3.org/1999/xlink\" width=\"100.0\" height=\"100.0\" viewBox=\"-0.28 -0.28 7.5600000000000005 3.5600000000000005\" preserveAspectRatio=\"xMinYMin meet\"><g transform=\"matrix(1,0,0,-1,0,3.0)\"><g><polyline fill=\"none\" stroke=\"#66cc99\" stroke-width=\"0.1512\" points=\"0.0,0.0 0.0,3.0 3.0,3.0 3.0,3.0 3.0,0.0 0.0,0.0\" opacity=\"0.8\" /><polyline fill=\"none\" stroke=\"#66cc99\" stroke-width=\"0.1512\" points=\"4.0,0.0 4.0,3.0 7.0,3.0 7.0,3.0 7.0,0.0\" opacity=\"0.8\" /></g></g></svg>"
      ],
      "text/plain": [
       "<shapely.geometry.multilinestring.MultiLineString at 0x111054208>"
      ]
     },
     "execution_count": 8,
     "metadata": {},
     "output_type": "execute_result"
    }
   ],
   "source": [
    "coords = [(0., 0.), (0., 3.), (3., 3.), (3., 3.), (3., 0.), (0., 0.)]\n",
    "coords2 = [(4., 0.), (4., 3.), (7., 3.), (7., 3.), (7., 0.)]\n",
    "mpoly_1l1rdupl = MultiLineString([coords, coords2])\n",
    "\n",
    "mpoly_1l1rdupl"
   ]
  },
  {
   "cell_type": "markdown",
   "metadata": {},
   "source": [
    "### multi geometry 4 duplicates *2 each* (mpoly_2l2rdupl)"
   ]
  },
  {
   "cell_type": "code",
   "execution_count": 9,
   "metadata": {
    "ExecuteTime": {
     "end_time": "2019-01-28T19:54:45.201789Z",
     "start_time": "2019-01-28T19:54:45.189487Z"
    }
   },
   "outputs": [
    {
     "data": {
      "image/svg+xml": [
       "<svg xmlns=\"http://www.w3.org/2000/svg\" xmlns:xlink=\"http://www.w3.org/1999/xlink\" width=\"100.0\" height=\"100.0\" viewBox=\"-0.28 -0.28 7.5600000000000005 3.5600000000000005\" preserveAspectRatio=\"xMinYMin meet\"><g transform=\"matrix(1,0,0,-1,0,3.0)\"><g><polyline fill=\"none\" stroke=\"#66cc99\" stroke-width=\"0.1512\" points=\"0.0,0.0 0.0,3.0 0.0,3.0 3.0,3.0 3.0,3.0 3.0,0.0\" opacity=\"0.8\" /><polyline fill=\"none\" stroke=\"#66cc99\" stroke-width=\"0.1512\" points=\"4.0,0.0 4.0,3.0 4.0,3.0 7.0,3.0 7.0,3.0 7.0,0.0 4.0,0.0\" opacity=\"0.8\" /></g></g></svg>"
      ],
      "text/plain": [
       "<shapely.geometry.multilinestring.MultiLineString at 0x11ecce080>"
      ]
     },
     "execution_count": 9,
     "metadata": {},
     "output_type": "execute_result"
    }
   ],
   "source": [
    "coords = [(0., 0.), (0., 3.), (0., 3.), (3., 3.), (3., 3.), (3., 0.)]\n",
    "coords2 = [(4., 0.), (4., 3.), (4., 3.), (7., 3.), (7., 3.), (7., 0.), (4., 0.)]\n",
    "mpoly_2l2rdupl = MultiLineString([coords, coords2])\n",
    "\n",
    "mpoly_2l2rdupl"
   ]
  },
  {
   "cell_type": "markdown",
   "metadata": {},
   "source": [
    "## Save the data"
   ]
  },
  {
   "cell_type": "code",
   "execution_count": 11,
   "metadata": {
    "ExecuteTime": {
     "end_time": "2019-01-28T19:55:27.025637Z",
     "start_time": "2019-01-28T19:55:27.020284Z"
    }
   },
   "outputs": [],
   "source": [
    "test_data = {\"description\":[\n",
    "                \"line1\",\n",
    "                \"line1 ring\",\n",
    "                \"line1 dupl\",\n",
    "                \"line1 2dupl\",\n",
    "                \"mpoly\",\n",
    "                \"mpoly 1left dupl\",\n",
    "                \"mpoly 1left 1right dupl\",\n",
    "                \"mpoly 2left 2right dupl\"],\n",
    "             \"geometry\":[\n",
    "                 line1,\n",
    "                 line1_ring,\n",
    "                 line1_dupl,\n",
    "                 line1_ring_dupl,\n",
    "                 mpoly,\n",
    "                 mpoly_lldupl,\n",
    "                 mpoly_1l1rdupl,\n",
    "                 mpoly_2l2rdupl]\n",
    "            }"
   ]
  },
  {
   "cell_type": "code",
   "execution_count": 12,
   "metadata": {
    "ExecuteTime": {
     "end_time": "2019-01-28T19:55:30.122403Z",
     "start_time": "2019-01-28T19:55:30.008751Z"
    }
   },
   "outputs": [
    {
     "data": {
      "text/html": [
       "<div>\n",
       "<style scoped>\n",
       "    .dataframe tbody tr th:only-of-type {\n",
       "        vertical-align: middle;\n",
       "    }\n",
       "\n",
       "    .dataframe tbody tr th {\n",
       "        vertical-align: top;\n",
       "    }\n",
       "\n",
       "    .dataframe thead th {\n",
       "        text-align: right;\n",
       "    }\n",
       "</style>\n",
       "<table border=\"1\" class=\"dataframe\">\n",
       "  <thead>\n",
       "    <tr style=\"text-align: right;\">\n",
       "      <th></th>\n",
       "      <th>description</th>\n",
       "      <th>geometry</th>\n",
       "    </tr>\n",
       "  </thead>\n",
       "  <tbody>\n",
       "    <tr>\n",
       "      <th>0</th>\n",
       "      <td>line1</td>\n",
       "      <td>LINESTRING (0 0, 0 3, 3 3, 3 0)</td>\n",
       "    </tr>\n",
       "    <tr>\n",
       "      <th>1</th>\n",
       "      <td>line1 ring</td>\n",
       "      <td>LINESTRING (0 0, 0 3, 3 3, 3 0, 0 0)</td>\n",
       "    </tr>\n",
       "    <tr>\n",
       "      <th>2</th>\n",
       "      <td>line1 dupl</td>\n",
       "      <td>LINESTRING (0 0, 0 3, 3 3, 3 3, 3 0)</td>\n",
       "    </tr>\n",
       "    <tr>\n",
       "      <th>3</th>\n",
       "      <td>line1 2dupl</td>\n",
       "      <td>LINESTRING (0 0, 0 3, 3 3, 3 3, 3 0, 0 0)</td>\n",
       "    </tr>\n",
       "    <tr>\n",
       "      <th>4</th>\n",
       "      <td>mpoly</td>\n",
       "      <td>(LINESTRING (0 0, 0 3, 3 3, 3 0), LINESTRING (...</td>\n",
       "    </tr>\n",
       "    <tr>\n",
       "      <th>5</th>\n",
       "      <td>mpoly 1left dupl</td>\n",
       "      <td>(LINESTRING (0 0, 0 3, 3 3, 3 3, 3 0), LINESTR...</td>\n",
       "    </tr>\n",
       "    <tr>\n",
       "      <th>6</th>\n",
       "      <td>mpoly 1left 1right dupl</td>\n",
       "      <td>(LINESTRING (0 0, 0 3, 3 3, 3 3, 3 0, 0 0), LI...</td>\n",
       "    </tr>\n",
       "    <tr>\n",
       "      <th>7</th>\n",
       "      <td>mpoly 2left 2right dupl</td>\n",
       "      <td>(LINESTRING (0 0, 0 3, 0 3, 3 3, 3 3, 3 0), LI...</td>\n",
       "    </tr>\n",
       "  </tbody>\n",
       "</table>\n",
       "</div>"
      ],
      "text/plain": [
       "               description                                           geometry\n",
       "0                    line1                    LINESTRING (0 0, 0 3, 3 3, 3 0)\n",
       "1               line1 ring               LINESTRING (0 0, 0 3, 3 3, 3 0, 0 0)\n",
       "2               line1 dupl               LINESTRING (0 0, 0 3, 3 3, 3 3, 3 0)\n",
       "3              line1 2dupl          LINESTRING (0 0, 0 3, 3 3, 3 3, 3 0, 0 0)\n",
       "4                    mpoly  (LINESTRING (0 0, 0 3, 3 3, 3 0), LINESTRING (...\n",
       "5         mpoly 1left dupl  (LINESTRING (0 0, 0 3, 3 3, 3 3, 3 0), LINESTR...\n",
       "6  mpoly 1left 1right dupl  (LINESTRING (0 0, 0 3, 3 3, 3 3, 3 0, 0 0), LI...\n",
       "7  mpoly 2left 2right dupl  (LINESTRING (0 0, 0 3, 0 3, 3 3, 3 3, 3 0), LI..."
      ]
     },
     "execution_count": 12,
     "metadata": {},
     "output_type": "execute_result"
    }
   ],
   "source": [
    "gdf = gpd.GeoDataFrame(test_data)\n",
    "gdf"
   ]
  },
  {
   "cell_type": "code",
   "execution_count": 13,
   "metadata": {
    "ExecuteTime": {
     "end_time": "2019-01-28T19:56:28.235879Z",
     "start_time": "2019-01-28T19:56:28.182535Z"
    }
   },
   "outputs": [],
   "source": [
    "gdf.to_file('../data/topology/linestring_duplicates_test_data.geojson', driver='GeoJSON')"
   ]
  },
  {
   "cell_type": "markdown",
   "metadata": {},
   "source": [
    "## Read the data"
   ]
  },
  {
   "cell_type": "code",
   "execution_count": 14,
   "metadata": {
    "ExecuteTime": {
     "end_time": "2019-01-28T19:56:50.195039Z",
     "start_time": "2019-01-28T19:56:50.172350Z"
    }
   },
   "outputs": [
    {
     "data": {
      "text/html": [
       "<div>\n",
       "<style scoped>\n",
       "    .dataframe tbody tr th:only-of-type {\n",
       "        vertical-align: middle;\n",
       "    }\n",
       "\n",
       "    .dataframe tbody tr th {\n",
       "        vertical-align: top;\n",
       "    }\n",
       "\n",
       "    .dataframe thead th {\n",
       "        text-align: right;\n",
       "    }\n",
       "</style>\n",
       "<table border=\"1\" class=\"dataframe\">\n",
       "  <thead>\n",
       "    <tr style=\"text-align: right;\">\n",
       "      <th></th>\n",
       "      <th>description</th>\n",
       "      <th>geometry</th>\n",
       "    </tr>\n",
       "  </thead>\n",
       "  <tbody>\n",
       "    <tr>\n",
       "      <th>0</th>\n",
       "      <td>line1</td>\n",
       "      <td>LINESTRING (0 0, 0 3, 3 3, 3 0)</td>\n",
       "    </tr>\n",
       "    <tr>\n",
       "      <th>1</th>\n",
       "      <td>line1 ring</td>\n",
       "      <td>LINESTRING (0 0, 0 3, 3 3, 3 0, 0 0)</td>\n",
       "    </tr>\n",
       "    <tr>\n",
       "      <th>2</th>\n",
       "      <td>line1 dupl</td>\n",
       "      <td>LINESTRING (0 0, 0 3, 3 3, 3 3, 3 0)</td>\n",
       "    </tr>\n",
       "    <tr>\n",
       "      <th>3</th>\n",
       "      <td>line1 2dupl</td>\n",
       "      <td>LINESTRING (0 0, 0 3, 3 3, 3 3, 3 0, 0 0)</td>\n",
       "    </tr>\n",
       "    <tr>\n",
       "      <th>4</th>\n",
       "      <td>mpoly</td>\n",
       "      <td>(LINESTRING (0 0, 0 3, 3 3, 3 0), LINESTRING (...</td>\n",
       "    </tr>\n",
       "    <tr>\n",
       "      <th>5</th>\n",
       "      <td>mpoly 1left dupl</td>\n",
       "      <td>(LINESTRING (0 0, 0 3, 3 3, 3 3, 3 0), LINESTR...</td>\n",
       "    </tr>\n",
       "    <tr>\n",
       "      <th>6</th>\n",
       "      <td>mpoly 1left 1right dupl</td>\n",
       "      <td>(LINESTRING (0 0, 0 3, 3 3, 3 3, 3 0, 0 0), LI...</td>\n",
       "    </tr>\n",
       "    <tr>\n",
       "      <th>7</th>\n",
       "      <td>mpoly 2left 2right dupl</td>\n",
       "      <td>(LINESTRING (0 0, 0 3, 0 3, 3 3, 3 3, 3 0), LI...</td>\n",
       "    </tr>\n",
       "  </tbody>\n",
       "</table>\n",
       "</div>"
      ],
      "text/plain": [
       "               description                                           geometry\n",
       "0                    line1                    LINESTRING (0 0, 0 3, 3 3, 3 0)\n",
       "1               line1 ring               LINESTRING (0 0, 0 3, 3 3, 3 0, 0 0)\n",
       "2               line1 dupl               LINESTRING (0 0, 0 3, 3 3, 3 3, 3 0)\n",
       "3              line1 2dupl          LINESTRING (0 0, 0 3, 3 3, 3 3, 3 0, 0 0)\n",
       "4                    mpoly  (LINESTRING (0 0, 0 3, 3 3, 3 0), LINESTRING (...\n",
       "5         mpoly 1left dupl  (LINESTRING (0 0, 0 3, 3 3, 3 3, 3 0), LINESTR...\n",
       "6  mpoly 1left 1right dupl  (LINESTRING (0 0, 0 3, 3 3, 3 3, 3 0, 0 0), LI...\n",
       "7  mpoly 2left 2right dupl  (LINESTRING (0 0, 0 3, 0 3, 3 3, 3 3, 3 0), LI..."
      ]
     },
     "execution_count": 14,
     "metadata": {},
     "output_type": "execute_result"
    }
   ],
   "source": [
    "gdf = gpd.read_file('../data/topology/linestring_duplicates_test_data.geojson')\n",
    "gdf"
   ]
  },
  {
   "cell_type": "code",
   "execution_count": 15,
   "metadata": {
    "ExecuteTime": {
     "end_time": "2019-01-28T19:56:54.620084Z",
     "start_time": "2019-01-28T19:56:54.610767Z"
    }
   },
   "outputs": [
    {
     "data": {
      "image/svg+xml": [
       "<svg xmlns=\"http://www.w3.org/2000/svg\" xmlns:xlink=\"http://www.w3.org/1999/xlink\" width=\"100.0\" height=\"100.0\" viewBox=\"-0.28 -0.28 7.5600000000000005 3.5600000000000005\" preserveAspectRatio=\"xMinYMin meet\"><g transform=\"matrix(1,0,0,-1,0,3.0)\"><g><polyline fill=\"none\" stroke=\"#66cc99\" stroke-width=\"0.1512\" points=\"0.0,0.0 0.0,3.0 0.0,3.0 3.0,3.0 3.0,3.0 3.0,0.0\" opacity=\"0.8\" /><polyline fill=\"none\" stroke=\"#66cc99\" stroke-width=\"0.1512\" points=\"4.0,0.0 4.0,3.0 4.0,3.0 7.0,3.0 7.0,3.0 7.0,0.0 4.0,0.0\" opacity=\"0.8\" /></g></g></svg>"
      ],
      "text/plain": [
       "<shapely.geometry.multilinestring.MultiLineString at 0x11ed64dd8>"
      ]
     },
     "execution_count": 15,
     "metadata": {},
     "output_type": "execute_result"
    }
   ],
   "source": [
    "gdf.geometry[7]"
   ]
  },
  {
   "cell_type": "markdown",
   "metadata": {},
   "source": [
    "## Expected geometries"
   ]
  },
  {
   "cell_type": "code",
   "execution_count": 22,
   "metadata": {
    "ExecuteTime": {
     "end_time": "2019-01-28T20:03:03.859318Z",
     "start_time": "2019-01-28T20:03:03.850895Z"
    }
   },
   "outputs": [],
   "source": [
    "expected_data = {\"description\":\n",
    "             [\n",
    "                \"line1\",\n",
    "                \"line1 ring\",\n",
    "                \"line1 dupl\",\n",
    "                \"line1 2dupl\",\n",
    "                \"mpoly\",\n",
    "                \"mpoly 1left dupl\",\n",
    "                \"mpoly 1left 1right dupl\",\n",
    "                \"mpoly 2left 2right dupl\"\n",
    "             ],\n",
    "             \"geometry\":\n",
    "             [\n",
    "                 None,\n",
    "                 MultiPoint([[0.,0.]]),\n",
    "                 MultiPoint([[3.,3.]]),\n",
    "                 MultiPoint([[0.,0.], [3.,3.]]),\n",
    "                 None,\n",
    "                 MultiPoint([[3.,3.]]),\n",
    "                 MultiPoint([[0.,0.], [3.,3.], [7.,3.]]),\n",
    "                 MultiPoint([[0.,0.], [3.,3.], [4.,0.], [4.,3.], [7.,3.]])\n",
    "             ]\n",
    "            }"
   ]
  },
  {
   "cell_type": "code",
   "execution_count": 24,
   "metadata": {
    "ExecuteTime": {
     "end_time": "2019-01-28T20:03:43.890692Z",
     "start_time": "2019-01-28T20:03:43.872285Z"
    }
   },
   "outputs": [
    {
     "data": {
      "text/html": [
       "<div>\n",
       "<style scoped>\n",
       "    .dataframe tbody tr th:only-of-type {\n",
       "        vertical-align: middle;\n",
       "    }\n",
       "\n",
       "    .dataframe tbody tr th {\n",
       "        vertical-align: top;\n",
       "    }\n",
       "\n",
       "    .dataframe thead th {\n",
       "        text-align: right;\n",
       "    }\n",
       "</style>\n",
       "<table border=\"1\" class=\"dataframe\">\n",
       "  <thead>\n",
       "    <tr style=\"text-align: right;\">\n",
       "      <th></th>\n",
       "      <th>description</th>\n",
       "      <th>geometry</th>\n",
       "    </tr>\n",
       "  </thead>\n",
       "  <tbody>\n",
       "    <tr>\n",
       "      <th>0</th>\n",
       "      <td>line1</td>\n",
       "      <td>None</td>\n",
       "    </tr>\n",
       "    <tr>\n",
       "      <th>1</th>\n",
       "      <td>line1 ring</td>\n",
       "      <td>(POINT (0 0))</td>\n",
       "    </tr>\n",
       "    <tr>\n",
       "      <th>2</th>\n",
       "      <td>line1 dupl</td>\n",
       "      <td>(POINT (3 3))</td>\n",
       "    </tr>\n",
       "    <tr>\n",
       "      <th>3</th>\n",
       "      <td>line1 2dupl</td>\n",
       "      <td>(POINT (0 0), POINT (3 3))</td>\n",
       "    </tr>\n",
       "    <tr>\n",
       "      <th>4</th>\n",
       "      <td>mpoly</td>\n",
       "      <td>None</td>\n",
       "    </tr>\n",
       "    <tr>\n",
       "      <th>5</th>\n",
       "      <td>mpoly 1left dupl</td>\n",
       "      <td>(POINT (3 3))</td>\n",
       "    </tr>\n",
       "    <tr>\n",
       "      <th>6</th>\n",
       "      <td>mpoly 1left 1right dupl</td>\n",
       "      <td>(POINT (0 0), POINT (3 3), POINT (7 3))</td>\n",
       "    </tr>\n",
       "    <tr>\n",
       "      <th>7</th>\n",
       "      <td>mpoly 2left 2right dupl</td>\n",
       "      <td>(POINT (0 0), POINT (3 3), POINT (4 0), POINT ...</td>\n",
       "    </tr>\n",
       "  </tbody>\n",
       "</table>\n",
       "</div>"
      ],
      "text/plain": [
       "               description                                           geometry\n",
       "0                    line1                                               None\n",
       "1               line1 ring                                      (POINT (0 0))\n",
       "2               line1 dupl                                      (POINT (3 3))\n",
       "3              line1 2dupl                         (POINT (0 0), POINT (3 3))\n",
       "4                    mpoly                                               None\n",
       "5         mpoly 1left dupl                                      (POINT (3 3))\n",
       "6  mpoly 1left 1right dupl            (POINT (0 0), POINT (3 3), POINT (7 3))\n",
       "7  mpoly 2left 2right dupl  (POINT (0 0), POINT (3 3), POINT (4 0), POINT ..."
      ]
     },
     "execution_count": 24,
     "metadata": {},
     "output_type": "execute_result"
    }
   ],
   "source": [
    "expected_data_gdf = gpd.GeoDataFrame(expected_data)\n",
    "expected_data_gdf"
   ]
  },
  {
   "cell_type": "code",
   "execution_count": 25,
   "metadata": {
    "ExecuteTime": {
     "end_time": "2019-01-28T20:04:06.294919Z",
     "start_time": "2019-01-28T20:04:06.276930Z"
    }
   },
   "outputs": [],
   "source": [
    "expected_data_gdf.to_file('../data/topology/linestring_duplicates_expected_data.geojson', driver='GeoJSON')"
   ]
  },
  {
   "cell_type": "code",
   "execution_count": 26,
   "metadata": {
    "ExecuteTime": {
     "end_time": "2019-01-28T20:04:25.693191Z",
     "start_time": "2019-01-28T20:04:25.672565Z"
    }
   },
   "outputs": [
    {
     "data": {
      "text/html": [
       "<div>\n",
       "<style scoped>\n",
       "    .dataframe tbody tr th:only-of-type {\n",
       "        vertical-align: middle;\n",
       "    }\n",
       "\n",
       "    .dataframe tbody tr th {\n",
       "        vertical-align: top;\n",
       "    }\n",
       "\n",
       "    .dataframe thead th {\n",
       "        text-align: right;\n",
       "    }\n",
       "</style>\n",
       "<table border=\"1\" class=\"dataframe\">\n",
       "  <thead>\n",
       "    <tr style=\"text-align: right;\">\n",
       "      <th></th>\n",
       "      <th>description</th>\n",
       "      <th>geometry</th>\n",
       "    </tr>\n",
       "  </thead>\n",
       "  <tbody>\n",
       "    <tr>\n",
       "      <th>0</th>\n",
       "      <td>line1</td>\n",
       "      <td>None</td>\n",
       "    </tr>\n",
       "    <tr>\n",
       "      <th>1</th>\n",
       "      <td>line1 ring</td>\n",
       "      <td>(POINT (0 0))</td>\n",
       "    </tr>\n",
       "    <tr>\n",
       "      <th>2</th>\n",
       "      <td>line1 dupl</td>\n",
       "      <td>(POINT (3 3))</td>\n",
       "    </tr>\n",
       "    <tr>\n",
       "      <th>3</th>\n",
       "      <td>line1 2dupl</td>\n",
       "      <td>(POINT (0 0), POINT (3 3))</td>\n",
       "    </tr>\n",
       "    <tr>\n",
       "      <th>4</th>\n",
       "      <td>mpoly</td>\n",
       "      <td>None</td>\n",
       "    </tr>\n",
       "    <tr>\n",
       "      <th>5</th>\n",
       "      <td>mpoly 1left dupl</td>\n",
       "      <td>(POINT (3 3))</td>\n",
       "    </tr>\n",
       "    <tr>\n",
       "      <th>6</th>\n",
       "      <td>mpoly 1left 1right dupl</td>\n",
       "      <td>(POINT (0 0), POINT (3 3), POINT (7 3))</td>\n",
       "    </tr>\n",
       "    <tr>\n",
       "      <th>7</th>\n",
       "      <td>mpoly 2left 2right dupl</td>\n",
       "      <td>(POINT (0 0), POINT (3 3), POINT (4 0), POINT ...</td>\n",
       "    </tr>\n",
       "  </tbody>\n",
       "</table>\n",
       "</div>"
      ],
      "text/plain": [
       "               description                                           geometry\n",
       "0                    line1                                               None\n",
       "1               line1 ring                                      (POINT (0 0))\n",
       "2               line1 dupl                                      (POINT (3 3))\n",
       "3              line1 2dupl                         (POINT (0 0), POINT (3 3))\n",
       "4                    mpoly                                               None\n",
       "5         mpoly 1left dupl                                      (POINT (3 3))\n",
       "6  mpoly 1left 1right dupl            (POINT (0 0), POINT (3 3), POINT (7 3))\n",
       "7  mpoly 2left 2right dupl  (POINT (0 0), POINT (3 3), POINT (4 0), POINT ..."
      ]
     },
     "execution_count": 26,
     "metadata": {},
     "output_type": "execute_result"
    }
   ],
   "source": [
    "expected_data_gdf = gpd.read_file('../data/topology/linestring_duplicates_expected_data.geojson')\n",
    "expected_data_gdf"
   ]
  },
  {
   "cell_type": "code",
   "execution_count": null,
   "metadata": {},
   "outputs": [],
   "source": []
  }
 ],
 "metadata": {
  "kernelspec": {
   "display_name": "geopandas_dev",
   "language": "python",
   "name": "geopandas_dev"
  },
  "language_info": {
   "codemirror_mode": {
    "name": "ipython",
    "version": 3
   },
   "file_extension": ".py",
   "mimetype": "text/x-python",
   "name": "python",
   "nbconvert_exporter": "python",
   "pygments_lexer": "ipython3",
   "version": "3.5.5"
  },
  "varInspector": {
   "cols": {
    "lenName": 16,
    "lenType": 16,
    "lenVar": 40
   },
   "kernels_config": {
    "python": {
     "delete_cmd_postfix": "",
     "delete_cmd_prefix": "del ",
     "library": "var_list.py",
     "varRefreshCmd": "print(var_dic_list())"
    },
    "r": {
     "delete_cmd_postfix": ") ",
     "delete_cmd_prefix": "rm(",
     "library": "var_list.r",
     "varRefreshCmd": "cat(var_dic_list()) "
    }
   },
   "types_to_exclude": [
    "module",
    "function",
    "builtin_function_or_method",
    "instance",
    "_Feature"
   ],
   "window_display": false
  }
 },
 "nbformat": 4,
 "nbformat_minor": 2
}
