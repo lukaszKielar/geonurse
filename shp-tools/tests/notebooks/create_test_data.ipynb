{
 "cells": [
  {
   "cell_type": "code",
   "execution_count": null,
   "metadata": {
    "ExecuteTime": {
     "end_time": "2019-01-22T17:35:48.455545Z",
     "start_time": "2019-01-22T17:35:47.616274Z"
    }
   },
   "outputs": [],
   "source": [
    "%matplotlib inline\n",
    "\n",
    "import collections\n",
    "\n",
    "from shapely.geometry import box\n",
    "from shapely.geometry import GeometryCollection\n",
    "from shapely.geometry import Polygon, MultiPolygon\n",
    "from shapely.geometry import MultiPoint\n",
    "\n",
    "import warnings\n",
    "\n",
    "import geopandas as gpd\n",
    "from shapely.geometry import Polygon, MultiPolygon"
   ]
  },
  {
   "cell_type": "markdown",
   "metadata": {},
   "source": [
    "# Prepare the data"
   ]
  },
  {
   "cell_type": "code",
   "execution_count": 9,
   "metadata": {
    "ExecuteTime": {
     "end_time": "2019-01-22T17:37:52.344062Z",
     "start_time": "2019-01-22T17:37:52.340524Z"
    }
   },
   "outputs": [],
   "source": [
    "geometries = []\n",
    "description = []\n",
    "test_data = {\"descr\":description,\n",
    "             \"geometry\":geometries}"
   ]
  },
  {
   "cell_type": "markdown",
   "metadata": {},
   "source": [
    "## 1st & 2nd geom"
   ]
  },
  {
   "cell_type": "markdown",
   "metadata": {},
   "source": [
    "### no dupl"
   ]
  },
  {
   "cell_type": "code",
   "execution_count": 10,
   "metadata": {
    "ExecuteTime": {
     "end_time": "2019-01-22T17:39:42.027279Z",
     "start_time": "2019-01-22T17:39:42.014707Z"
    }
   },
   "outputs": [
    {
     "data": {
      "image/svg+xml": [
       "<svg xmlns=\"http://www.w3.org/2000/svg\" xmlns:xlink=\"http://www.w3.org/1999/xlink\" width=\"100.0\" height=\"100.0\" viewBox=\"-0.12 -0.12 3.24 3.24\" preserveAspectRatio=\"xMinYMin meet\"><g transform=\"matrix(1,0,0,-1,0,3.0)\"><path fill-rule=\"evenodd\" fill=\"#66cc99\" stroke=\"#555555\" stroke-width=\"0.06480000000000001\" opacity=\"0.6\" d=\"M 0.0,0.0 L 0.0,3.0 L 3.0,3.0 L 3.0,0.0 L 0.0,0.0 z\" /></g></svg>"
      ],
      "text/plain": [
       "<shapely.geometry.polygon.Polygon at 0x1126c7b38>"
      ]
     },
     "execution_count": 10,
     "metadata": {},
     "output_type": "execute_result"
    }
   ],
   "source": [
    "coords = [(0., 0.), (0., 3.), (3., 3.), (3., 0.), (0., 0.)]\n",
    "poly = Polygon(coords)\n",
    "\n",
    "description.append('geom1 no dupl')\n",
    "geometries.append(poly)\n",
    "\n",
    "poly"
   ]
  },
  {
   "cell_type": "code",
   "execution_count": 16,
   "metadata": {
    "ExecuteTime": {
     "end_time": "2019-01-22T17:47:29.080467Z",
     "start_time": "2019-01-22T17:47:29.067743Z"
    }
   },
   "outputs": [
    {
     "data": {
      "image/svg+xml": [
       "<svg xmlns=\"http://www.w3.org/2000/svg\" xmlns:xlink=\"http://www.w3.org/1999/xlink\" width=\"100.0\" height=\"100.0\" viewBox=\"4.88 -0.12 3.2399999999999993 3.24\" preserveAspectRatio=\"xMinYMin meet\"><g transform=\"matrix(1,0,0,-1,0,3.0)\"><path fill-rule=\"evenodd\" fill=\"#66cc99\" stroke=\"#555555\" stroke-width=\"0.06480000000000001\" opacity=\"0.6\" d=\"M 5.0,0.0 L 5.0,3.0 L 8.0,3.0 L 8.0,0.0 L 5.0,0.0 z\" /></g></svg>"
      ],
      "text/plain": [
       "<shapely.geometry.polygon.Polygon at 0x1126c7780>"
      ]
     },
     "execution_count": 16,
     "metadata": {},
     "output_type": "execute_result"
    }
   ],
   "source": [
    "coords = [(5., 0.), (5., 3.), (8., 3.), (8., 0.), (5., 0.)]\n",
    "poly2 = Polygon(coords)\n",
    "\n",
    "description.append('geom2 no dupl')\n",
    "geometries.append(poly2)\n",
    "\n",
    "poly2"
   ]
  },
  {
   "cell_type": "markdown",
   "metadata": {},
   "source": [
    "### 1 dupl"
   ]
  },
  {
   "cell_type": "code",
   "execution_count": 11,
   "metadata": {
    "ExecuteTime": {
     "end_time": "2019-01-22T17:40:41.355782Z",
     "start_time": "2019-01-22T17:40:41.348169Z"
    }
   },
   "outputs": [
    {
     "data": {
      "image/svg+xml": [
       "<svg xmlns=\"http://www.w3.org/2000/svg\" xmlns:xlink=\"http://www.w3.org/1999/xlink\" width=\"100.0\" height=\"100.0\" viewBox=\"-0.12 -0.12 3.24 3.24\" preserveAspectRatio=\"xMinYMin meet\"><g transform=\"matrix(1,0,0,-1,0,3.0)\"><path fill-rule=\"evenodd\" fill=\"#66cc99\" stroke=\"#555555\" stroke-width=\"0.06480000000000001\" opacity=\"0.6\" d=\"M 0.0,0.0 L 0.0,3.0 L 3.0,3.0 L 3.0,0.0 L 3.0,0.0 L 0.0,0.0 z\" /></g></svg>"
      ],
      "text/plain": [
       "<shapely.geometry.polygon.Polygon at 0x1126c7c50>"
      ]
     },
     "execution_count": 11,
     "metadata": {},
     "output_type": "execute_result"
    }
   ],
   "source": [
    "coords = [(0., 0.), (0., 3.), (3., 3.), (3., 0.), (3., 0.), (0., 0.)]\n",
    "poly_1_dupl = Polygon(coords)\n",
    "\n",
    "description.append('geom1 1 dupl')\n",
    "geometries.append(poly_1_dupl)\n",
    "\n",
    "poly_1_dupl"
   ]
  },
  {
   "cell_type": "code",
   "execution_count": 17,
   "metadata": {
    "ExecuteTime": {
     "end_time": "2019-01-22T17:48:26.731752Z",
     "start_time": "2019-01-22T17:48:26.720462Z"
    }
   },
   "outputs": [
    {
     "data": {
      "image/svg+xml": [
       "<svg xmlns=\"http://www.w3.org/2000/svg\" xmlns:xlink=\"http://www.w3.org/1999/xlink\" width=\"100.0\" height=\"100.0\" viewBox=\"4.88 -0.12 3.2399999999999993 3.24\" preserveAspectRatio=\"xMinYMin meet\"><g transform=\"matrix(1,0,0,-1,0,3.0)\"><path fill-rule=\"evenodd\" fill=\"#66cc99\" stroke=\"#555555\" stroke-width=\"0.06480000000000001\" opacity=\"0.6\" d=\"M 5.0,0.0 L 5.0,3.0 L 8.0,3.0 L 8.0,0.0 L 8.0,0.0 L 5.0,0.0 z\" /></g></svg>"
      ],
      "text/plain": [
       "<shapely.geometry.polygon.Polygon at 0x1126c7518>"
      ]
     },
     "execution_count": 17,
     "metadata": {},
     "output_type": "execute_result"
    }
   ],
   "source": [
    "coords = [(5., 0.), (5., 3.), (8., 3.), (8., 0.), (8., 0.), (5., 0.)]\n",
    "poly2_1_dupl = Polygon(coords)\n",
    "\n",
    "description.append('geom2 1 dupl')\n",
    "geometries.append(poly2_1_dupl)\n",
    "\n",
    "poly2_1_dupl"
   ]
  },
  {
   "cell_type": "markdown",
   "metadata": {},
   "source": [
    "### 2 dupl"
   ]
  },
  {
   "cell_type": "code",
   "execution_count": 12,
   "metadata": {
    "ExecuteTime": {
     "end_time": "2019-01-22T17:40:57.189951Z",
     "start_time": "2019-01-22T17:40:57.176167Z"
    }
   },
   "outputs": [
    {
     "data": {
      "image/svg+xml": [
       "<svg xmlns=\"http://www.w3.org/2000/svg\" xmlns:xlink=\"http://www.w3.org/1999/xlink\" width=\"100.0\" height=\"100.0\" viewBox=\"-0.12 -0.12 3.24 3.24\" preserveAspectRatio=\"xMinYMin meet\"><g transform=\"matrix(1,0,0,-1,0,3.0)\"><path fill-rule=\"evenodd\" fill=\"#66cc99\" stroke=\"#555555\" stroke-width=\"0.06480000000000001\" opacity=\"0.6\" d=\"M 0.0,0.0 L 0.0,3.0 L 3.0,3.0 L 3.0,3.0 L 3.0,0.0 L 3.0,0.0 L 0.0,0.0 z\" /></g></svg>"
      ],
      "text/plain": [
       "<shapely.geometry.polygon.Polygon at 0x1126c71d0>"
      ]
     },
     "execution_count": 12,
     "metadata": {},
     "output_type": "execute_result"
    }
   ],
   "source": [
    "coords = [(0., 0.), (0., 3.), (3., 3.), (3., 3.), (3., 0.), (3., 0.), (0., 0.)]\n",
    "poly_2_dupl = Polygon(coords)\n",
    "\n",
    "description.append('geom1 2 dupl')\n",
    "geometries.append(poly_2_dupl)\n",
    "\n",
    "poly_2_dupl"
   ]
  },
  {
   "cell_type": "code",
   "execution_count": 18,
   "metadata": {
    "ExecuteTime": {
     "end_time": "2019-01-22T17:49:26.243108Z",
     "start_time": "2019-01-22T17:49:26.234989Z"
    }
   },
   "outputs": [
    {
     "data": {
      "image/svg+xml": [
       "<svg xmlns=\"http://www.w3.org/2000/svg\" xmlns:xlink=\"http://www.w3.org/1999/xlink\" width=\"100.0\" height=\"100.0\" viewBox=\"4.88 -0.12 3.2399999999999993 3.24\" preserveAspectRatio=\"xMinYMin meet\"><g transform=\"matrix(1,0,0,-1,0,3.0)\"><path fill-rule=\"evenodd\" fill=\"#66cc99\" stroke=\"#555555\" stroke-width=\"0.06480000000000001\" opacity=\"0.6\" d=\"M 5.0,0.0 L 5.0,3.0 L 8.0,3.0 L 8.0,3.0 L 8.0,0.0 L 8.0,0.0 L 5.0,0.0 z\" /></g></svg>"
      ],
      "text/plain": [
       "<shapely.geometry.polygon.Polygon at 0x1126c7e80>"
      ]
     },
     "execution_count": 18,
     "metadata": {},
     "output_type": "execute_result"
    }
   ],
   "source": [
    "coords = [(5., 0.), (5., 3.), (8., 3.), (8., 3.), (8., 0.), (8., 0.), (5., 0.)]\n",
    "poly2_2_dupl = Polygon(coords)\n",
    "\n",
    "description.append('geom2 2 dupl')\n",
    "geometries.append(poly2_2_dupl)\n",
    "\n",
    "poly2_2_dupl"
   ]
  },
  {
   "cell_type": "markdown",
   "metadata": {},
   "source": [
    "### no dupl interior"
   ]
  },
  {
   "cell_type": "code",
   "execution_count": 13,
   "metadata": {
    "ExecuteTime": {
     "end_time": "2019-01-22T17:42:27.349479Z",
     "start_time": "2019-01-22T17:42:27.340857Z"
    }
   },
   "outputs": [
    {
     "data": {
      "image/svg+xml": [
       "<svg xmlns=\"http://www.w3.org/2000/svg\" xmlns:xlink=\"http://www.w3.org/1999/xlink\" width=\"100.0\" height=\"100.0\" viewBox=\"-0.12 -0.12 3.24 3.24\" preserveAspectRatio=\"xMinYMin meet\"><g transform=\"matrix(1,0,0,-1,0,3.0)\"><path fill-rule=\"evenodd\" fill=\"#66cc99\" stroke=\"#555555\" stroke-width=\"0.06480000000000001\" opacity=\"0.6\" d=\"M 0.0,0.0 L 0.0,3.0 L 3.0,3.0 L 3.0,0.0 L 0.0,0.0 z M 1.0,1.0 L 1.0,2.0 L 2.0,2.0 L 2.0,1.0 L 1.0,1.0 z\" /></g></svg>"
      ],
      "text/plain": [
       "<shapely.geometry.polygon.Polygon at 0x104a43550>"
      ]
     },
     "execution_count": 13,
     "metadata": {},
     "output_type": "execute_result"
    }
   ],
   "source": [
    "coords = [(0., 0.), (0., 3.), (3., 3.), (3., 0.), (0., 0.)]\n",
    "interior = [(1., 1.), (1., 2.), (2., 2.), (2., 1.), (1., 1.)]\n",
    "poly_int = Polygon(coords, [interior])\n",
    "\n",
    "description.append('geom1 int no dupl')\n",
    "geometries.append(poly_int)\n",
    "\n",
    "poly_int"
   ]
  },
  {
   "cell_type": "code",
   "execution_count": 19,
   "metadata": {
    "ExecuteTime": {
     "end_time": "2019-01-22T17:50:55.102226Z",
     "start_time": "2019-01-22T17:50:55.085958Z"
    }
   },
   "outputs": [
    {
     "data": {
      "image/svg+xml": [
       "<svg xmlns=\"http://www.w3.org/2000/svg\" xmlns:xlink=\"http://www.w3.org/1999/xlink\" width=\"100.0\" height=\"100.0\" viewBox=\"4.88 -0.12 3.2399999999999993 3.24\" preserveAspectRatio=\"xMinYMin meet\"><g transform=\"matrix(1,0,0,-1,0,3.0)\"><path fill-rule=\"evenodd\" fill=\"#66cc99\" stroke=\"#555555\" stroke-width=\"0.06480000000000001\" opacity=\"0.6\" d=\"M 5.0,0.0 L 5.0,3.0 L 8.0,3.0 L 8.0,0.0 L 5.0,0.0 z M 6.0,1.0 L 6.0,2.0 L 7.0,2.0 L 7.0,1.0 L 6.0,1.0 z\" /></g></svg>"
      ],
      "text/plain": [
       "<shapely.geometry.polygon.Polygon at 0x1126cf1d0>"
      ]
     },
     "execution_count": 19,
     "metadata": {},
     "output_type": "execute_result"
    }
   ],
   "source": [
    "coords = [(5., 0.), (5., 3.), (8., 3.), (8., 0.), (5., 0.)]\n",
    "interior = [(6., 1.), (6., 2.), (7., 2.), (7., 1.), (6., 1.)]\n",
    "poly2_int = Polygon(coords, [interior])\n",
    "\n",
    "description.append('geom2 int no dupl')\n",
    "geometries.append(poly2_int)\n",
    "\n",
    "poly2_int"
   ]
  },
  {
   "cell_type": "markdown",
   "metadata": {},
   "source": [
    "### 1 dupl interior"
   ]
  },
  {
   "cell_type": "code",
   "execution_count": 14,
   "metadata": {
    "ExecuteTime": {
     "end_time": "2019-01-22T17:42:55.361271Z",
     "start_time": "2019-01-22T17:42:55.347730Z"
    }
   },
   "outputs": [
    {
     "data": {
      "image/svg+xml": [
       "<svg xmlns=\"http://www.w3.org/2000/svg\" xmlns:xlink=\"http://www.w3.org/1999/xlink\" width=\"100.0\" height=\"100.0\" viewBox=\"-0.12 -0.12 3.24 3.24\" preserveAspectRatio=\"xMinYMin meet\"><g transform=\"matrix(1,0,0,-1,0,3.0)\"><path fill-rule=\"evenodd\" fill=\"#66cc99\" stroke=\"#555555\" stroke-width=\"0.06480000000000001\" opacity=\"0.6\" d=\"M 0.0,0.0 L 0.0,3.0 L 3.0,3.0 L 3.0,0.0 L 3.0,0.0 L 0.0,0.0 z M 1.0,1.0 L 1.0,2.0 L 2.0,2.0 L 2.0,1.0 L 1.0,1.0 z\" /></g></svg>"
      ],
      "text/plain": [
       "<shapely.geometry.polygon.Polygon at 0x1126c7ba8>"
      ]
     },
     "execution_count": 14,
     "metadata": {},
     "output_type": "execute_result"
    }
   ],
   "source": [
    "coords = [(0., 0.), (0., 3.), (3., 3.), (3., 0.), (3., 0.), (0., 0.)]\n",
    "interior = [(1., 1.), (1., 2.), (2., 2.), (2., 1.), (1., 1.)]\n",
    "poly_int_1_dupl = Polygon(coords, [interior])\n",
    "\n",
    "description.append('geom1 int 1 dupl')\n",
    "geometries.append(poly_int_1_dupl)\n",
    "\n",
    "poly_int_1_dupl"
   ]
  },
  {
   "cell_type": "code",
   "execution_count": 20,
   "metadata": {
    "ExecuteTime": {
     "end_time": "2019-01-22T17:51:41.698492Z",
     "start_time": "2019-01-22T17:51:41.687908Z"
    }
   },
   "outputs": [
    {
     "data": {
      "image/svg+xml": [
       "<svg xmlns=\"http://www.w3.org/2000/svg\" xmlns:xlink=\"http://www.w3.org/1999/xlink\" width=\"100.0\" height=\"100.0\" viewBox=\"4.88 -0.12 3.2399999999999993 3.24\" preserveAspectRatio=\"xMinYMin meet\"><g transform=\"matrix(1,0,0,-1,0,3.0)\"><path fill-rule=\"evenodd\" fill=\"#66cc99\" stroke=\"#555555\" stroke-width=\"0.06480000000000001\" opacity=\"0.6\" d=\"M 5.0,0.0 L 5.0,3.0 L 8.0,3.0 L 8.0,0.0 L 8.0,0.0 L 5.0,0.0 z M 6.0,1.0 L 6.0,2.0 L 7.0,2.0 L 7.0,1.0 L 6.0,1.0 z\" /></g></svg>"
      ],
      "text/plain": [
       "<shapely.geometry.polygon.Polygon at 0x1126cf390>"
      ]
     },
     "execution_count": 20,
     "metadata": {},
     "output_type": "execute_result"
    }
   ],
   "source": [
    "coords = [(5., 0.), (5., 3.), (8., 3.), (8., 0.), (8., 0.), (5., 0.)]\n",
    "interior = [(6., 1.), (6., 2.), (7., 2.), (7., 1.), (6., 1.)]\n",
    "poly2_int_1_dupl = Polygon(coords, [interior])\n",
    "\n",
    "description.append('geom2 int 1 dupl')\n",
    "geometries.append(poly2_int_1_dupl)\n",
    "\n",
    "poly2_int_1_dupl"
   ]
  },
  {
   "cell_type": "markdown",
   "metadata": {},
   "source": [
    "### 2 dupl interior"
   ]
  },
  {
   "cell_type": "code",
   "execution_count": 15,
   "metadata": {
    "ExecuteTime": {
     "end_time": "2019-01-22T17:43:37.533552Z",
     "start_time": "2019-01-22T17:43:37.519044Z"
    }
   },
   "outputs": [
    {
     "data": {
      "image/svg+xml": [
       "<svg xmlns=\"http://www.w3.org/2000/svg\" xmlns:xlink=\"http://www.w3.org/1999/xlink\" width=\"100.0\" height=\"100.0\" viewBox=\"-0.12 -0.12 3.24 3.24\" preserveAspectRatio=\"xMinYMin meet\"><g transform=\"matrix(1,0,0,-1,0,3.0)\"><path fill-rule=\"evenodd\" fill=\"#66cc99\" stroke=\"#555555\" stroke-width=\"0.06480000000000001\" opacity=\"0.6\" d=\"M 0.0,0.0 L 0.0,3.0 L 3.0,3.0 L 3.0,3.0 L 3.0,0.0 L 3.0,0.0 L 0.0,0.0 z M 1.0,1.0 L 1.0,2.0 L 2.0,2.0 L 2.0,1.0 L 1.0,1.0 z\" /></g></svg>"
      ],
      "text/plain": [
       "<shapely.geometry.polygon.Polygon at 0x104a43358>"
      ]
     },
     "execution_count": 15,
     "metadata": {},
     "output_type": "execute_result"
    }
   ],
   "source": [
    "coords = [(0., 0.), (0., 3.), (3., 3.), (3., 3.), (3., 0.), (3., 0.), (0., 0.)]\n",
    "interior = [(1., 1.), (1., 2.), (2., 2.), (2., 1.), (1., 1.)]\n",
    "poly_int_2_dupl = Polygon(coords, [interior])\n",
    "\n",
    "description.append('geom1 int 2 dupl')\n",
    "geometries.append(poly_int_2_dupl)\n",
    "\n",
    "poly_int_2_dupl"
   ]
  },
  {
   "cell_type": "code",
   "execution_count": 21,
   "metadata": {
    "ExecuteTime": {
     "end_time": "2019-01-22T17:53:13.585012Z",
     "start_time": "2019-01-22T17:53:13.571855Z"
    }
   },
   "outputs": [
    {
     "data": {
      "image/svg+xml": [
       "<svg xmlns=\"http://www.w3.org/2000/svg\" xmlns:xlink=\"http://www.w3.org/1999/xlink\" width=\"100.0\" height=\"100.0\" viewBox=\"4.88 -0.12 3.2399999999999993 3.24\" preserveAspectRatio=\"xMinYMin meet\"><g transform=\"matrix(1,0,0,-1,0,3.0)\"><path fill-rule=\"evenodd\" fill=\"#66cc99\" stroke=\"#555555\" stroke-width=\"0.06480000000000001\" opacity=\"0.6\" d=\"M 5.0,0.0 L 5.0,3.0 L 8.0,3.0 L 8.0,3.0 L 8.0,0.0 L 8.0,0.0 L 5.0,0.0 z M 6.0,1.0 L 6.0,2.0 L 7.0,2.0 L 7.0,1.0 L 6.0,1.0 z\" /></g></svg>"
      ],
      "text/plain": [
       "<shapely.geometry.polygon.Polygon at 0x1126cf240>"
      ]
     },
     "execution_count": 21,
     "metadata": {},
     "output_type": "execute_result"
    }
   ],
   "source": [
    "coords = [(5., 0.), (5., 3.), (8., 3.), (8., 3.), (8., 0.), (8., 0.), (5., 0.)]\n",
    "interior = [(6., 1.), (6., 2.), (7., 2.), (7., 1.), (6., 1.)]\n",
    "poly2_int_2_dupl = Polygon(coords, [interior])\n",
    "\n",
    "description.append('geom2 int 2 dupl')\n",
    "geometries.append(poly2_int_2_dupl)\n",
    "\n",
    "poly2_int_2_dupl"
   ]
  },
  {
   "cell_type": "markdown",
   "metadata": {},
   "source": [
    "## multigeom 1"
   ]
  },
  {
   "cell_type": "markdown",
   "metadata": {},
   "source": [
    "### no dupl"
   ]
  },
  {
   "cell_type": "code",
   "execution_count": 23,
   "metadata": {
    "ExecuteTime": {
     "end_time": "2019-01-22T17:56:52.624140Z",
     "start_time": "2019-01-22T17:56:52.610578Z"
    }
   },
   "outputs": [
    {
     "data": {
      "image/svg+xml": [
       "<svg xmlns=\"http://www.w3.org/2000/svg\" xmlns:xlink=\"http://www.w3.org/1999/xlink\" width=\"100.0\" height=\"100.0\" viewBox=\"-0.32 -0.32 8.64 3.6399999999999997\" preserveAspectRatio=\"xMinYMin meet\"><g transform=\"matrix(1,0,0,-1,0,3.0)\"><g><path fill-rule=\"evenodd\" fill=\"#66cc99\" stroke=\"#555555\" stroke-width=\"0.1728\" opacity=\"0.6\" d=\"M 0.0,0.0 L 0.0,3.0 L 3.0,3.0 L 3.0,0.0 L 0.0,0.0 z\" /><path fill-rule=\"evenodd\" fill=\"#66cc99\" stroke=\"#555555\" stroke-width=\"0.1728\" opacity=\"0.6\" d=\"M 5.0,0.0 L 5.0,3.0 L 8.0,3.0 L 8.0,0.0 L 5.0,0.0 z\" /></g></g></svg>"
      ],
      "text/plain": [
       "<shapely.geometry.multipolygon.MultiPolygon at 0x1126c7b00>"
      ]
     },
     "execution_count": 23,
     "metadata": {},
     "output_type": "execute_result"
    }
   ],
   "source": [
    "multipoly = MultiPolygon([poly, poly2])\n",
    "\n",
    "description.append('geoms no dupl')\n",
    "geometries.append(multipoly)\n",
    "\n",
    "multipoly"
   ]
  },
  {
   "cell_type": "code",
   "execution_count": 30,
   "metadata": {
    "ExecuteTime": {
     "end_time": "2019-01-22T18:03:48.170829Z",
     "start_time": "2019-01-22T18:03:48.156976Z"
    }
   },
   "outputs": [
    {
     "data": {
      "image/svg+xml": [
       "<svg xmlns=\"http://www.w3.org/2000/svg\" xmlns:xlink=\"http://www.w3.org/1999/xlink\" width=\"100.0\" height=\"100.0\" viewBox=\"-0.32 -0.32 8.64 3.6399999999999997\" preserveAspectRatio=\"xMinYMin meet\"><g transform=\"matrix(1,0,0,-1,0,3.0)\"><g><path fill-rule=\"evenodd\" fill=\"#66cc99\" stroke=\"#555555\" stroke-width=\"0.1728\" opacity=\"0.6\" d=\"M 0.0,0.0 L 0.0,3.0 L 3.0,3.0 L 3.0,0.0 L 0.0,0.0 z M 1.0,1.0 L 1.0,2.0 L 2.0,2.0 L 2.0,1.0 L 1.0,1.0 z\" /><path fill-rule=\"evenodd\" fill=\"#66cc99\" stroke=\"#555555\" stroke-width=\"0.1728\" opacity=\"0.6\" d=\"M 5.0,0.0 L 5.0,3.0 L 8.0,3.0 L 8.0,0.0 L 5.0,0.0 z M 6.0,1.0 L 6.0,2.0 L 7.0,2.0 L 7.0,1.0 L 6.0,1.0 z\" /></g></g></svg>"
      ],
      "text/plain": [
       "<shapely.geometry.multipolygon.MultiPolygon at 0x1126cfef0>"
      ]
     },
     "execution_count": 30,
     "metadata": {},
     "output_type": "execute_result"
    }
   ],
   "source": [
    "multipoly_int = MultiPolygon([poly_int, poly2_int])\n",
    "\n",
    "description.append('geoms int no dupl')\n",
    "geometries.append(multipoly_int)\n",
    "\n",
    "multipoly_int"
   ]
  },
  {
   "cell_type": "markdown",
   "metadata": {},
   "source": [
    "### 1 duplicate"
   ]
  },
  {
   "cell_type": "code",
   "execution_count": 24,
   "metadata": {
    "ExecuteTime": {
     "end_time": "2019-01-22T17:58:17.408422Z",
     "start_time": "2019-01-22T17:58:17.398086Z"
    }
   },
   "outputs": [
    {
     "data": {
      "image/svg+xml": [
       "<svg xmlns=\"http://www.w3.org/2000/svg\" xmlns:xlink=\"http://www.w3.org/1999/xlink\" width=\"100.0\" height=\"100.0\" viewBox=\"-0.32 -0.32 8.64 3.6399999999999997\" preserveAspectRatio=\"xMinYMin meet\"><g transform=\"matrix(1,0,0,-1,0,3.0)\"><g><path fill-rule=\"evenodd\" fill=\"#66cc99\" stroke=\"#555555\" stroke-width=\"0.1728\" opacity=\"0.6\" d=\"M 0.0,0.0 L 0.0,3.0 L 3.0,3.0 L 3.0,0.0 L 0.0,0.0 z\" /><path fill-rule=\"evenodd\" fill=\"#66cc99\" stroke=\"#555555\" stroke-width=\"0.1728\" opacity=\"0.6\" d=\"M 5.0,0.0 L 5.0,3.0 L 8.0,3.0 L 8.0,0.0 L 5.0,0.0 z\" /></g></g></svg>"
      ],
      "text/plain": [
       "<shapely.geometry.multipolygon.MultiPolygon at 0x1126c7b00>"
      ]
     },
     "execution_count": 24,
     "metadata": {},
     "output_type": "execute_result"
    }
   ],
   "source": [
    "multipoly_1l_dupl = MultiPolygon([poly_1_dupl, poly2])\n",
    "\n",
    "description.append('geoms 1 dupl left')\n",
    "geometries.append(multipoly_1l_dupl)\n",
    "\n",
    "multipoly_1l_dupl"
   ]
  },
  {
   "cell_type": "code",
   "execution_count": 25,
   "metadata": {
    "ExecuteTime": {
     "end_time": "2019-01-22T17:59:26.424706Z",
     "start_time": "2019-01-22T17:59:26.416952Z"
    }
   },
   "outputs": [
    {
     "data": {
      "image/svg+xml": [
       "<svg xmlns=\"http://www.w3.org/2000/svg\" xmlns:xlink=\"http://www.w3.org/1999/xlink\" width=\"100.0\" height=\"100.0\" viewBox=\"-0.32 -0.32 8.64 3.6399999999999997\" preserveAspectRatio=\"xMinYMin meet\"><g transform=\"matrix(1,0,0,-1,0,3.0)\"><g><path fill-rule=\"evenodd\" fill=\"#66cc99\" stroke=\"#555555\" stroke-width=\"0.1728\" opacity=\"0.6\" d=\"M 0.0,0.0 L 0.0,3.0 L 3.0,3.0 L 3.0,0.0 L 0.0,0.0 z\" /><path fill-rule=\"evenodd\" fill=\"#66cc99\" stroke=\"#555555\" stroke-width=\"0.1728\" opacity=\"0.6\" d=\"M 5.0,0.0 L 5.0,3.0 L 8.0,3.0 L 8.0,0.0 L 8.0,0.0 L 5.0,0.0 z\" /></g></g></svg>"
      ],
      "text/plain": [
       "<shapely.geometry.multipolygon.MultiPolygon at 0x1126c7be0>"
      ]
     },
     "execution_count": 25,
     "metadata": {},
     "output_type": "execute_result"
    }
   ],
   "source": [
    "multipoly_1r_dupl = MultiPolygon([poly, poly2_1_dupl])\n",
    "\n",
    "description.append('geoms 1 dupl right')\n",
    "geometries.append(multipoly_1r_dupl)\n",
    "\n",
    "multipoly_1r_dupl"
   ]
  },
  {
   "cell_type": "code",
   "execution_count": 26,
   "metadata": {
    "ExecuteTime": {
     "end_time": "2019-01-22T18:00:05.546408Z",
     "start_time": "2019-01-22T18:00:05.535712Z"
    }
   },
   "outputs": [
    {
     "data": {
      "image/svg+xml": [
       "<svg xmlns=\"http://www.w3.org/2000/svg\" xmlns:xlink=\"http://www.w3.org/1999/xlink\" width=\"100.0\" height=\"100.0\" viewBox=\"-0.32 -0.32 8.64 3.6399999999999997\" preserveAspectRatio=\"xMinYMin meet\"><g transform=\"matrix(1,0,0,-1,0,3.0)\"><g><path fill-rule=\"evenodd\" fill=\"#66cc99\" stroke=\"#555555\" stroke-width=\"0.1728\" opacity=\"0.6\" d=\"M 0.0,0.0 L 0.0,3.0 L 3.0,3.0 L 3.0,0.0 L 3.0,0.0 L 0.0,0.0 z M 1.0,1.0 L 1.0,2.0 L 2.0,2.0 L 2.0,1.0 L 1.0,1.0 z\" /><path fill-rule=\"evenodd\" fill=\"#66cc99\" stroke=\"#555555\" stroke-width=\"0.1728\" opacity=\"0.6\" d=\"M 5.0,0.0 L 5.0,3.0 L 8.0,3.0 L 8.0,0.0 L 5.0,0.0 z M 6.0,1.0 L 6.0,2.0 L 7.0,2.0 L 7.0,1.0 L 6.0,1.0 z\" /></g></g></svg>"
      ],
      "text/plain": [
       "<shapely.geometry.multipolygon.MultiPolygon at 0x1126c7eb8>"
      ]
     },
     "execution_count": 26,
     "metadata": {},
     "output_type": "execute_result"
    }
   ],
   "source": [
    "multipoly_1l_int_dupl = MultiPolygon([poly_int_1_dupl, poly2_int])\n",
    "\n",
    "description.append('geoms 1 dupl int left')\n",
    "geometries.append(multipoly_1l_int_dupl)\n",
    "\n",
    "multipoly_1l_int_dupl"
   ]
  },
  {
   "cell_type": "code",
   "execution_count": 27,
   "metadata": {
    "ExecuteTime": {
     "end_time": "2019-01-22T18:00:46.301571Z",
     "start_time": "2019-01-22T18:00:46.291230Z"
    }
   },
   "outputs": [
    {
     "data": {
      "image/svg+xml": [
       "<svg xmlns=\"http://www.w3.org/2000/svg\" xmlns:xlink=\"http://www.w3.org/1999/xlink\" width=\"100.0\" height=\"100.0\" viewBox=\"-0.32 -0.32 8.64 3.6399999999999997\" preserveAspectRatio=\"xMinYMin meet\"><g transform=\"matrix(1,0,0,-1,0,3.0)\"><g><path fill-rule=\"evenodd\" fill=\"#66cc99\" stroke=\"#555555\" stroke-width=\"0.1728\" opacity=\"0.6\" d=\"M 0.0,0.0 L 0.0,3.0 L 3.0,3.0 L 3.0,0.0 L 0.0,0.0 z M 1.0,1.0 L 1.0,2.0 L 2.0,2.0 L 2.0,1.0 L 1.0,1.0 z\" /><path fill-rule=\"evenodd\" fill=\"#66cc99\" stroke=\"#555555\" stroke-width=\"0.1728\" opacity=\"0.6\" d=\"M 5.0,0.0 L 5.0,3.0 L 8.0,3.0 L 8.0,0.0 L 8.0,0.0 L 5.0,0.0 z M 6.0,1.0 L 6.0,2.0 L 7.0,2.0 L 7.0,1.0 L 6.0,1.0 z\" /></g></g></svg>"
      ],
      "text/plain": [
       "<shapely.geometry.multipolygon.MultiPolygon at 0x1126cf438>"
      ]
     },
     "execution_count": 27,
     "metadata": {},
     "output_type": "execute_result"
    }
   ],
   "source": [
    "multipoly_1r_int_dupl = MultiPolygon([poly_int, poly2_int_1_dupl])\n",
    "\n",
    "description.append('geoms 1 dupl int right')\n",
    "geometries.append(multipoly_1r_int_dupl)\n",
    "\n",
    "multipoly_1r_int_dupl"
   ]
  },
  {
   "cell_type": "markdown",
   "metadata": {},
   "source": [
    "### 2 duplicates"
   ]
  },
  {
   "cell_type": "code",
   "execution_count": 28,
   "metadata": {
    "ExecuteTime": {
     "end_time": "2019-01-22T18:02:20.302578Z",
     "start_time": "2019-01-22T18:02:20.294780Z"
    }
   },
   "outputs": [
    {
     "data": {
      "image/svg+xml": [
       "<svg xmlns=\"http://www.w3.org/2000/svg\" xmlns:xlink=\"http://www.w3.org/1999/xlink\" width=\"100.0\" height=\"100.0\" viewBox=\"-0.32 -0.32 8.64 3.6399999999999997\" preserveAspectRatio=\"xMinYMin meet\"><g transform=\"matrix(1,0,0,-1,0,3.0)\"><g><path fill-rule=\"evenodd\" fill=\"#66cc99\" stroke=\"#555555\" stroke-width=\"0.1728\" opacity=\"0.6\" d=\"M 0.0,0.0 L 0.0,3.0 L 3.0,3.0 L 3.0,0.0 L 3.0,0.0 L 0.0,0.0 z\" /><path fill-rule=\"evenodd\" fill=\"#66cc99\" stroke=\"#555555\" stroke-width=\"0.1728\" opacity=\"0.6\" d=\"M 5.0,0.0 L 5.0,3.0 L 8.0,3.0 L 8.0,0.0 L 8.0,0.0 L 5.0,0.0 z\" /></g></g></svg>"
      ],
      "text/plain": [
       "<shapely.geometry.multipolygon.MultiPolygon at 0x1126c7320>"
      ]
     },
     "execution_count": 28,
     "metadata": {},
     "output_type": "execute_result"
    }
   ],
   "source": [
    "multipoly_1l_1r_dupl = MultiPolygon([poly_1_dupl, poly2_1_dupl])\n",
    "\n",
    "description.append('geoms 1l 1r dupl')\n",
    "geometries.append(multipoly_1l_1r_dupl)\n",
    "\n",
    "multipoly_1l_1r_dupl"
   ]
  },
  {
   "cell_type": "code",
   "execution_count": 29,
   "metadata": {
    "ExecuteTime": {
     "end_time": "2019-01-22T18:03:11.503112Z",
     "start_time": "2019-01-22T18:03:11.495263Z"
    }
   },
   "outputs": [
    {
     "data": {
      "image/svg+xml": [
       "<svg xmlns=\"http://www.w3.org/2000/svg\" xmlns:xlink=\"http://www.w3.org/1999/xlink\" width=\"100.0\" height=\"100.0\" viewBox=\"-0.32 -0.32 8.64 3.6399999999999997\" preserveAspectRatio=\"xMinYMin meet\"><g transform=\"matrix(1,0,0,-1,0,3.0)\"><g><path fill-rule=\"evenodd\" fill=\"#66cc99\" stroke=\"#555555\" stroke-width=\"0.1728\" opacity=\"0.6\" d=\"M 0.0,0.0 L 0.0,3.0 L 3.0,3.0 L 3.0,0.0 L 3.0,0.0 L 0.0,0.0 z M 1.0,1.0 L 1.0,2.0 L 2.0,2.0 L 2.0,1.0 L 1.0,1.0 z\" /><path fill-rule=\"evenodd\" fill=\"#66cc99\" stroke=\"#555555\" stroke-width=\"0.1728\" opacity=\"0.6\" d=\"M 5.0,0.0 L 5.0,3.0 L 8.0,3.0 L 8.0,0.0 L 8.0,0.0 L 5.0,0.0 z M 6.0,1.0 L 6.0,2.0 L 7.0,2.0 L 7.0,1.0 L 6.0,1.0 z\" /></g></g></svg>"
      ],
      "text/plain": [
       "<shapely.geometry.multipolygon.MultiPolygon at 0x1126cfa20>"
      ]
     },
     "execution_count": 29,
     "metadata": {},
     "output_type": "execute_result"
    }
   ],
   "source": [
    "multipoly_1l_1r_int_dupl = MultiPolygon([poly_int_1_dupl, poly2_int_1_dupl])\n",
    "\n",
    "description.append('geoms 1l 1r int dupl')\n",
    "geometries.append(multipoly_1l_1r_int_dupl)\n",
    "\n",
    "multipoly_1l_1r_int_dupl"
   ]
  },
  {
   "cell_type": "code",
   "execution_count": 31,
   "metadata": {
    "ExecuteTime": {
     "end_time": "2019-01-22T18:05:41.623998Z",
     "start_time": "2019-01-22T18:05:41.616805Z"
    }
   },
   "outputs": [
    {
     "data": {
      "image/svg+xml": [
       "<svg xmlns=\"http://www.w3.org/2000/svg\" xmlns:xlink=\"http://www.w3.org/1999/xlink\" width=\"100.0\" height=\"100.0\" viewBox=\"-0.32 -0.32 8.64 3.6399999999999997\" preserveAspectRatio=\"xMinYMin meet\"><g transform=\"matrix(1,0,0,-1,0,3.0)\"><g><path fill-rule=\"evenodd\" fill=\"#66cc99\" stroke=\"#555555\" stroke-width=\"0.1728\" opacity=\"0.6\" d=\"M 0.0,0.0 L 0.0,3.0 L 3.0,3.0 L 3.0,3.0 L 3.0,0.0 L 3.0,0.0 L 0.0,0.0 z\" /><path fill-rule=\"evenodd\" fill=\"#66cc99\" stroke=\"#555555\" stroke-width=\"0.1728\" opacity=\"0.6\" d=\"M 5.0,0.0 L 5.0,3.0 L 8.0,3.0 L 8.0,0.0 L 5.0,0.0 z\" /></g></g></svg>"
      ],
      "text/plain": [
       "<shapely.geometry.multipolygon.MultiPolygon at 0x1126cff98>"
      ]
     },
     "execution_count": 31,
     "metadata": {},
     "output_type": "execute_result"
    }
   ],
   "source": [
    "multipoly_2l_dupl = MultiPolygon([poly_2_dupl, poly2])\n",
    "\n",
    "description.append('geoms 2l dupl')\n",
    "geometries.append(multipoly_2l_dupl)\n",
    "\n",
    "multipoly_2l_dupl"
   ]
  },
  {
   "cell_type": "code",
   "execution_count": 32,
   "metadata": {
    "ExecuteTime": {
     "end_time": "2019-01-22T18:06:25.458915Z",
     "start_time": "2019-01-22T18:06:25.447360Z"
    }
   },
   "outputs": [
    {
     "data": {
      "image/svg+xml": [
       "<svg xmlns=\"http://www.w3.org/2000/svg\" xmlns:xlink=\"http://www.w3.org/1999/xlink\" width=\"100.0\" height=\"100.0\" viewBox=\"-0.32 -0.32 8.64 3.6399999999999997\" preserveAspectRatio=\"xMinYMin meet\"><g transform=\"matrix(1,0,0,-1,0,3.0)\"><g><path fill-rule=\"evenodd\" fill=\"#66cc99\" stroke=\"#555555\" stroke-width=\"0.1728\" opacity=\"0.6\" d=\"M 0.0,0.0 L 0.0,3.0 L 3.0,3.0 L 3.0,0.0 L 0.0,0.0 z\" /><path fill-rule=\"evenodd\" fill=\"#66cc99\" stroke=\"#555555\" stroke-width=\"0.1728\" opacity=\"0.6\" d=\"M 5.0,0.0 L 5.0,3.0 L 8.0,3.0 L 8.0,3.0 L 8.0,0.0 L 8.0,0.0 L 5.0,0.0 z\" /></g></g></svg>"
      ],
      "text/plain": [
       "<shapely.geometry.multipolygon.MultiPolygon at 0x1126cfa90>"
      ]
     },
     "execution_count": 32,
     "metadata": {},
     "output_type": "execute_result"
    }
   ],
   "source": [
    "multipoly_2r_dupl = MultiPolygon([poly, poly2_2_dupl])\n",
    "\n",
    "description.append('geoms 2r dupl')\n",
    "geometries.append(multipoly_2r_dupl)\n",
    "\n",
    "multipoly_2r_dupl"
   ]
  },
  {
   "cell_type": "code",
   "execution_count": 33,
   "metadata": {
    "ExecuteTime": {
     "end_time": "2019-01-22T18:07:13.741063Z",
     "start_time": "2019-01-22T18:07:13.733569Z"
    }
   },
   "outputs": [
    {
     "data": {
      "image/svg+xml": [
       "<svg xmlns=\"http://www.w3.org/2000/svg\" xmlns:xlink=\"http://www.w3.org/1999/xlink\" width=\"100.0\" height=\"100.0\" viewBox=\"-0.32 -0.32 8.64 3.6399999999999997\" preserveAspectRatio=\"xMinYMin meet\"><g transform=\"matrix(1,0,0,-1,0,3.0)\"><g><path fill-rule=\"evenodd\" fill=\"#66cc99\" stroke=\"#555555\" stroke-width=\"0.1728\" opacity=\"0.6\" d=\"M 0.0,0.0 L 0.0,3.0 L 3.0,3.0 L 3.0,3.0 L 3.0,0.0 L 3.0,0.0 L 0.0,0.0 z M 1.0,1.0 L 1.0,2.0 L 2.0,2.0 L 2.0,1.0 L 1.0,1.0 z\" /><path fill-rule=\"evenodd\" fill=\"#66cc99\" stroke=\"#555555\" stroke-width=\"0.1728\" opacity=\"0.6\" d=\"M 5.0,0.0 L 5.0,3.0 L 8.0,3.0 L 8.0,0.0 L 5.0,0.0 z M 6.0,1.0 L 6.0,2.0 L 7.0,2.0 L 7.0,1.0 L 6.0,1.0 z\" /></g></g></svg>"
      ],
      "text/plain": [
       "<shapely.geometry.multipolygon.MultiPolygon at 0x1126cf668>"
      ]
     },
     "execution_count": 33,
     "metadata": {},
     "output_type": "execute_result"
    }
   ],
   "source": [
    "multipoly_2l_int_dupl = MultiPolygon([poly_int_2_dupl, poly2_int])\n",
    "\n",
    "description.append('geoms 2l int dupl')\n",
    "geometries.append(multipoly_2l_int_dupl)\n",
    "\n",
    "multipoly_2l_int_dupl"
   ]
  },
  {
   "cell_type": "code",
   "execution_count": 34,
   "metadata": {
    "ExecuteTime": {
     "end_time": "2019-01-22T18:07:46.868514Z",
     "start_time": "2019-01-22T18:07:46.856306Z"
    }
   },
   "outputs": [
    {
     "data": {
      "image/svg+xml": [
       "<svg xmlns=\"http://www.w3.org/2000/svg\" xmlns:xlink=\"http://www.w3.org/1999/xlink\" width=\"100.0\" height=\"100.0\" viewBox=\"-0.32 -0.32 8.64 3.6399999999999997\" preserveAspectRatio=\"xMinYMin meet\"><g transform=\"matrix(1,0,0,-1,0,3.0)\"><g><path fill-rule=\"evenodd\" fill=\"#66cc99\" stroke=\"#555555\" stroke-width=\"0.1728\" opacity=\"0.6\" d=\"M 0.0,0.0 L 0.0,3.0 L 3.0,3.0 L 3.0,0.0 L 0.0,0.0 z M 1.0,1.0 L 1.0,2.0 L 2.0,2.0 L 2.0,1.0 L 1.0,1.0 z\" /><path fill-rule=\"evenodd\" fill=\"#66cc99\" stroke=\"#555555\" stroke-width=\"0.1728\" opacity=\"0.6\" d=\"M 5.0,0.0 L 5.0,3.0 L 8.0,3.0 L 8.0,3.0 L 8.0,0.0 L 8.0,0.0 L 5.0,0.0 z M 6.0,1.0 L 6.0,2.0 L 7.0,2.0 L 7.0,1.0 L 6.0,1.0 z\" /></g></g></svg>"
      ],
      "text/plain": [
       "<shapely.geometry.multipolygon.MultiPolygon at 0x1126cf4e0>"
      ]
     },
     "execution_count": 34,
     "metadata": {},
     "output_type": "execute_result"
    }
   ],
   "source": [
    "multipoly_2r_int_dupl = MultiPolygon([poly_int, poly2_int_2_dupl])\n",
    "\n",
    "description.append('geoms 2r int dupl')\n",
    "geometries.append(multipoly_2r_int_dupl)\n",
    "\n",
    "multipoly_2r_int_dupl"
   ]
  },
  {
   "cell_type": "markdown",
   "metadata": {},
   "source": [
    "### 4 dupl"
   ]
  },
  {
   "cell_type": "code",
   "execution_count": 35,
   "metadata": {
    "ExecuteTime": {
     "end_time": "2019-01-22T18:08:30.596493Z",
     "start_time": "2019-01-22T18:08:30.586078Z"
    }
   },
   "outputs": [
    {
     "data": {
      "image/svg+xml": [
       "<svg xmlns=\"http://www.w3.org/2000/svg\" xmlns:xlink=\"http://www.w3.org/1999/xlink\" width=\"100.0\" height=\"100.0\" viewBox=\"-0.32 -0.32 8.64 3.6399999999999997\" preserveAspectRatio=\"xMinYMin meet\"><g transform=\"matrix(1,0,0,-1,0,3.0)\"><g><path fill-rule=\"evenodd\" fill=\"#66cc99\" stroke=\"#555555\" stroke-width=\"0.1728\" opacity=\"0.6\" d=\"M 0.0,0.0 L 0.0,3.0 L 3.0,3.0 L 3.0,3.0 L 3.0,0.0 L 3.0,0.0 L 0.0,0.0 z\" /><path fill-rule=\"evenodd\" fill=\"#66cc99\" stroke=\"#555555\" stroke-width=\"0.1728\" opacity=\"0.6\" d=\"M 5.0,0.0 L 5.0,3.0 L 8.0,3.0 L 8.0,3.0 L 8.0,0.0 L 8.0,0.0 L 5.0,0.0 z\" /></g></g></svg>"
      ],
      "text/plain": [
       "<shapely.geometry.multipolygon.MultiPolygon at 0x1126cf208>"
      ]
     },
     "execution_count": 35,
     "metadata": {},
     "output_type": "execute_result"
    }
   ],
   "source": [
    "multipoly_2l_2r_dupl = MultiPolygon([poly_2_dupl, poly2_2_dupl])\n",
    "\n",
    "description.append('geoms 2l 2r dupl')\n",
    "geometries.append(multipoly_2l_2r_dupl)\n",
    "\n",
    "multipoly_2l_2r_dupl"
   ]
  },
  {
   "cell_type": "code",
   "execution_count": 36,
   "metadata": {
    "ExecuteTime": {
     "end_time": "2019-01-22T18:09:16.670623Z",
     "start_time": "2019-01-22T18:09:16.661724Z"
    }
   },
   "outputs": [
    {
     "data": {
      "image/svg+xml": [
       "<svg xmlns=\"http://www.w3.org/2000/svg\" xmlns:xlink=\"http://www.w3.org/1999/xlink\" width=\"100.0\" height=\"100.0\" viewBox=\"-0.32 -0.32 8.64 3.6399999999999997\" preserveAspectRatio=\"xMinYMin meet\"><g transform=\"matrix(1,0,0,-1,0,3.0)\"><g><path fill-rule=\"evenodd\" fill=\"#66cc99\" stroke=\"#555555\" stroke-width=\"0.1728\" opacity=\"0.6\" d=\"M 0.0,0.0 L 0.0,3.0 L 3.0,3.0 L 3.0,3.0 L 3.0,0.0 L 3.0,0.0 L 0.0,0.0 z M 1.0,1.0 L 1.0,2.0 L 2.0,2.0 L 2.0,1.0 L 1.0,1.0 z\" /><path fill-rule=\"evenodd\" fill=\"#66cc99\" stroke=\"#555555\" stroke-width=\"0.1728\" opacity=\"0.6\" d=\"M 5.0,0.0 L 5.0,3.0 L 8.0,3.0 L 8.0,3.0 L 8.0,0.0 L 8.0,0.0 L 5.0,0.0 z M 6.0,1.0 L 6.0,2.0 L 7.0,2.0 L 7.0,1.0 L 6.0,1.0 z\" /></g></g></svg>"
      ],
      "text/plain": [
       "<shapely.geometry.multipolygon.MultiPolygon at 0x1126cfe80>"
      ]
     },
     "execution_count": 36,
     "metadata": {},
     "output_type": "execute_result"
    }
   ],
   "source": [
    "multipoly_2l_2r_int_dupl = MultiPolygon([poly_int_2_dupl, poly2_int_2_dupl])\n",
    "\n",
    "description.append('geoms 2l 2r int dupl')\n",
    "geometries.append(multipoly_2l_2r_int_dupl)\n",
    "\n",
    "multipoly_2l_2r_int_dupl"
   ]
  },
  {
   "cell_type": "code",
   "execution_count": 37,
   "metadata": {
    "ExecuteTime": {
     "end_time": "2019-01-22T18:10:20.413200Z",
     "start_time": "2019-01-22T18:10:20.355533Z"
    }
   },
   "outputs": [
    {
     "data": {
      "text/html": [
       "<div>\n",
       "<style scoped>\n",
       "    .dataframe tbody tr th:only-of-type {\n",
       "        vertical-align: middle;\n",
       "    }\n",
       "\n",
       "    .dataframe tbody tr th {\n",
       "        vertical-align: top;\n",
       "    }\n",
       "\n",
       "    .dataframe thead th {\n",
       "        text-align: right;\n",
       "    }\n",
       "</style>\n",
       "<table border=\"1\" class=\"dataframe\">\n",
       "  <thead>\n",
       "    <tr style=\"text-align: right;\">\n",
       "      <th></th>\n",
       "      <th>descr</th>\n",
       "      <th>geometry</th>\n",
       "    </tr>\n",
       "  </thead>\n",
       "  <tbody>\n",
       "    <tr>\n",
       "      <th>0</th>\n",
       "      <td>geom1 no dupl</td>\n",
       "      <td>POLYGON ((0 0, 0 3, 3 3, 3 0, 0 0))</td>\n",
       "    </tr>\n",
       "    <tr>\n",
       "      <th>1</th>\n",
       "      <td>geom1 1 dupl</td>\n",
       "      <td>POLYGON ((0 0, 0 3, 3 3, 3 0, 3 0, 0 0))</td>\n",
       "    </tr>\n",
       "    <tr>\n",
       "      <th>2</th>\n",
       "      <td>geom1 2 dupl</td>\n",
       "      <td>POLYGON ((0 0, 0 3, 3 3, 3 3, 3 0, 3 0, 0 0))</td>\n",
       "    </tr>\n",
       "    <tr>\n",
       "      <th>3</th>\n",
       "      <td>geom1 int no dupl</td>\n",
       "      <td>POLYGON ((0 0, 0 3, 3 3, 3 0, 0 0), (1 1, 1 2,...</td>\n",
       "    </tr>\n",
       "    <tr>\n",
       "      <th>4</th>\n",
       "      <td>geom1 int 1 dupl</td>\n",
       "      <td>POLYGON ((0 0, 0 3, 3 3, 3 0, 3 0, 0 0), (1 1,...</td>\n",
       "    </tr>\n",
       "    <tr>\n",
       "      <th>5</th>\n",
       "      <td>geom1 int 2 dupl</td>\n",
       "      <td>POLYGON ((0 0, 0 3, 3 3, 3 3, 3 0, 3 0, 0 0), ...</td>\n",
       "    </tr>\n",
       "    <tr>\n",
       "      <th>6</th>\n",
       "      <td>geom2 no dupl</td>\n",
       "      <td>POLYGON ((5 0, 5 3, 8 3, 8 0, 5 0))</td>\n",
       "    </tr>\n",
       "    <tr>\n",
       "      <th>7</th>\n",
       "      <td>geom2 1 dupl</td>\n",
       "      <td>POLYGON ((5 0, 5 3, 8 3, 8 0, 8 0, 5 0))</td>\n",
       "    </tr>\n",
       "    <tr>\n",
       "      <th>8</th>\n",
       "      <td>geom2 2 dupl</td>\n",
       "      <td>POLYGON ((5 0, 5 3, 8 3, 8 3, 8 0, 8 0, 5 0))</td>\n",
       "    </tr>\n",
       "    <tr>\n",
       "      <th>9</th>\n",
       "      <td>geom2 int no dupl</td>\n",
       "      <td>POLYGON ((5 0, 5 3, 8 3, 8 0, 5 0), (6 1, 6 2,...</td>\n",
       "    </tr>\n",
       "    <tr>\n",
       "      <th>10</th>\n",
       "      <td>geom2 int 1 dupl</td>\n",
       "      <td>POLYGON ((5 0, 5 3, 8 3, 8 0, 8 0, 5 0), (6 1,...</td>\n",
       "    </tr>\n",
       "    <tr>\n",
       "      <th>11</th>\n",
       "      <td>geom2 int 2 dupl</td>\n",
       "      <td>POLYGON ((5 0, 5 3, 8 3, 8 3, 8 0, 8 0, 5 0), ...</td>\n",
       "    </tr>\n",
       "    <tr>\n",
       "      <th>12</th>\n",
       "      <td>geoms no dupl</td>\n",
       "      <td>(POLYGON ((0 0, 0 3, 3 3, 3 0, 0 0)), POLYGON ...</td>\n",
       "    </tr>\n",
       "    <tr>\n",
       "      <th>13</th>\n",
       "      <td>geoms 1 dupl left</td>\n",
       "      <td>(POLYGON ((0 0, 0 3, 3 3, 3 0, 3 0, 0 0)), POL...</td>\n",
       "    </tr>\n",
       "    <tr>\n",
       "      <th>14</th>\n",
       "      <td>geoms 1 dupl right</td>\n",
       "      <td>(POLYGON ((0 0, 0 3, 3 3, 3 0, 0 0)), POLYGON ...</td>\n",
       "    </tr>\n",
       "    <tr>\n",
       "      <th>15</th>\n",
       "      <td>geoms 1 dupl int left</td>\n",
       "      <td>(POLYGON ((0 0, 0 3, 3 3, 3 0, 3 0, 0 0), (1 1...</td>\n",
       "    </tr>\n",
       "    <tr>\n",
       "      <th>16</th>\n",
       "      <td>geoms 1 dupl int right</td>\n",
       "      <td>(POLYGON ((0 0, 0 3, 3 3, 3 0, 0 0), (1 1, 1 2...</td>\n",
       "    </tr>\n",
       "    <tr>\n",
       "      <th>17</th>\n",
       "      <td>geoms 1l 1r dupl</td>\n",
       "      <td>(POLYGON ((0 0, 0 3, 3 3, 3 0, 3 0, 0 0)), POL...</td>\n",
       "    </tr>\n",
       "    <tr>\n",
       "      <th>18</th>\n",
       "      <td>geoms 1l 1r int dupl</td>\n",
       "      <td>(POLYGON ((0 0, 0 3, 3 3, 3 0, 3 0, 0 0), (1 1...</td>\n",
       "    </tr>\n",
       "    <tr>\n",
       "      <th>19</th>\n",
       "      <td>geoms int no dupl</td>\n",
       "      <td>(POLYGON ((0 0, 0 3, 3 3, 3 0, 0 0), (1 1, 1 2...</td>\n",
       "    </tr>\n",
       "    <tr>\n",
       "      <th>20</th>\n",
       "      <td>geoms 2l dupl</td>\n",
       "      <td>(POLYGON ((0 0, 0 3, 3 3, 3 3, 3 0, 3 0, 0 0))...</td>\n",
       "    </tr>\n",
       "    <tr>\n",
       "      <th>21</th>\n",
       "      <td>geoms 2r dupl</td>\n",
       "      <td>(POLYGON ((0 0, 0 3, 3 3, 3 0, 0 0)), POLYGON ...</td>\n",
       "    </tr>\n",
       "    <tr>\n",
       "      <th>22</th>\n",
       "      <td>geoms 2l int dupl</td>\n",
       "      <td>(POLYGON ((0 0, 0 3, 3 3, 3 3, 3 0, 3 0, 0 0),...</td>\n",
       "    </tr>\n",
       "    <tr>\n",
       "      <th>23</th>\n",
       "      <td>geoms 2r int dupl</td>\n",
       "      <td>(POLYGON ((0 0, 0 3, 3 3, 3 0, 0 0), (1 1, 1 2...</td>\n",
       "    </tr>\n",
       "    <tr>\n",
       "      <th>24</th>\n",
       "      <td>geoms 2l 2r dupl</td>\n",
       "      <td>(POLYGON ((0 0, 0 3, 3 3, 3 3, 3 0, 3 0, 0 0))...</td>\n",
       "    </tr>\n",
       "    <tr>\n",
       "      <th>25</th>\n",
       "      <td>geoms 2l 2r int dupl</td>\n",
       "      <td>(POLYGON ((0 0, 0 3, 3 3, 3 3, 3 0, 3 0, 0 0),...</td>\n",
       "    </tr>\n",
       "  </tbody>\n",
       "</table>\n",
       "</div>"
      ],
      "text/plain": [
       "                     descr                                           geometry\n",
       "0            geom1 no dupl                POLYGON ((0 0, 0 3, 3 3, 3 0, 0 0))\n",
       "1             geom1 1 dupl           POLYGON ((0 0, 0 3, 3 3, 3 0, 3 0, 0 0))\n",
       "2             geom1 2 dupl      POLYGON ((0 0, 0 3, 3 3, 3 3, 3 0, 3 0, 0 0))\n",
       "3        geom1 int no dupl  POLYGON ((0 0, 0 3, 3 3, 3 0, 0 0), (1 1, 1 2,...\n",
       "4         geom1 int 1 dupl  POLYGON ((0 0, 0 3, 3 3, 3 0, 3 0, 0 0), (1 1,...\n",
       "5         geom1 int 2 dupl  POLYGON ((0 0, 0 3, 3 3, 3 3, 3 0, 3 0, 0 0), ...\n",
       "6            geom2 no dupl                POLYGON ((5 0, 5 3, 8 3, 8 0, 5 0))\n",
       "7             geom2 1 dupl           POLYGON ((5 0, 5 3, 8 3, 8 0, 8 0, 5 0))\n",
       "8             geom2 2 dupl      POLYGON ((5 0, 5 3, 8 3, 8 3, 8 0, 8 0, 5 0))\n",
       "9        geom2 int no dupl  POLYGON ((5 0, 5 3, 8 3, 8 0, 5 0), (6 1, 6 2,...\n",
       "10        geom2 int 1 dupl  POLYGON ((5 0, 5 3, 8 3, 8 0, 8 0, 5 0), (6 1,...\n",
       "11        geom2 int 2 dupl  POLYGON ((5 0, 5 3, 8 3, 8 3, 8 0, 8 0, 5 0), ...\n",
       "12           geoms no dupl  (POLYGON ((0 0, 0 3, 3 3, 3 0, 0 0)), POLYGON ...\n",
       "13       geoms 1 dupl left  (POLYGON ((0 0, 0 3, 3 3, 3 0, 3 0, 0 0)), POL...\n",
       "14      geoms 1 dupl right  (POLYGON ((0 0, 0 3, 3 3, 3 0, 0 0)), POLYGON ...\n",
       "15   geoms 1 dupl int left  (POLYGON ((0 0, 0 3, 3 3, 3 0, 3 0, 0 0), (1 1...\n",
       "16  geoms 1 dupl int right  (POLYGON ((0 0, 0 3, 3 3, 3 0, 0 0), (1 1, 1 2...\n",
       "17        geoms 1l 1r dupl  (POLYGON ((0 0, 0 3, 3 3, 3 0, 3 0, 0 0)), POL...\n",
       "18    geoms 1l 1r int dupl  (POLYGON ((0 0, 0 3, 3 3, 3 0, 3 0, 0 0), (1 1...\n",
       "19       geoms int no dupl  (POLYGON ((0 0, 0 3, 3 3, 3 0, 0 0), (1 1, 1 2...\n",
       "20           geoms 2l dupl  (POLYGON ((0 0, 0 3, 3 3, 3 3, 3 0, 3 0, 0 0))...\n",
       "21           geoms 2r dupl  (POLYGON ((0 0, 0 3, 3 3, 3 0, 0 0)), POLYGON ...\n",
       "22       geoms 2l int dupl  (POLYGON ((0 0, 0 3, 3 3, 3 3, 3 0, 3 0, 0 0),...\n",
       "23       geoms 2r int dupl  (POLYGON ((0 0, 0 3, 3 3, 3 0, 0 0), (1 1, 1 2...\n",
       "24        geoms 2l 2r dupl  (POLYGON ((0 0, 0 3, 3 3, 3 3, 3 0, 3 0, 0 0))...\n",
       "25    geoms 2l 2r int dupl  (POLYGON ((0 0, 0 3, 3 3, 3 3, 3 0, 3 0, 0 0),..."
      ]
     },
     "execution_count": 37,
     "metadata": {},
     "output_type": "execute_result"
    }
   ],
   "source": [
    "gdf = gpd.GeoDataFrame(test_data)\n",
    "gdf"
   ]
  },
  {
   "cell_type": "code",
   "execution_count": null,
   "metadata": {},
   "outputs": [],
   "source": []
  },
  {
   "cell_type": "code",
   "execution_count": 41,
   "metadata": {
    "ExecuteTime": {
     "end_time": "2019-01-22T18:12:40.906346Z",
     "start_time": "2019-01-22T18:12:40.851035Z"
    }
   },
   "outputs": [],
   "source": [
    "gdf.to_file('exterior_test_data.geojson', driver='GeoJSON')"
   ]
  },
  {
   "cell_type": "code",
   "execution_count": null,
   "metadata": {},
   "outputs": [],
   "source": []
  }
 ],
 "metadata": {
  "kernelspec": {
   "display_name": "geopandas_dev",
   "language": "python",
   "name": "geopandas_dev"
  },
  "language_info": {
   "codemirror_mode": {
    "name": "ipython",
    "version": 3
   },
   "file_extension": ".py",
   "mimetype": "text/x-python",
   "name": "python",
   "nbconvert_exporter": "python",
   "pygments_lexer": "ipython3",
   "version": "3.5.5"
  },
  "varInspector": {
   "cols": {
    "lenName": 16.0,
    "lenType": 16.0,
    "lenVar": 40.0
   },
   "kernels_config": {
    "python": {
     "delete_cmd_postfix": "",
     "delete_cmd_prefix": "del ",
     "library": "var_list.py",
     "varRefreshCmd": "print(var_dic_list())"
    },
    "r": {
     "delete_cmd_postfix": ") ",
     "delete_cmd_prefix": "rm(",
     "library": "var_list.r",
     "varRefreshCmd": "cat(var_dic_list()) "
    }
   },
   "types_to_exclude": [
    "module",
    "function",
    "builtin_function_or_method",
    "instance",
    "_Feature"
   ],
   "window_display": false
  }
 },
 "nbformat": 4,
 "nbformat_minor": 2
}
