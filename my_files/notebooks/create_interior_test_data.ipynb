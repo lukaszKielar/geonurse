{
 "cells": [
  {
   "cell_type": "code",
   "execution_count": 1,
   "metadata": {
    "ExecuteTime": {
     "end_time": "2019-01-25T19:12:42.902718Z",
     "start_time": "2019-01-25T19:12:41.807425Z"
    }
   },
   "outputs": [],
   "source": [
    "%matplotlib inline\n",
    "\n",
    "import collections\n",
    "\n",
    "from shapely.geometry import box\n",
    "from shapely.geometry import GeometryCollection\n",
    "from shapely.geometry import Polygon, MultiPolygon\n",
    "from shapely.geometry import MultiPoint\n",
    "\n",
    "import warnings\n",
    "\n",
    "import geopandas as gpd\n",
    "from shapely.geometry import Polygon, MultiPolygon"
   ]
  },
  {
   "cell_type": "markdown",
   "metadata": {},
   "source": [
    "# Prepare the data"
   ]
  },
  {
   "cell_type": "markdown",
   "metadata": {
    "heading_collapsed": true
   },
   "source": [
    "### 1st geometry no interior (poly)"
   ]
  },
  {
   "cell_type": "code",
   "execution_count": 13,
   "metadata": {
    "ExecuteTime": {
     "end_time": "2019-01-25T18:55:01.695029Z",
     "start_time": "2019-01-25T18:55:01.682804Z"
    },
    "hidden": true
   },
   "outputs": [
    {
     "data": {
      "image/svg+xml": [
       "<svg xmlns=\"http://www.w3.org/2000/svg\" xmlns:xlink=\"http://www.w3.org/1999/xlink\" width=\"100.0\" height=\"100.0\" viewBox=\"-0.12 -0.12 3.24 3.24\" preserveAspectRatio=\"xMinYMin meet\"><g transform=\"matrix(1,0,0,-1,0,3.0)\"><path fill-rule=\"evenodd\" fill=\"#66cc99\" stroke=\"#555555\" stroke-width=\"0.06480000000000001\" opacity=\"0.6\" d=\"M 0.0,0.0 L 0.0,3.0 L 3.0,3.0 L 3.0,0.0 L 0.0,0.0 z\" /></g></svg>"
      ],
      "text/plain": [
       "<shapely.geometry.polygon.Polygon at 0x116f6f278>"
      ]
     },
     "execution_count": 13,
     "metadata": {},
     "output_type": "execute_result"
    }
   ],
   "source": [
    "coords = [(0., 0.), (0., 3.), (3., 3.), (3., 0.), (0., 0.)]\n",
    "poly = Polygon(coords)\n",
    "\n",
    "poly"
   ]
  },
  {
   "cell_type": "markdown",
   "metadata": {
    "heading_collapsed": true
   },
   "source": [
    "### 2nd geometry no interior (poly2)"
   ]
  },
  {
   "cell_type": "code",
   "execution_count": 4,
   "metadata": {
    "ExecuteTime": {
     "end_time": "2019-01-25T18:29:19.174629Z",
     "start_time": "2019-01-25T18:29:19.163839Z"
    },
    "hidden": true
   },
   "outputs": [
    {
     "data": {
      "image/svg+xml": [
       "<svg xmlns=\"http://www.w3.org/2000/svg\" xmlns:xlink=\"http://www.w3.org/1999/xlink\" width=\"100.0\" height=\"100.0\" viewBox=\"4.88 -0.12 3.2399999999999993 3.24\" preserveAspectRatio=\"xMinYMin meet\"><g transform=\"matrix(1,0,0,-1,0,3.0)\"><path fill-rule=\"evenodd\" fill=\"#66cc99\" stroke=\"#555555\" stroke-width=\"0.06480000000000001\" opacity=\"0.6\" d=\"M 5.0,0.0 L 5.0,3.0 L 8.0,3.0 L 8.0,0.0 L 5.0,0.0 z\" /></g></svg>"
      ],
      "text/plain": [
       "<shapely.geometry.polygon.Polygon at 0x116f6f470>"
      ]
     },
     "execution_count": 4,
     "metadata": {},
     "output_type": "execute_result"
    }
   ],
   "source": [
    "coords = [(5., 0.), (5., 3.), (8., 3.), (8., 0.), (5., 0.)]\n",
    "poly2 = Polygon(coords)\n",
    "\n",
    "poly2"
   ]
  },
  {
   "cell_type": "markdown",
   "metadata": {
    "heading_collapsed": true
   },
   "source": [
    "### 1st geometry 1 interior no duplicates (poly_int)"
   ]
  },
  {
   "cell_type": "code",
   "execution_count": 7,
   "metadata": {
    "ExecuteTime": {
     "end_time": "2019-01-25T18:34:01.726177Z",
     "start_time": "2019-01-25T18:34:01.713767Z"
    },
    "hidden": true
   },
   "outputs": [
    {
     "data": {
      "image/svg+xml": [
       "<svg xmlns=\"http://www.w3.org/2000/svg\" xmlns:xlink=\"http://www.w3.org/1999/xlink\" width=\"100.0\" height=\"100.0\" viewBox=\"-0.12 -0.12 3.24 3.24\" preserveAspectRatio=\"xMinYMin meet\"><g transform=\"matrix(1,0,0,-1,0,3.0)\"><path fill-rule=\"evenodd\" fill=\"#66cc99\" stroke=\"#555555\" stroke-width=\"0.06480000000000001\" opacity=\"0.6\" d=\"M 0.0,0.0 L 0.0,3.0 L 3.0,3.0 L 3.0,0.0 L 0.0,0.0 z M 1.0,1.0 L 1.0,2.0 L 2.0,2.0 L 2.0,1.0 L 1.0,1.0 z\" /></g></svg>"
      ],
      "text/plain": [
       "<shapely.geometry.polygon.Polygon at 0x116f6fbe0>"
      ]
     },
     "execution_count": 7,
     "metadata": {},
     "output_type": "execute_result"
    }
   ],
   "source": [
    "coords = [(0., 0.), (0., 3.), (3., 3.), (3., 0.), (0., 0.)]\n",
    "interior = [(1., 1.), (1., 2.), (2., 2.), (2., 1.), (1., 1.)]\n",
    "poly_int = Polygon(coords, [interior])\n",
    "\n",
    "poly_int"
   ]
  },
  {
   "cell_type": "markdown",
   "metadata": {
    "heading_collapsed": true
   },
   "source": [
    "### 1st geometry 1 interior 1 duplicate (poly_int_dupl)"
   ]
  },
  {
   "cell_type": "code",
   "execution_count": 8,
   "metadata": {
    "ExecuteTime": {
     "end_time": "2019-01-25T18:36:16.177680Z",
     "start_time": "2019-01-25T18:36:16.167983Z"
    },
    "hidden": true
   },
   "outputs": [
    {
     "data": {
      "image/svg+xml": [
       "<svg xmlns=\"http://www.w3.org/2000/svg\" xmlns:xlink=\"http://www.w3.org/1999/xlink\" width=\"100.0\" height=\"100.0\" viewBox=\"-0.12 -0.12 3.24 3.24\" preserveAspectRatio=\"xMinYMin meet\"><g transform=\"matrix(1,0,0,-1,0,3.0)\"><path fill-rule=\"evenodd\" fill=\"#66cc99\" stroke=\"#555555\" stroke-width=\"0.06480000000000001\" opacity=\"0.6\" d=\"M 0.0,0.0 L 0.0,3.0 L 3.0,3.0 L 3.0,0.0 L 0.0,0.0 z M 1.0,1.0 L 1.0,2.0 L 2.0,2.0 L 2.0,1.0 L 2.0,1.0 L 1.0,1.0 z\" /></g></svg>"
      ],
      "text/plain": [
       "<shapely.geometry.polygon.Polygon at 0x116f6fcf8>"
      ]
     },
     "execution_count": 8,
     "metadata": {},
     "output_type": "execute_result"
    }
   ],
   "source": [
    "coords = [(0., 0.), (0., 3.), (3., 3.), (3., 0.), (0., 0.)]\n",
    "interior = [(1., 1.), (1., 2.), (2., 2.), (2., 1.), (2., 1.), (1., 1.)]\n",
    "poly_int_dupl = Polygon(coords, [interior])\n",
    "\n",
    "poly_int_dupl"
   ]
  },
  {
   "cell_type": "markdown",
   "metadata": {
    "heading_collapsed": true
   },
   "source": [
    "### 2nd geometry 1 interior 1 duplicate (poly2_int_dupl)"
   ]
  },
  {
   "cell_type": "code",
   "execution_count": 11,
   "metadata": {
    "ExecuteTime": {
     "end_time": "2019-01-25T18:51:09.032411Z",
     "start_time": "2019-01-25T18:51:09.024013Z"
    },
    "hidden": true
   },
   "outputs": [
    {
     "data": {
      "image/svg+xml": [
       "<svg xmlns=\"http://www.w3.org/2000/svg\" xmlns:xlink=\"http://www.w3.org/1999/xlink\" width=\"100.0\" height=\"100.0\" viewBox=\"4.88 -0.12 3.2399999999999993 3.24\" preserveAspectRatio=\"xMinYMin meet\"><g transform=\"matrix(1,0,0,-1,0,3.0)\"><path fill-rule=\"evenodd\" fill=\"#66cc99\" stroke=\"#555555\" stroke-width=\"0.06480000000000001\" opacity=\"0.6\" d=\"M 5.0,0.0 L 5.0,3.0 L 8.0,3.0 L 8.0,0.0 L 5.0,0.0 z M 6.0,1.0 L 6.0,2.0 L 7.0,2.0 L 7.0,1.0 L 7.0,1.0 L 6.0,1.0 z\" /></g></svg>"
      ],
      "text/plain": [
       "<shapely.geometry.polygon.Polygon at 0x116f6fd30>"
      ]
     },
     "execution_count": 11,
     "metadata": {},
     "output_type": "execute_result"
    }
   ],
   "source": [
    "coords = [(5., 0.), (5., 3.), (8., 3.), (8., 0.), (5., 0.)]\n",
    "interior = [(6., 1.), (6., 2.), (7., 2.), (7., 1.), (7., 1.), (6., 1.)]\n",
    "poly2_int_dupl = Polygon(coords, [interior])\n",
    "\n",
    "poly2_int_dupl"
   ]
  },
  {
   "cell_type": "markdown",
   "metadata": {
    "heading_collapsed": true
   },
   "source": [
    "### 2nd geometry 1 interior 2 duplicates (poly2_int_2dupl)"
   ]
  },
  {
   "cell_type": "code",
   "execution_count": 12,
   "metadata": {
    "ExecuteTime": {
     "end_time": "2019-01-25T18:51:19.661654Z",
     "start_time": "2019-01-25T18:51:19.649461Z"
    },
    "hidden": true
   },
   "outputs": [
    {
     "data": {
      "image/svg+xml": [
       "<svg xmlns=\"http://www.w3.org/2000/svg\" xmlns:xlink=\"http://www.w3.org/1999/xlink\" width=\"100.0\" height=\"100.0\" viewBox=\"4.88 -0.12 3.2399999999999993 3.24\" preserveAspectRatio=\"xMinYMin meet\"><g transform=\"matrix(1,0,0,-1,0,3.0)\"><path fill-rule=\"evenodd\" fill=\"#66cc99\" stroke=\"#555555\" stroke-width=\"0.06480000000000001\" opacity=\"0.6\" d=\"M 5.0,0.0 L 5.0,3.0 L 8.0,3.0 L 8.0,0.0 L 5.0,0.0 z M 6.0,1.0 L 6.0,2.0 L 7.0,2.0 L 7.0,2.0 L 7.0,1.0 L 7.0,1.0 L 6.0,1.0 z\" /></g></svg>"
      ],
      "text/plain": [
       "<shapely.geometry.polygon.Polygon at 0x116f91160>"
      ]
     },
     "execution_count": 12,
     "metadata": {},
     "output_type": "execute_result"
    }
   ],
   "source": [
    "coords = [(5., 0.), (5., 3.), (8., 3.), (8., 0.), (5., 0.)]\n",
    "interior = [(6., 1.), (6., 2.), (7., 2.), (7., 2.), (7., 1.), (7., 1.), (6., 1.)]\n",
    "poly2_int_2dupl = Polygon(coords, [interior])\n",
    "\n",
    "poly2_int_2dupl"
   ]
  },
  {
   "cell_type": "markdown",
   "metadata": {
    "heading_collapsed": true
   },
   "source": [
    "### 3rd geometry 2 interiors no duplicates (poly3_int)"
   ]
  },
  {
   "cell_type": "code",
   "execution_count": 20,
   "metadata": {
    "ExecuteTime": {
     "end_time": "2019-01-25T19:05:22.226704Z",
     "start_time": "2019-01-25T19:05:22.212685Z"
    },
    "hidden": true
   },
   "outputs": [
    {
     "data": {
      "image/svg+xml": [
       "<svg xmlns=\"http://www.w3.org/2000/svg\" xmlns:xlink=\"http://www.w3.org/1999/xlink\" width=\"100.0\" height=\"100.0\" viewBox=\"-0.2 -0.2 5.4 3.4000000000000004\" preserveAspectRatio=\"xMinYMin meet\"><g transform=\"matrix(1,0,0,-1,0,3.0)\"><path fill-rule=\"evenodd\" fill=\"#66cc99\" stroke=\"#555555\" stroke-width=\"0.10800000000000001\" opacity=\"0.6\" d=\"M 0.0,0.0 L 0.0,3.0 L 5.0,3.0 L 5.0,0.0 L 0.0,0.0 z M 1.0,1.0 L 1.0,2.0 L 2.0,2.0 L 2.0,1.0 L 1.0,1.0 z M 3.0,1.0 L 3.0,2.0 L 4.0,2.0 L 4.0,1.0 L 3.0,1.0 z\" /></g></svg>"
      ],
      "text/plain": [
       "<shapely.geometry.polygon.Polygon at 0x116f91b38>"
      ]
     },
     "execution_count": 20,
     "metadata": {},
     "output_type": "execute_result"
    }
   ],
   "source": [
    "coords = [(0., 0.), (0., 3.), (5., 3.), (5., 0.), (0., 0.)]\n",
    "interior = [(1., 1.), (1., 2.), (2., 2.), (2., 1.), (1., 1.)]\n",
    "interior2 = [(3., 1.), (3., 2.), (4., 2.), (4., 1.), (3., 1.)]\n",
    "poly3_int = Polygon(coords, [interior, interior2])\n",
    "\n",
    "poly3_int"
   ]
  },
  {
   "cell_type": "markdown",
   "metadata": {
    "heading_collapsed": true
   },
   "source": [
    "### 3rd geometry 2 interiors 1 duplicate each (poly3_int_2dupl)"
   ]
  },
  {
   "cell_type": "code",
   "execution_count": 21,
   "metadata": {
    "ExecuteTime": {
     "end_time": "2019-01-25T19:06:08.447244Z",
     "start_time": "2019-01-25T19:06:08.433489Z"
    },
    "hidden": true
   },
   "outputs": [
    {
     "data": {
      "image/svg+xml": [
       "<svg xmlns=\"http://www.w3.org/2000/svg\" xmlns:xlink=\"http://www.w3.org/1999/xlink\" width=\"100.0\" height=\"100.0\" viewBox=\"-0.2 -0.2 5.4 3.4000000000000004\" preserveAspectRatio=\"xMinYMin meet\"><g transform=\"matrix(1,0,0,-1,0,3.0)\"><path fill-rule=\"evenodd\" fill=\"#66cc99\" stroke=\"#555555\" stroke-width=\"0.10800000000000001\" opacity=\"0.6\" d=\"M 0.0,0.0 L 0.0,3.0 L 5.0,3.0 L 5.0,0.0 L 0.0,0.0 z M 1.0,1.0 L 1.0,2.0 L 2.0,2.0 L 2.0,1.0 L 2.0,1.0 L 1.0,1.0 z M 3.0,1.0 L 3.0,2.0 L 4.0,2.0 L 4.0,2.0 L 4.0,1.0 L 4.0,1.0 L 3.0,1.0 z\" /></g></svg>"
      ],
      "text/plain": [
       "<shapely.geometry.polygon.Polygon at 0x116f919b0>"
      ]
     },
     "execution_count": 21,
     "metadata": {},
     "output_type": "execute_result"
    }
   ],
   "source": [
    "coords = [(0., 0.), (0., 3.), (5., 3.), (5., 0.), (0., 0.)]\n",
    "interior = [(1., 1.), (1., 2.), (2., 2.), (2., 1.), (2., 1.), (1., 1.)]\n",
    "interior2 = [(3., 1.), (3., 2.), (4., 2.), (4., 2.), (4., 1.), (4., 1.), (3., 1.)]\n",
    "poly3_int_2dupl = Polygon(coords, [interior, interior2])\n",
    "\n",
    "poly3_int_2dupl"
   ]
  },
  {
   "cell_type": "markdown",
   "metadata": {},
   "source": [
    "## Save the data"
   ]
  },
  {
   "cell_type": "code",
   "execution_count": 24,
   "metadata": {
    "ExecuteTime": {
     "end_time": "2019-01-25T19:09:04.366051Z",
     "start_time": "2019-01-25T19:09:04.358704Z"
    }
   },
   "outputs": [],
   "source": [
    "test_data = {\"description\":[\n",
    "                \"geom1\",\n",
    "                \"geom1 int dupl\",\n",
    "                \"geom1 int & geom2\",\n",
    "                \"geom1 & geom2 int dupl\",\n",
    "                \"geom1 & geom2\",\n",
    "                \"geom1 int dupl & geom2 int 2 dupl\",\n",
    "                \"geom3 2 int\",\n",
    "                \"geom3 2 int 1 dupl each\"],\n",
    "             \"geometry\":[\n",
    "                 poly,\n",
    "                 poly_int_dupl,\n",
    "                 MultiPolygon([poly_int, poly2]),\n",
    "                 MultiPolygon([poly, poly2_int_dupl]),\n",
    "                 MultiPolygon([poly, poly2]),\n",
    "                 MultiPolygon([poly_int_dupl, poly2_int_2dupl]),\n",
    "                 poly3_int,\n",
    "                 poly3_int_2dupl]\n",
    "            }"
   ]
  },
  {
   "cell_type": "code",
   "execution_count": 25,
   "metadata": {
    "ExecuteTime": {
     "end_time": "2019-01-25T19:09:05.597638Z",
     "start_time": "2019-01-25T19:09:05.485221Z"
    }
   },
   "outputs": [
    {
     "data": {
      "text/html": [
       "<div>\n",
       "<style scoped>\n",
       "    .dataframe tbody tr th:only-of-type {\n",
       "        vertical-align: middle;\n",
       "    }\n",
       "\n",
       "    .dataframe tbody tr th {\n",
       "        vertical-align: top;\n",
       "    }\n",
       "\n",
       "    .dataframe thead th {\n",
       "        text-align: right;\n",
       "    }\n",
       "</style>\n",
       "<table border=\"1\" class=\"dataframe\">\n",
       "  <thead>\n",
       "    <tr style=\"text-align: right;\">\n",
       "      <th></th>\n",
       "      <th>description</th>\n",
       "      <th>geometry</th>\n",
       "    </tr>\n",
       "  </thead>\n",
       "  <tbody>\n",
       "    <tr>\n",
       "      <th>0</th>\n",
       "      <td>geom1</td>\n",
       "      <td>POLYGON ((0 0, 0 3, 3 3, 3 0, 0 0))</td>\n",
       "    </tr>\n",
       "    <tr>\n",
       "      <th>1</th>\n",
       "      <td>geom1 int dupl</td>\n",
       "      <td>POLYGON ((0 0, 0 3, 3 3, 3 0, 0 0), (1 1, 1 2,...</td>\n",
       "    </tr>\n",
       "    <tr>\n",
       "      <th>2</th>\n",
       "      <td>geom1 int &amp; geom2</td>\n",
       "      <td>(POLYGON ((0 0, 0 3, 3 3, 3 0, 0 0), (1 1, 1 2...</td>\n",
       "    </tr>\n",
       "    <tr>\n",
       "      <th>3</th>\n",
       "      <td>geom1 &amp; geom2 int dupl</td>\n",
       "      <td>(POLYGON ((0 0, 0 3, 3 3, 3 0, 0 0)), POLYGON ...</td>\n",
       "    </tr>\n",
       "    <tr>\n",
       "      <th>4</th>\n",
       "      <td>geom1 &amp; geom2</td>\n",
       "      <td>(POLYGON ((0 0, 0 3, 3 3, 3 0, 0 0)), POLYGON ...</td>\n",
       "    </tr>\n",
       "    <tr>\n",
       "      <th>5</th>\n",
       "      <td>geom1 int dupl &amp; geom2 int 2 dupl</td>\n",
       "      <td>(POLYGON ((0 0, 0 3, 3 3, 3 0, 0 0), (1 1, 1 2...</td>\n",
       "    </tr>\n",
       "    <tr>\n",
       "      <th>6</th>\n",
       "      <td>geom3 2 int</td>\n",
       "      <td>POLYGON ((0 0, 0 3, 5 3, 5 0, 0 0), (1 1, 1 2,...</td>\n",
       "    </tr>\n",
       "    <tr>\n",
       "      <th>7</th>\n",
       "      <td>geom3 2 int 1 dupl each</td>\n",
       "      <td>POLYGON ((0 0, 0 3, 5 3, 5 0, 0 0), (1 1, 1 2,...</td>\n",
       "    </tr>\n",
       "  </tbody>\n",
       "</table>\n",
       "</div>"
      ],
      "text/plain": [
       "                         description  \\\n",
       "0                              geom1   \n",
       "1                     geom1 int dupl   \n",
       "2                  geom1 int & geom2   \n",
       "3             geom1 & geom2 int dupl   \n",
       "4                      geom1 & geom2   \n",
       "5  geom1 int dupl & geom2 int 2 dupl   \n",
       "6                        geom3 2 int   \n",
       "7            geom3 2 int 1 dupl each   \n",
       "\n",
       "                                            geometry  \n",
       "0                POLYGON ((0 0, 0 3, 3 3, 3 0, 0 0))  \n",
       "1  POLYGON ((0 0, 0 3, 3 3, 3 0, 0 0), (1 1, 1 2,...  \n",
       "2  (POLYGON ((0 0, 0 3, 3 3, 3 0, 0 0), (1 1, 1 2...  \n",
       "3  (POLYGON ((0 0, 0 3, 3 3, 3 0, 0 0)), POLYGON ...  \n",
       "4  (POLYGON ((0 0, 0 3, 3 3, 3 0, 0 0)), POLYGON ...  \n",
       "5  (POLYGON ((0 0, 0 3, 3 3, 3 0, 0 0), (1 1, 1 2...  \n",
       "6  POLYGON ((0 0, 0 3, 5 3, 5 0, 0 0), (1 1, 1 2,...  \n",
       "7  POLYGON ((0 0, 0 3, 5 3, 5 0, 0 0), (1 1, 1 2,...  "
      ]
     },
     "execution_count": 25,
     "metadata": {},
     "output_type": "execute_result"
    }
   ],
   "source": [
    "gdf = gpd.GeoDataFrame(test_data)\n",
    "gdf"
   ]
  },
  {
   "cell_type": "code",
   "execution_count": 27,
   "metadata": {
    "ExecuteTime": {
     "end_time": "2019-01-25T19:09:31.040059Z",
     "start_time": "2019-01-25T19:09:30.983888Z"
    }
   },
   "outputs": [],
   "source": [
    "gdf.to_file('interior_test_data.geojson', driver='GeoJSON')"
   ]
  },
  {
   "cell_type": "markdown",
   "metadata": {},
   "source": [
    "## Read the data"
   ]
  },
  {
   "cell_type": "code",
   "execution_count": 2,
   "metadata": {
    "ExecuteTime": {
     "end_time": "2019-01-25T19:13:19.703255Z",
     "start_time": "2019-01-25T19:13:19.646322Z"
    }
   },
   "outputs": [
    {
     "data": {
      "text/html": [
       "<div>\n",
       "<style scoped>\n",
       "    .dataframe tbody tr th:only-of-type {\n",
       "        vertical-align: middle;\n",
       "    }\n",
       "\n",
       "    .dataframe tbody tr th {\n",
       "        vertical-align: top;\n",
       "    }\n",
       "\n",
       "    .dataframe thead th {\n",
       "        text-align: right;\n",
       "    }\n",
       "</style>\n",
       "<table border=\"1\" class=\"dataframe\">\n",
       "  <thead>\n",
       "    <tr style=\"text-align: right;\">\n",
       "      <th></th>\n",
       "      <th>description</th>\n",
       "      <th>geometry</th>\n",
       "    </tr>\n",
       "  </thead>\n",
       "  <tbody>\n",
       "    <tr>\n",
       "      <th>0</th>\n",
       "      <td>geom1</td>\n",
       "      <td>POLYGON ((0 0, 0 3, 3 3, 3 0, 0 0))</td>\n",
       "    </tr>\n",
       "    <tr>\n",
       "      <th>1</th>\n",
       "      <td>geom1 int dupl</td>\n",
       "      <td>POLYGON ((0 0, 0 3, 3 3, 3 0, 0 0), (1 1, 1 2,...</td>\n",
       "    </tr>\n",
       "    <tr>\n",
       "      <th>2</th>\n",
       "      <td>geom1 int &amp; geom2</td>\n",
       "      <td>(POLYGON ((0 0, 0 3, 3 3, 3 0, 0 0), (1 1, 1 2...</td>\n",
       "    </tr>\n",
       "    <tr>\n",
       "      <th>3</th>\n",
       "      <td>geom1 &amp; geom2 int dupl</td>\n",
       "      <td>(POLYGON ((0 0, 0 3, 3 3, 3 0, 0 0)), POLYGON ...</td>\n",
       "    </tr>\n",
       "    <tr>\n",
       "      <th>4</th>\n",
       "      <td>geom1 &amp; geom2</td>\n",
       "      <td>(POLYGON ((0 0, 0 3, 3 3, 3 0, 0 0)), POLYGON ...</td>\n",
       "    </tr>\n",
       "    <tr>\n",
       "      <th>5</th>\n",
       "      <td>geom1 int dupl &amp; geom2 int 2 dupl</td>\n",
       "      <td>(POLYGON ((0 0, 0 3, 3 3, 3 0, 0 0), (1 1, 1 2...</td>\n",
       "    </tr>\n",
       "    <tr>\n",
       "      <th>6</th>\n",
       "      <td>geom3 2 int</td>\n",
       "      <td>POLYGON ((0 0, 0 3, 5 3, 5 0, 0 0), (1 1, 1 2,...</td>\n",
       "    </tr>\n",
       "    <tr>\n",
       "      <th>7</th>\n",
       "      <td>geom3 2 int 1 dupl each</td>\n",
       "      <td>POLYGON ((0 0, 0 3, 5 3, 5 0, 0 0), (1 1, 1 2,...</td>\n",
       "    </tr>\n",
       "  </tbody>\n",
       "</table>\n",
       "</div>"
      ],
      "text/plain": [
       "                         description  \\\n",
       "0                              geom1   \n",
       "1                     geom1 int dupl   \n",
       "2                  geom1 int & geom2   \n",
       "3             geom1 & geom2 int dupl   \n",
       "4                      geom1 & geom2   \n",
       "5  geom1 int dupl & geom2 int 2 dupl   \n",
       "6                        geom3 2 int   \n",
       "7            geom3 2 int 1 dupl each   \n",
       "\n",
       "                                            geometry  \n",
       "0                POLYGON ((0 0, 0 3, 3 3, 3 0, 0 0))  \n",
       "1  POLYGON ((0 0, 0 3, 3 3, 3 0, 0 0), (1 1, 1 2,...  \n",
       "2  (POLYGON ((0 0, 0 3, 3 3, 3 0, 0 0), (1 1, 1 2...  \n",
       "3  (POLYGON ((0 0, 0 3, 3 3, 3 0, 0 0)), POLYGON ...  \n",
       "4  (POLYGON ((0 0, 0 3, 3 3, 3 0, 0 0)), POLYGON ...  \n",
       "5  (POLYGON ((0 0, 0 3, 3 3, 3 0, 0 0), (1 1, 1 2...  \n",
       "6  POLYGON ((0 0, 0 3, 5 3, 5 0, 0 0), (1 1, 1 2,...  \n",
       "7  POLYGON ((0 0, 0 3, 5 3, 5 0, 0 0), (1 1, 1 2,...  "
      ]
     },
     "execution_count": 2,
     "metadata": {},
     "output_type": "execute_result"
    }
   ],
   "source": [
    "gdf = gpd.read_file('../data/topology/interior_test_data.geojson')\n",
    "gdf"
   ]
  },
  {
   "cell_type": "code",
   "execution_count": 12,
   "metadata": {
    "ExecuteTime": {
     "end_time": "2019-01-25T19:13:58.470351Z",
     "start_time": "2019-01-25T19:13:58.457539Z"
    }
   },
   "outputs": [
    {
     "data": {
      "image/svg+xml": [
       "<svg xmlns=\"http://www.w3.org/2000/svg\" xmlns:xlink=\"http://www.w3.org/1999/xlink\" width=\"100.0\" height=\"100.0\" viewBox=\"-0.2 -0.2 5.4 3.4000000000000004\" preserveAspectRatio=\"xMinYMin meet\"><g transform=\"matrix(1,0,0,-1,0,3.0)\"><path fill-rule=\"evenodd\" fill=\"#66cc99\" stroke=\"#555555\" stroke-width=\"0.10800000000000001\" opacity=\"0.6\" d=\"M 0.0,0.0 L 0.0,3.0 L 5.0,3.0 L 5.0,0.0 L 0.0,0.0 z M 1.0,1.0 L 1.0,2.0 L 2.0,2.0 L 2.0,1.0 L 2.0,1.0 L 1.0,1.0 z M 3.0,1.0 L 3.0,2.0 L 4.0,2.0 L 4.0,2.0 L 4.0,1.0 L 4.0,1.0 L 3.0,1.0 z\" /></g></svg>"
      ],
      "text/plain": [
       "<shapely.geometry.polygon.Polygon at 0x11dcccd30>"
      ]
     },
     "execution_count": 12,
     "metadata": {},
     "output_type": "execute_result"
    }
   ],
   "source": [
    "gdf.geometry[7]"
   ]
  },
  {
   "cell_type": "code",
   "execution_count": null,
   "metadata": {},
   "outputs": [],
   "source": []
  }
 ],
 "metadata": {
  "kernelspec": {
   "display_name": "geopandas_dev",
   "language": "python",
   "name": "geopandas_dev"
  },
  "language_info": {
   "codemirror_mode": {
    "name": "ipython",
    "version": 3
   },
   "file_extension": ".py",
   "mimetype": "text/x-python",
   "name": "python",
   "nbconvert_exporter": "python",
   "pygments_lexer": "ipython3",
   "version": "3.5.5"
  },
  "varInspector": {
   "cols": {
    "lenName": 16,
    "lenType": 16,
    "lenVar": 40
   },
   "kernels_config": {
    "python": {
     "delete_cmd_postfix": "",
     "delete_cmd_prefix": "del ",
     "library": "var_list.py",
     "varRefreshCmd": "print(var_dic_list())"
    },
    "r": {
     "delete_cmd_postfix": ") ",
     "delete_cmd_prefix": "rm(",
     "library": "var_list.r",
     "varRefreshCmd": "cat(var_dic_list()) "
    }
   },
   "types_to_exclude": [
    "module",
    "function",
    "builtin_function_or_method",
    "instance",
    "_Feature"
   ],
   "window_display": false
  }
 },
 "nbformat": 4,
 "nbformat_minor": 2
}
