{
 "cells": [
  {
   "cell_type": "markdown",
   "metadata": {},
   "source": [
    "# Topology checking with geonurse"
   ]
  },
  {
   "cell_type": "markdown",
   "metadata": {},
   "source": [
    "## Import libraries"
   ]
  },
  {
   "cell_type": "code",
   "execution_count": 1,
   "metadata": {},
   "outputs": [],
   "source": [
    "%load_ext autoreload\n",
    "%autoreload 2\n",
    "%matplotlib inline"
   ]
  },
  {
   "cell_type": "code",
   "execution_count": 79,
   "metadata": {},
   "outputs": [],
   "source": [
    "from pprint import pprint"
   ]
  },
  {
   "cell_type": "code",
   "execution_count": 2,
   "metadata": {},
   "outputs": [],
   "source": [
    "import geonurse\n",
    "import geonurse.tools.topology as topology"
   ]
  },
  {
   "cell_type": "code",
   "execution_count": 20,
   "metadata": {},
   "outputs": [],
   "source": [
    "import geopandas as gpd\n",
    "import shapely\n",
    "import shapely.wkt\n",
    "import shapely.geometry"
   ]
  },
  {
   "cell_type": "markdown",
   "metadata": {},
   "source": [
    "## Create SparkSession"
   ]
  },
  {
   "cell_type": "code",
   "execution_count": 4,
   "metadata": {},
   "outputs": [
    {
     "data": {
      "text/html": [
       "\n",
       "            <div>\n",
       "                <p><b>SparkSession - in-memory</b></p>\n",
       "                \n",
       "        <div>\n",
       "            <p><b>SparkContext</b></p>\n",
       "\n",
       "            <p><a href=\"http://192.168.0.130:4040\">Spark UI</a></p>\n",
       "\n",
       "            <dl>\n",
       "              <dt>Version</dt>\n",
       "                <dd><code>v2.4.0</code></dd>\n",
       "              <dt>Master</dt>\n",
       "                <dd><code>local[*]</code></dd>\n",
       "              <dt>AppName</dt>\n",
       "                <dd><code>geonurse</code></dd>\n",
       "            </dl>\n",
       "        </div>\n",
       "        \n",
       "            </div>\n",
       "        "
      ],
      "text/plain": [
       "<pyspark.sql.session.SparkSession at 0x7fbfab300fd0>"
      ]
     },
     "execution_count": 4,
     "metadata": {},
     "output_type": "execute_result"
    }
   ],
   "source": [
    "from pyspark.sql import SparkSession\n",
    "spark = SparkSession.builder.appName('geonurse').getOrCreate()\n",
    "spark"
   ]
  },
  {
   "cell_type": "markdown",
   "metadata": {},
   "source": [
    "## Polygon/MultiPolygon"
   ]
  },
  {
   "cell_type": "markdown",
   "metadata": {},
   "source": [
    "### Features with duplicated coordinates on exterior"
   ]
  },
  {
   "cell_type": "code",
   "execution_count": 80,
   "metadata": {},
   "outputs": [
    {
     "name": "stdout",
     "output_type": "stream",
     "text": [
      "['POLYGON ((0 0, 0 3, 3 3, 3 0, 3 0, 0 0))',\n",
      " 'POLYGON ((0 0, 0 3, 3 3, 3 3, 3 0, 3 0, 0 0))',\n",
      " 'POLYGON ((0 0, 0 3, 3 3, 3 0, 3 0, 0 0), (1 1, 1 2, 2 2, 2 1, 1 1))',\n",
      " 'POLYGON ((0 0, 0 3, 3 3, 3 3, 3 0, 3 0, 0 0), (1 1, 1 2, 2 2, 2 1, 1 1))',\n",
      " 'POLYGON ((5 0, 5 3, 8 3, 8 0, 8 0, 5 0))',\n",
      " 'POLYGON ((5 0, 5 3, 8 3, 8 3, 8 0, 8 0, 5 0))',\n",
      " 'POLYGON ((5 0, 5 3, 8 3, 8 0, 8 0, 5 0), (6 1, 6 2, 7 2, 7 1, 6 1))',\n",
      " 'POLYGON ((5 0, 5 3, 8 3, 8 3, 8 0, 8 0, 5 0), (6 1, 6 2, 7 2, 7 1, 6 1))',\n",
      " 'MULTIPOLYGON (((0 0, 0 3, 3 3, 3 0, 3 0, 0 0)), ((5 0, 5 3, 8 3, 8 0, 5 0)))',\n",
      " 'MULTIPOLYGON (((0 0, 0 3, 3 3, 3 0, 0 0)), ((5 0, 5 3, 8 3, 8 0, 8 0, 5 0)))',\n",
      " 'MULTIPOLYGON (((0 0, 0 3, 3 3, 3 0, 3 0, 0 0), (1 1, 1 2, 2 2, 2 1, 1 1)), '\n",
      " '((5 0, 5 3, 8 3, 8 0, 5 0), (6 1, 6 2, 7 2, 7 1, 6 1)))',\n",
      " 'MULTIPOLYGON (((0 0, 0 3, 3 3, 3 0, 0 0), (1 1, 1 2, 2 2, 2 1, 1 1)), ((5 0, '\n",
      " '5 3, 8 3, 8 0, 8 0, 5 0), (6 1, 6 2, 7 2, 7 1, 6 1)))',\n",
      " 'MULTIPOLYGON (((0 0, 0 3, 3 3, 3 0, 3 0, 0 0)), ((5 0, 5 3, 8 3, 8 0, 8 0, 5 '\n",
      " '0)))',\n",
      " 'MULTIPOLYGON (((0 0, 0 3, 3 3, 3 0, 3 0, 0 0), (1 1, 1 2, 2 2, 2 1, 1 1)), '\n",
      " '((5 0, 5 3, 8 3, 8 0, 8 0, 5 0), (6 1, 6 2, 7 2, 7 1, 6 1)))',\n",
      " 'MULTIPOLYGON (((0 0, 0 3, 3 3, 3 3, 3 0, 3 0, 0 0)), ((5 0, 5 3, 8 3, 8 0, 5 '\n",
      " '0)))',\n",
      " 'MULTIPOLYGON (((0 0, 0 3, 3 3, 3 0, 0 0)), ((5 0, 5 3, 8 3, 8 3, 8 0, 8 0, 5 '\n",
      " '0)))',\n",
      " 'MULTIPOLYGON (((0 0, 0 3, 3 3, 3 3, 3 0, 3 0, 0 0), (1 1, 1 2, 2 2, 2 1, 1 '\n",
      " '1)), ((5 0, 5 3, 8 3, 8 0, 5 0), (6 1, 6 2, 7 2, 7 1, 6 1)))',\n",
      " 'MULTIPOLYGON (((0 0, 0 3, 3 3, 3 0, 0 0), (1 1, 1 2, 2 2, 2 1, 1 1)), ((5 0, '\n",
      " '5 3, 8 3, 8 3, 8 0, 8 0, 5 0), (6 1, 6 2, 7 2, 7 1, 6 1)))',\n",
      " 'MULTIPOLYGON (((0 0, 0 3, 3 3, 3 3, 3 0, 3 0, 0 0)), ((5 0, 5 3, 8 3, 8 3, 8 '\n",
      " '0, 8 0, 5 0)))',\n",
      " 'MULTIPOLYGON (((0 0, 0 3, 3 3, 3 3, 3 0, 3 0, 0 0), (1 1, 1 2, 2 2, 2 1, 1 '\n",
      " '1)), ((5 0, 5 3, 8 3, 8 3, 8 0, 8 0, 5 0), (6 1, 6 2, 7 2, 7 1, 6 1)))']\n",
      "Input rdd length: 26\n",
      "Filtered rdd length: 20\n"
     ]
    }
   ],
   "source": [
    "exterior_duplicates_path = '../tests/data/topology/test_data_polygon_exterior_duplicates.geojson'\n",
    "\n",
    "exterior_duplicates_rdd = (\n",
    "    geonurse.read_file(spark, exterior_duplicates_path)\n",
    "        .geometries('shapely')\n",
    "        .cache()\n",
    ")\n",
    "\n",
    "exterior_duplicates = (\n",
    "    exterior_duplicates_rdd\n",
    "        .filter(lambda x: topology.has_exterior_duplicates(x))\n",
    ")\n",
    "\n",
    "pprint(exterior_duplicates.map(lambda x: x.wkt).collect())\n",
    "\n",
    "print(\"Input rdd length: {}\".format(exterior_duplicates_rdd.count()))\n",
    "print(\"Filtered rdd length: {}\".format(exterior_duplicates.count()))"
   ]
  },
  {
   "cell_type": "markdown",
   "metadata": {},
   "source": [
    "#### Get duplicated coordinates"
   ]
  },
  {
   "cell_type": "code",
   "execution_count": 81,
   "metadata": {},
   "outputs": [
    {
     "name": "stdout",
     "output_type": "stream",
     "text": [
      "['MULTIPOINT (3 0)',\n",
      " 'MULTIPOINT (3 3, 3 0)',\n",
      " 'MULTIPOINT (3 0)',\n",
      " 'MULTIPOINT (3 3, 3 0)',\n",
      " 'MULTIPOINT (8 0)',\n",
      " 'MULTIPOINT (8 3, 8 0)',\n",
      " 'MULTIPOINT (8 0)',\n",
      " 'MULTIPOINT (8 3, 8 0)',\n",
      " 'MULTIPOINT (3 0)',\n",
      " 'MULTIPOINT (8 0)',\n",
      " 'MULTIPOINT (3 0)',\n",
      " 'MULTIPOINT (8 0)',\n",
      " 'MULTIPOINT (3 0, 8 0)',\n",
      " 'MULTIPOINT (3 0, 8 0)',\n",
      " 'MULTIPOINT (3 3, 3 0)',\n",
      " 'MULTIPOINT (8 3, 8 0)',\n",
      " 'MULTIPOINT (3 3, 3 0)',\n",
      " 'MULTIPOINT (8 3, 8 0)',\n",
      " 'MULTIPOINT (3 3, 3 0, 8 3, 8 0)',\n",
      " 'MULTIPOINT (3 3, 3 0, 8 3, 8 0)']\n",
      "Input rdd length: 26\n",
      "Filtered rdd length: 20\n"
     ]
    }
   ],
   "source": [
    "duplicated_exterior_coordinates = (\n",
    "    exterior_duplicates\n",
    "        .map(lambda x: topology._duplicated_exterior_coordinates_list(x))\n",
    "        .map(lambda x: shapely.geometry.MultiPoint(x))\n",
    ")\n",
    "\n",
    "pprint(duplicated_exterior_coordinates.map(lambda x: x.wkt).collect())\n",
    "\n",
    "print(\"Input rdd length: {}\".format(exterior_duplicates_rdd.count()))\n",
    "print(\"Filtered rdd length: {}\".format(duplicated_exterior_coordinates.count()))"
   ]
  },
  {
   "cell_type": "markdown",
   "metadata": {},
   "source": [
    "### Features with interiors"
   ]
  },
  {
   "cell_type": "code",
   "execution_count": 83,
   "metadata": {},
   "outputs": [
    {
     "name": "stdout",
     "output_type": "stream",
     "text": [
      "['POLYGON ((0 0, 0 3, 3 3, 3 0, 0 0), (1 1, 1 2, 2 2, 2 1, 1 1))',\n",
      " 'POLYGON ((0 0, 0 3, 3 3, 3 0, 3 0, 0 0), (1 1, 1 2, 2 2, 2 1, 1 1))',\n",
      " 'POLYGON ((0 0, 0 3, 3 3, 3 3, 3 0, 3 0, 0 0), (1 1, 1 2, 2 2, 2 1, 1 1))',\n",
      " 'POLYGON ((5 0, 5 3, 8 3, 8 0, 5 0), (6 1, 6 2, 7 2, 7 1, 6 1))',\n",
      " 'POLYGON ((5 0, 5 3, 8 3, 8 0, 8 0, 5 0), (6 1, 6 2, 7 2, 7 1, 6 1))',\n",
      " 'POLYGON ((5 0, 5 3, 8 3, 8 3, 8 0, 8 0, 5 0), (6 1, 6 2, 7 2, 7 1, 6 1))',\n",
      " 'MULTIPOLYGON (((0 0, 0 3, 3 3, 3 0, 3 0, 0 0), (1 1, 1 2, 2 2, 2 1, 1 1)), '\n",
      " '((5 0, 5 3, 8 3, 8 0, 5 0), (6 1, 6 2, 7 2, 7 1, 6 1)))',\n",
      " 'MULTIPOLYGON (((0 0, 0 3, 3 3, 3 0, 0 0), (1 1, 1 2, 2 2, 2 1, 1 1)), ((5 0, '\n",
      " '5 3, 8 3, 8 0, 8 0, 5 0), (6 1, 6 2, 7 2, 7 1, 6 1)))',\n",
      " 'MULTIPOLYGON (((0 0, 0 3, 3 3, 3 0, 3 0, 0 0), (1 1, 1 2, 2 2, 2 1, 1 1)), '\n",
      " '((5 0, 5 3, 8 3, 8 0, 8 0, 5 0), (6 1, 6 2, 7 2, 7 1, 6 1)))',\n",
      " 'MULTIPOLYGON (((0 0, 0 3, 3 3, 3 0, 0 0), (1 1, 1 2, 2 2, 2 1, 1 1)), ((5 0, '\n",
      " '5 3, 8 3, 8 0, 5 0), (6 1, 6 2, 7 2, 7 1, 6 1)))',\n",
      " 'MULTIPOLYGON (((0 0, 0 3, 3 3, 3 3, 3 0, 3 0, 0 0), (1 1, 1 2, 2 2, 2 1, 1 '\n",
      " '1)), ((5 0, 5 3, 8 3, 8 0, 5 0), (6 1, 6 2, 7 2, 7 1, 6 1)))',\n",
      " 'MULTIPOLYGON (((0 0, 0 3, 3 3, 3 0, 0 0), (1 1, 1 2, 2 2, 2 1, 1 1)), ((5 0, '\n",
      " '5 3, 8 3, 8 3, 8 0, 8 0, 5 0), (6 1, 6 2, 7 2, 7 1, 6 1)))',\n",
      " 'MULTIPOLYGON (((0 0, 0 3, 3 3, 3 3, 3 0, 3 0, 0 0), (1 1, 1 2, 2 2, 2 1, 1 '\n",
      " '1)), ((5 0, 5 3, 8 3, 8 3, 8 0, 8 0, 5 0), (6 1, 6 2, 7 2, 7 1, 6 1)))']\n",
      "Input rdd length: 26\n",
      "Filtered rdd length: 13\n"
     ]
    }
   ],
   "source": [
    "geoms_with_interiors = (\n",
    "    exterior_duplicates_rdd\n",
    "        .filter(lambda x: topology.has_interior(x))\n",
    ")\n",
    "\n",
    "pprint(geoms_with_interiors.map(lambda x: x.wkt).collect())\n",
    "\n",
    "print(\"Input rdd length: {}\".format(exterior_duplicates_rdd.count()))\n",
    "print(\"Filtered rdd length: {}\".format(geoms_with_interiors.count()))"
   ]
  },
  {
   "cell_type": "markdown",
   "metadata": {},
   "source": [
    "### Features with duplicated coordinates on interior(s)"
   ]
  },
  {
   "cell_type": "code",
   "execution_count": 84,
   "metadata": {},
   "outputs": [
    {
     "name": "stdout",
     "output_type": "stream",
     "text": [
      "['POLYGON ((0 0, 0 3, 3 3, 3 0, 0 0), (1 1, 1 2, 2 2, 2 1, 2 1, 1 1))',\n",
      " 'MULTIPOLYGON (((0 0, 0 3, 3 3, 3 0, 0 0)), ((5 0, 5 3, 8 3, 8 0, 5 0), (6 1, '\n",
      " '6 2, 7 2, 7 1, 7 1, 6 1)))',\n",
      " 'MULTIPOLYGON (((0 0, 0 3, 3 3, 3 0, 0 0), (1 1, 1 2, 2 2, 2 1, 2 1, 1 1)), '\n",
      " '((5 0, 5 3, 8 3, 8 0, 5 0), (6 1, 6 2, 7 2, 7 2, 7 1, 7 1, 6 1)))',\n",
      " 'POLYGON ((0 0, 0 3, 5 3, 5 0, 0 0), (1 1, 1 2, 2 2, 2 1, 2 1, 1 1), (3 1, 3 '\n",
      " '2, 4 2, 4 2, 4 1, 4 1, 3 1))']\n",
      "Input rdd length: 8\n",
      "Filtered rdd length: 4\n"
     ]
    }
   ],
   "source": [
    "interior_duplicates_path = '../tests/data/topology/test_data_polygon_interior_duplicates.geojson'\n",
    "\n",
    "interior_duplicates_rdd = (\n",
    "    geonurse.read_file(spark, interior_duplicates_path)\n",
    "        .geometries('shapely')\n",
    "        .cache()\n",
    ")\n",
    "\n",
    "interior_duplicates = (\n",
    "    interior_duplicates_rdd\n",
    "        .filter(lambda x: topology.has_interior_duplicates(x))\n",
    ")\n",
    "\n",
    "pprint(interior_duplicates.map(lambda x: x.wkt).collect())\n",
    "\n",
    "print(\"Input rdd length: {}\".format(interior_duplicates_rdd.count()))\n",
    "print(\"Filtered rdd length: {}\".format(interior_duplicates.count()))"
   ]
  },
  {
   "cell_type": "markdown",
   "metadata": {},
   "source": [
    "#### Get duplicated coordinates"
   ]
  },
  {
   "cell_type": "code",
   "execution_count": 86,
   "metadata": {},
   "outputs": [
    {
     "name": "stdout",
     "output_type": "stream",
     "text": [
      "['MULTIPOINT (2 1)',\n",
      " 'MULTIPOINT (7 1)',\n",
      " 'MULTIPOINT (2 1, 7 2, 7 1)',\n",
      " 'MULTIPOINT (2 1, 4 2, 4 1)']\n",
      "Input rdd length: 8\n",
      "Filtered rdd length: 4\n"
     ]
    }
   ],
   "source": [
    "duplicated_interior_coordinates = (\n",
    "    interior_duplicates\n",
    "        .map(lambda x: topology._duplicated_interior_coordinates_list(x))\n",
    "        .map(lambda x: shapely.geometry.MultiPoint(x))\n",
    ")\n",
    "\n",
    "pprint(duplicated_interior_coordinates.map(lambda x: x.wkt).collect())\n",
    "\n",
    "print(\"Input rdd length: {}\".format(interior_duplicates_rdd.count()))\n",
    "print(\"Filtered rdd length: {}\".format(duplicated_interior_coordinates.count()))"
   ]
  },
  {
   "cell_type": "markdown",
   "metadata": {},
   "source": [
    "## LineString/MultiLineString"
   ]
  },
  {
   "cell_type": "markdown",
   "metadata": {},
   "source": [
    "### Duplicated coordinates along features"
   ]
  },
  {
   "cell_type": "code",
   "execution_count": 88,
   "metadata": {},
   "outputs": [
    {
     "name": "stdout",
     "output_type": "stream",
     "text": [
      "['LINESTRING (0 0, 0 3, 3 3, 3 3, 3 0)',\n",
      " 'LINESTRING (0 0, 0 3, 3 3, 3 3, 3 0, 0 0)',\n",
      " 'MULTILINESTRING ((0 0, 0 3, 3 3, 3 3, 3 0), (4 0, 4 3, 7 3, 7 0))',\n",
      " 'MULTILINESTRING ((0 0, 0 3, 3 3, 3 3, 3 0, 0 0), (4 0, 4 3, 7 3, 7 3, 7 0))',\n",
      " 'MULTILINESTRING ((0 0, 0 3, 0 3, 3 3, 3 3, 3 0), (4 0, 4 3, 4 3, 7 3, 7 3, 7 '\n",
      " '0, 4 0))']\n",
      "Input rdd length: 8\n",
      "Filtered rdd length: 5\n"
     ]
    }
   ],
   "source": [
    "linestring_duplicates_path = '../tests/data/topology/test_data_linestring_duplicates.geojson'\n",
    "\n",
    "linestring_duplicates_rdd = (\n",
    "    geonurse.read_file(spark, linestring_duplicates_path)\n",
    "        .geometries('shapely')\n",
    "        .cache()\n",
    ")\n",
    "\n",
    "duplicated_coordinates = (\n",
    "    linestring_duplicates_rdd\n",
    "        .filter(lambda x: topology.has_duplicates(x))\n",
    ")\n",
    "\n",
    "pprint(duplicated_coordinates.map(lambda x: x.wkt).collect())\n",
    "\n",
    "print(\"Input rdd length: {}\".format(linestring_duplicates_rdd.count()))\n",
    "print(\"Filtered rdd length: {}\".format(duplicated_coordinates.count()))"
   ]
  },
  {
   "cell_type": "markdown",
   "metadata": {},
   "source": [
    "#### Get duplicated coordinates"
   ]
  },
  {
   "cell_type": "code",
   "execution_count": 90,
   "metadata": {},
   "outputs": [
    {
     "name": "stdout",
     "output_type": "stream",
     "text": [
      "['MULTIPOINT (3 3)',\n",
      " 'MULTIPOINT (3 3)',\n",
      " 'MULTIPOINT (3 3)',\n",
      " 'MULTIPOINT (3 3, 7 3)',\n",
      " 'MULTIPOINT (0 3, 3 3, 4 3, 7 3)']\n",
      "Input rdd length: 8\n",
      "Filtered rdd length: 5\n"
     ]
    }
   ],
   "source": [
    "duplicated_interior_coordinates = (\n",
    "    duplicated_coordinates\n",
    "        .map(lambda x: topology._duplicated_coordinates_list(x))\n",
    "        .map(lambda x: shapely.geometry.MultiPoint(x))\n",
    ")\n",
    "\n",
    "pprint(duplicated_interior_coordinates.map(lambda x: x.wkt).collect())\n",
    "\n",
    "print(\"Input rdd length: {}\".format(linestring_duplicates_rdd.count()))\n",
    "print(\"Filtered rdd length: {}\".format(duplicated_interior_coordinates.count()))"
   ]
  },
  {
   "cell_type": "code",
   "execution_count": null,
   "metadata": {},
   "outputs": [],
   "source": []
  }
 ],
 "metadata": {
  "kernelspec": {
   "display_name": "geonurse",
   "language": "python",
   "name": "geonurse"
  },
  "language_info": {
   "codemirror_mode": {
    "name": "ipython",
    "version": 3
   },
   "file_extension": ".py",
   "mimetype": "text/x-python",
   "name": "python",
   "nbconvert_exporter": "python",
   "pygments_lexer": "ipython3",
   "version": "3.7.3"
  }
 },
 "nbformat": 4,
 "nbformat_minor": 2
}
