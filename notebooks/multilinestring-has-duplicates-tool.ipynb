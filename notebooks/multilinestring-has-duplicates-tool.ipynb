{
 "cells": [
  {
   "cell_type": "markdown",
   "metadata": {},
   "source": [
    "# (Multi)LineString `has_duplicates`\n",
    "Function looks for all (Multi)LineString features that has duplicated vertices and mark them using boolean predicate."
   ]
  },
  {
   "cell_type": "code",
   "execution_count": 1,
   "metadata": {},
   "outputs": [],
   "source": [
    "%load_ext autoreload\n",
    "%autoreload 2\n",
    "%matplotlib inline"
   ]
  },
  {
   "cell_type": "code",
   "execution_count": 2,
   "metadata": {},
   "outputs": [
    {
     "data": {
      "text/plain": [
       "'/home/lukasz/Projects/geonurse/notebooks'"
      ]
     },
     "execution_count": 2,
     "metadata": {},
     "output_type": "execute_result"
    }
   ],
   "source": [
    "import os\n",
    "\n",
    "os.getcwd()"
   ]
  },
  {
   "cell_type": "code",
   "execution_count": 3,
   "metadata": {},
   "outputs": [],
   "source": [
    "import geopandas as gpd\n",
    "import matplotlib.pyplot as plt\n",
    "from shapely.geometry import MultiPoint\n",
    "\n",
    "from geonurse.tools.linestring import has_duplicates, _duplicated_coordinates_list"
   ]
  },
  {
   "cell_type": "markdown",
   "metadata": {},
   "source": [
    "## Load data"
   ]
  },
  {
   "cell_type": "code",
   "execution_count": 4,
   "metadata": {},
   "outputs": [],
   "source": [
    "DATA_PATH = '../tests/tools/linestring/data'"
   ]
  },
  {
   "cell_type": "markdown",
   "metadata": {},
   "source": [
    "### Test layer 1"
   ]
  },
  {
   "cell_type": "markdown",
   "metadata": {},
   "source": [
    "#### Read data"
   ]
  },
  {
   "cell_type": "code",
   "execution_count": 5,
   "metadata": {},
   "outputs": [],
   "source": [
    "linestrings = gpd.read_file(os.path.join(DATA_PATH, 'test_data_linestring_duplicates.geojson'))"
   ]
  },
  {
   "cell_type": "code",
   "execution_count": 6,
   "metadata": {},
   "outputs": [
    {
     "data": {
      "text/html": [
       "<div>\n",
       "<style scoped>\n",
       "    .dataframe tbody tr th:only-of-type {\n",
       "        vertical-align: middle;\n",
       "    }\n",
       "\n",
       "    .dataframe tbody tr th {\n",
       "        vertical-align: top;\n",
       "    }\n",
       "\n",
       "    .dataframe thead th {\n",
       "        text-align: right;\n",
       "    }\n",
       "</style>\n",
       "<table border=\"1\" class=\"dataframe\">\n",
       "  <thead>\n",
       "    <tr style=\"text-align: right;\">\n",
       "      <th></th>\n",
       "      <th>descriptio</th>\n",
       "      <th>id</th>\n",
       "      <th>geometry</th>\n",
       "    </tr>\n",
       "  </thead>\n",
       "  <tbody>\n",
       "    <tr>\n",
       "      <th>0</th>\n",
       "      <td>line1</td>\n",
       "      <td>1</td>\n",
       "      <td>(LINESTRING (-0.525 6.591666666666669, -0.525 ...</td>\n",
       "    </tr>\n",
       "    <tr>\n",
       "      <th>1</th>\n",
       "      <td>line1 ring</td>\n",
       "      <td>2</td>\n",
       "      <td>(LINESTRING (-7.291666666666668 6.533333333333...</td>\n",
       "    </tr>\n",
       "    <tr>\n",
       "      <th>2</th>\n",
       "      <td>line1 dupl</td>\n",
       "      <td>3</td>\n",
       "      <td>(LINESTRING (-13.41666666666667 6.825, -13.416...</td>\n",
       "    </tr>\n",
       "    <tr>\n",
       "      <th>3</th>\n",
       "      <td>line1 ring 1dupl</td>\n",
       "      <td>4</td>\n",
       "      <td>(LINESTRING (-19.12916666666668 6.883333333333...</td>\n",
       "    </tr>\n",
       "    <tr>\n",
       "      <th>4</th>\n",
       "      <td>mpoly</td>\n",
       "      <td>5</td>\n",
       "      <td>(LINESTRING (7.758333333333333 12.191666666666...</td>\n",
       "    </tr>\n",
       "  </tbody>\n",
       "</table>\n",
       "</div>"
      ],
      "text/plain": [
       "         descriptio  id                                           geometry\n",
       "0             line1   1  (LINESTRING (-0.525 6.591666666666669, -0.525 ...\n",
       "1        line1 ring   2  (LINESTRING (-7.291666666666668 6.533333333333...\n",
       "2        line1 dupl   3  (LINESTRING (-13.41666666666667 6.825, -13.416...\n",
       "3  line1 ring 1dupl   4  (LINESTRING (-19.12916666666668 6.883333333333...\n",
       "4             mpoly   5  (LINESTRING (7.758333333333333 12.191666666666..."
      ]
     },
     "execution_count": 6,
     "metadata": {},
     "output_type": "execute_result"
    }
   ],
   "source": [
    "linestrings.head()"
   ]
  },
  {
   "cell_type": "markdown",
   "metadata": {},
   "source": [
    "#### Plot data"
   ]
  },
  {
   "cell_type": "code",
   "execution_count": 7,
   "metadata": {},
   "outputs": [
    {
     "name": "stdout",
     "output_type": "stream",
     "text": [
      "\n"
     ]
    },
    {
     "data": {
      "image/png": "[encoded data removed]",
      "text/plain": [
       "<Figure size 1440x1440 with 1 Axes>"
      ]
     },
     "metadata": {
      "needs_background": "light"
     },
     "output_type": "display_data"
    }
   ],
   "source": [
    "ax = linestrings.plot(figsize=(20,20), column='id', cmap='plasma')\n",
    "\n",
    "linestrings.apply(lambda x: ax.annotate(s=x.id, xy=x.geometry.centroid.coords[0], ha='center'), axis=1)\n",
    "print()"
   ]
  },
  {
   "cell_type": "markdown",
   "metadata": {},
   "source": [
    "#### Find geometries with interiors"
   ]
  },
  {
   "cell_type": "code",
   "execution_count": 8,
   "metadata": {},
   "outputs": [],
   "source": [
    "has_duplicates = linestrings.geometry.apply(has_duplicates)\n",
    "\n",
    "assert len(linestrings) == len(has_duplicates)\n",
    "\n",
    "linestrings_with_duplicates = linestrings[has_duplicates]  # select features that have duplicated coordinates"
   ]
  },
  {
   "cell_type": "code",
   "execution_count": 11,
   "metadata": {},
   "outputs": [
    {
     "data": {
      "text/html": [
       "<div>\n",
       "<style scoped>\n",
       "    .dataframe tbody tr th:only-of-type {\n",
       "        vertical-align: middle;\n",
       "    }\n",
       "\n",
       "    .dataframe tbody tr th {\n",
       "        vertical-align: top;\n",
       "    }\n",
       "\n",
       "    .dataframe thead th {\n",
       "        text-align: right;\n",
       "    }\n",
       "</style>\n",
       "<table border=\"1\" class=\"dataframe\">\n",
       "  <thead>\n",
       "    <tr style=\"text-align: right;\">\n",
       "      <th></th>\n",
       "      <th>descriptio</th>\n",
       "      <th>id</th>\n",
       "      <th>geometry</th>\n",
       "    </tr>\n",
       "  </thead>\n",
       "  <tbody>\n",
       "    <tr>\n",
       "      <th>2</th>\n",
       "      <td>line1 dupl</td>\n",
       "      <td>3</td>\n",
       "      <td>(LINESTRING (-13.41666666666667 6.825, -13.416...</td>\n",
       "    </tr>\n",
       "    <tr>\n",
       "      <th>3</th>\n",
       "      <td>line1 ring 1dupl</td>\n",
       "      <td>4</td>\n",
       "      <td>(LINESTRING (-19.12916666666668 6.883333333333...</td>\n",
       "    </tr>\n",
       "    <tr>\n",
       "      <th>5</th>\n",
       "      <td>mpoly 1left dupl</td>\n",
       "      <td>6</td>\n",
       "      <td>(LINESTRING (-1.225 12.19166666666667, -1.225 ...</td>\n",
       "    </tr>\n",
       "    <tr>\n",
       "      <th>6</th>\n",
       "      <td>mpoly 1left 1right dupl</td>\n",
       "      <td>7</td>\n",
       "      <td>(LINESTRING (-9.858333333333334 12.19166666666...</td>\n",
       "    </tr>\n",
       "    <tr>\n",
       "      <th>7</th>\n",
       "      <td>mpoly 2left 2right dupl</td>\n",
       "      <td>8</td>\n",
       "      <td>(LINESTRING (-19.13333333333334 12.19166666666...</td>\n",
       "    </tr>\n",
       "  </tbody>\n",
       "</table>\n",
       "</div>"
      ],
      "text/plain": [
       "                descriptio  id                                           geometry\n",
       "2               line1 dupl   3  (LINESTRING (-13.41666666666667 6.825, -13.416...\n",
       "3         line1 ring 1dupl   4  (LINESTRING (-19.12916666666668 6.883333333333...\n",
       "5         mpoly 1left dupl   6  (LINESTRING (-1.225 12.19166666666667, -1.225 ...\n",
       "6  mpoly 1left 1right dupl   7  (LINESTRING (-9.858333333333334 12.19166666666...\n",
       "7  mpoly 2left 2right dupl   8  (LINESTRING (-19.13333333333334 12.19166666666..."
      ]
     },
     "execution_count": 11,
     "metadata": {},
     "output_type": "execute_result"
    }
   ],
   "source": [
    "linestrings_with_duplicates.head()"
   ]
  },
  {
   "cell_type": "markdown",
   "metadata": {},
   "source": [
    "#### Plot filtered geometries"
   ]
  },
  {
   "cell_type": "code",
   "execution_count": 12,
   "metadata": {},
   "outputs": [
    {
     "name": "stdout",
     "output_type": "stream",
     "text": [
      "\n"
     ]
    },
    {
     "data": {
      "image/png": "[encoded data removed]",
      "text/plain": [
       "<Figure size 1440x1440 with 1 Axes>"
      ]
     },
     "metadata": {
      "needs_background": "light"
     },
     "output_type": "display_data"
    }
   ],
   "source": [
    "ax = linestrings_with_duplicates.plot(figsize=(20,20), column='id', cmap='plasma')\n",
    "\n",
    "linestrings_with_duplicates.apply(lambda x: ax.annotate(s=x.id, xy=x.geometry.centroid.coords[0], ha='center'), axis=1)\n",
    "print()"
   ]
  },
  {
   "cell_type": "code",
   "execution_count": 9,
   "metadata": {},
   "outputs": [
    {
     "data": {
      "text/html": [
       "<div>\n",
       "<style scoped>\n",
       "    .dataframe tbody tr th:only-of-type {\n",
       "        vertical-align: middle;\n",
       "    }\n",
       "\n",
       "    .dataframe tbody tr th {\n",
       "        vertical-align: top;\n",
       "    }\n",
       "\n",
       "    .dataframe thead th {\n",
       "        text-align: right;\n",
       "    }\n",
       "</style>\n",
       "<table border=\"1\" class=\"dataframe\">\n",
       "  <thead>\n",
       "    <tr style=\"text-align: right;\">\n",
       "      <th></th>\n",
       "      <th>descriptio</th>\n",
       "      <th>id</th>\n",
       "      <th>geometry</th>\n",
       "    </tr>\n",
       "  </thead>\n",
       "  <tbody>\n",
       "    <tr>\n",
       "      <th>2</th>\n",
       "      <td>line1 dupl</td>\n",
       "      <td>3</td>\n",
       "      <td>(LINESTRING (-13.41666666666667 6.825, -13.416...</td>\n",
       "    </tr>\n",
       "    <tr>\n",
       "      <th>3</th>\n",
       "      <td>line1 ring 1dupl</td>\n",
       "      <td>4</td>\n",
       "      <td>(LINESTRING (-19.12916666666668 6.883333333333...</td>\n",
       "    </tr>\n",
       "    <tr>\n",
       "      <th>5</th>\n",
       "      <td>mpoly 1left dupl</td>\n",
       "      <td>6</td>\n",
       "      <td>(LINESTRING (-1.225 12.19166666666667, -1.225 ...</td>\n",
       "    </tr>\n",
       "    <tr>\n",
       "      <th>6</th>\n",
       "      <td>mpoly 1left 1right dupl</td>\n",
       "      <td>7</td>\n",
       "      <td>(LINESTRING (-9.858333333333334 12.19166666666...</td>\n",
       "    </tr>\n",
       "    <tr>\n",
       "      <th>7</th>\n",
       "      <td>mpoly 2left 2right dupl</td>\n",
       "      <td>8</td>\n",
       "      <td>(LINESTRING (-19.13333333333334 12.19166666666...</td>\n",
       "    </tr>\n",
       "  </tbody>\n",
       "</table>\n",
       "</div>"
      ],
      "text/plain": [
       "                descriptio  id  \\\n",
       "2               line1 dupl   3   \n",
       "3         line1 ring 1dupl   4   \n",
       "5         mpoly 1left dupl   6   \n",
       "6  mpoly 1left 1right dupl   7   \n",
       "7  mpoly 2left 2right dupl   8   \n",
       "\n",
       "                                            geometry  \n",
       "2  (LINESTRING (-13.41666666666667 6.825, -13.416...  \n",
       "3  (LINESTRING (-19.12916666666668 6.883333333333...  \n",
       "5  (LINESTRING (-1.225 12.19166666666667, -1.225 ...  \n",
       "6  (LINESTRING (-9.858333333333334 12.19166666666...  \n",
       "7  (LINESTRING (-19.13333333333334 12.19166666666...  "
      ]
     },
     "execution_count": 9,
     "metadata": {},
     "output_type": "execute_result"
    }
   ],
   "source": [
    "linestrings_with_duplicates"
   ]
  },
  {
   "cell_type": "markdown",
   "metadata": {},
   "source": [
    "#### Save filtered geometries"
   ]
  },
  {
   "cell_type": "markdown",
   "metadata": {},
   "source": [
    "linestrings_with_duplicates.to_file(\n",
    "    os.path.join(DATA_PATH, 'expected_linestring_with_duplicates.geojson'),\n",
    "    driver='GeoJSON'\n",
    ")"
   ]
  },
  {
   "cell_type": "code",
   "execution_count": null,
   "metadata": {},
   "outputs": [],
   "source": []
  }
 ],
 "metadata": {
  "kernelspec": {
   "display_name": "geonurse",
   "language": "python",
   "name": "geonurse"
  },
  "language_info": {
   "codemirror_mode": {
    "name": "ipython",
    "version": 3
   },
   "file_extension": ".py",
   "mimetype": "text/x-python",
   "name": "python",
   "nbconvert_exporter": "python",
   "pygments_lexer": "ipython3",
   "version": "3.7.3"
  }
 },
 "nbformat": 4,
 "nbformat_minor": 2
}
