{
 "cells": [
  {
   "cell_type": "markdown",
   "metadata": {},
   "source": [
    "# (Multi)LineString `_duplicated_coordinates_list`\n",
    "Function returns a list of all coordinates for (Multi)LineString features that are duplicated."
   ]
  },
  {
   "cell_type": "code",
   "execution_count": 1,
   "metadata": {},
   "outputs": [],
   "source": [
    "%load_ext autoreload\n",
    "%autoreload 2\n",
    "%matplotlib inline"
   ]
  },
  {
   "cell_type": "code",
   "execution_count": 2,
   "metadata": {},
   "outputs": [
    {
     "data": {
      "text/plain": [
       "'/home/lukasz/Projects/geonurse/notebooks'"
      ]
     },
     "execution_count": 2,
     "metadata": {},
     "output_type": "execute_result"
    }
   ],
   "source": [
    "import os\n",
    "\n",
    "os.getcwd()"
   ]
  },
  {
   "cell_type": "code",
   "execution_count": 3,
   "metadata": {},
   "outputs": [],
   "source": [
    "import geopandas as gpd\n",
    "import matplotlib.pyplot as plt\n",
    "from shapely.geometry import MultiPoint\n",
    "\n",
    "from geonurse.tools.linestring import has_duplicates, _duplicated_coordinates_list"
   ]
  },
  {
   "cell_type": "markdown",
   "metadata": {},
   "source": [
    "## Load data"
   ]
  },
  {
   "cell_type": "code",
   "execution_count": 4,
   "metadata": {},
   "outputs": [],
   "source": [
    "DATA_PATH = '../tests/tools/linestring/data'"
   ]
  },
  {
   "cell_type": "markdown",
   "metadata": {},
   "source": [
    "### Features with duplicates"
   ]
  },
  {
   "cell_type": "markdown",
   "metadata": {},
   "source": [
    "#### Read data"
   ]
  },
  {
   "cell_type": "code",
   "execution_count": 5,
   "metadata": {},
   "outputs": [],
   "source": [
    "linestrings_with_duplicates = gpd.read_file(os.path.join(DATA_PATH, 'expected_linestring_with_duplicates.geojson'))"
   ]
  },
  {
   "cell_type": "code",
   "execution_count": 6,
   "metadata": {},
   "outputs": [
    {
     "data": {
      "text/html": [
       "<div>\n",
       "<style scoped>\n",
       "    .dataframe tbody tr th:only-of-type {\n",
       "        vertical-align: middle;\n",
       "    }\n",
       "\n",
       "    .dataframe tbody tr th {\n",
       "        vertical-align: top;\n",
       "    }\n",
       "\n",
       "    .dataframe thead th {\n",
       "        text-align: right;\n",
       "    }\n",
       "</style>\n",
       "<table border=\"1\" class=\"dataframe\">\n",
       "  <thead>\n",
       "    <tr style=\"text-align: right;\">\n",
       "      <th></th>\n",
       "      <th>descriptio</th>\n",
       "      <th>id</th>\n",
       "      <th>geometry</th>\n",
       "    </tr>\n",
       "  </thead>\n",
       "  <tbody>\n",
       "    <tr>\n",
       "      <th>0</th>\n",
       "      <td>line1 dupl</td>\n",
       "      <td>3</td>\n",
       "      <td>(LINESTRING (-13.41666666666667 6.825, -13.416...</td>\n",
       "    </tr>\n",
       "    <tr>\n",
       "      <th>1</th>\n",
       "      <td>line1 ring 1dupl</td>\n",
       "      <td>4</td>\n",
       "      <td>(LINESTRING (-19.12916666666668 6.883333333333...</td>\n",
       "    </tr>\n",
       "    <tr>\n",
       "      <th>2</th>\n",
       "      <td>mpoly 1left dupl</td>\n",
       "      <td>6</td>\n",
       "      <td>(LINESTRING (-1.225 12.19166666666667, -1.225 ...</td>\n",
       "    </tr>\n",
       "    <tr>\n",
       "      <th>3</th>\n",
       "      <td>mpoly 1left 1right dupl</td>\n",
       "      <td>7</td>\n",
       "      <td>(LINESTRING (-9.858333333333334 12.19166666666...</td>\n",
       "    </tr>\n",
       "    <tr>\n",
       "      <th>4</th>\n",
       "      <td>mpoly 2left 2right dupl</td>\n",
       "      <td>8</td>\n",
       "      <td>(LINESTRING (-19.13333333333334 12.19166666666...</td>\n",
       "    </tr>\n",
       "  </tbody>\n",
       "</table>\n",
       "</div>"
      ],
      "text/plain": [
       "                descriptio  id  \\\n",
       "0               line1 dupl   3   \n",
       "1         line1 ring 1dupl   4   \n",
       "2         mpoly 1left dupl   6   \n",
       "3  mpoly 1left 1right dupl   7   \n",
       "4  mpoly 2left 2right dupl   8   \n",
       "\n",
       "                                            geometry  \n",
       "0  (LINESTRING (-13.41666666666667 6.825, -13.416...  \n",
       "1  (LINESTRING (-19.12916666666668 6.883333333333...  \n",
       "2  (LINESTRING (-1.225 12.19166666666667, -1.225 ...  \n",
       "3  (LINESTRING (-9.858333333333334 12.19166666666...  \n",
       "4  (LINESTRING (-19.13333333333334 12.19166666666...  "
      ]
     },
     "execution_count": 6,
     "metadata": {},
     "output_type": "execute_result"
    }
   ],
   "source": [
    "linestrings_with_duplicates.head()"
   ]
  },
  {
   "cell_type": "markdown",
   "metadata": {},
   "source": [
    "#### Plot data"
   ]
  },
  {
   "cell_type": "code",
   "execution_count": 7,
   "metadata": {},
   "outputs": [
    {
     "name": "stdout",
     "output_type": "stream",
     "text": [
      "\n"
     ]
    },
    {
     "data": {
      "image/png": "[encoded data removed]",
      "text/plain": [
       "<Figure size 1440x1440 with 1 Axes>"
      ]
     },
     "metadata": {
      "needs_background": "light"
     },
     "output_type": "display_data"
    }
   ],
   "source": [
    "ax = linestrings_with_duplicates.plot(figsize=(20,20), column='id', cmap='plasma')\n",
    "\n",
    "linestrings_with_duplicates.apply(lambda x: ax.annotate(s=x.id, xy=x.geometry.centroid.coords[0], ha='center'), axis=1)\n",
    "print()"
   ]
  },
  {
   "cell_type": "markdown",
   "metadata": {},
   "source": [
    "#### Find duplicates"
   ]
  },
  {
   "cell_type": "code",
   "execution_count": 15,
   "metadata": {},
   "outputs": [],
   "source": [
    "duplicated_coordinates = linestrings_with_duplicates.geometry.apply(_duplicated_coordinates_list).apply(MultiPoint)\n",
    "\n",
    "assert len(linestrings_with_duplicates) == len(duplicated_coordinates)"
   ]
  },
  {
   "cell_type": "code",
   "execution_count": 30,
   "metadata": {},
   "outputs": [
    {
     "data": {
      "text/plain": [
       "0       (POINT (-10.41666666666667 9.824999999999999))\n",
       "1       (POINT (-16.12916666666668 9.883333333333336))\n",
       "2                    (POINT (1.775 15.19166666666667))\n",
       "3    (POINT (-6.858333333333334 15.19166666666667),...\n",
       "4    (POINT (-19.13333333333334 15.19166666666667),...\n",
       "Name: geometry, dtype: object"
      ]
     },
     "execution_count": 30,
     "metadata": {},
     "output_type": "execute_result"
    }
   ],
   "source": [
    "duplicated_coordinates"
   ]
  },
  {
   "cell_type": "markdown",
   "metadata": {},
   "source": [
    "#### Plot filtered geometries"
   ]
  },
  {
   "cell_type": "code",
   "execution_count": 26,
   "metadata": {},
   "outputs": [
    {
     "name": "stdout",
     "output_type": "stream",
     "text": [
      "\n"
     ]
    },
    {
     "data": {
      "image/png": "[encoded data removed]",
      "text/plain": [
       "<Figure size 1440x1440 with 1 Axes>"
      ]
     },
     "metadata": {
      "needs_background": "light"
     },
     "output_type": "display_data"
    }
   ],
   "source": [
    "ax = duplicated_coordinates.plot(figsize=(20,20), marker='x', markersize=40) #, column='id', cmap='plasma')\n",
    "\n",
    "linestrings_with_duplicates.plot(ax=ax, column='id', cmap='plasma')\n",
    "\n",
    "linestrings_with_duplicates.apply(lambda x: ax.annotate(s=x.id, xy=x.geometry.centroid.coords[0], ha='center'), axis=1)\n",
    "print()"
   ]
  },
  {
   "cell_type": "markdown",
   "metadata": {},
   "source": [
    "#### Compare with EXPECTED data"
   ]
  },
  {
   "cell_type": "code",
   "execution_count": 27,
   "metadata": {},
   "outputs": [],
   "source": [
    "expected_duplicates = gpd.read_file(os.path.join(DATA_PATH, 'expected_linestring_duplicates.geojson'))"
   ]
  },
  {
   "cell_type": "code",
   "execution_count": 32,
   "metadata": {},
   "outputs": [
    {
     "data": {
      "text/html": [
       "<div>\n",
       "<style scoped>\n",
       "    .dataframe tbody tr th:only-of-type {\n",
       "        vertical-align: middle;\n",
       "    }\n",
       "\n",
       "    .dataframe tbody tr th {\n",
       "        vertical-align: top;\n",
       "    }\n",
       "\n",
       "    .dataframe thead th {\n",
       "        text-align: right;\n",
       "    }\n",
       "</style>\n",
       "<table border=\"1\" class=\"dataframe\">\n",
       "  <thead>\n",
       "    <tr style=\"text-align: right;\">\n",
       "      <th></th>\n",
       "      <th>descriptio</th>\n",
       "      <th>id</th>\n",
       "      <th>vertex_ind</th>\n",
       "      <th>vertex_par</th>\n",
       "      <th>vertex_p_1</th>\n",
       "      <th>distance</th>\n",
       "      <th>angle</th>\n",
       "      <th>geometry</th>\n",
       "    </tr>\n",
       "  </thead>\n",
       "  <tbody>\n",
       "    <tr>\n",
       "      <th>0</th>\n",
       "      <td>line1 dupl</td>\n",
       "      <td>3</td>\n",
       "      <td>2</td>\n",
       "      <td>0</td>\n",
       "      <td>2</td>\n",
       "      <td>6.0</td>\n",
       "      <td>90.0</td>\n",
       "      <td>POINT (-10.41666666666667 9.824999999999999)</td>\n",
       "    </tr>\n",
       "    <tr>\n",
       "      <th>1</th>\n",
       "      <td>line1 ring 1dupl</td>\n",
       "      <td>4</td>\n",
       "      <td>2</td>\n",
       "      <td>0</td>\n",
       "      <td>2</td>\n",
       "      <td>6.0</td>\n",
       "      <td>90.0</td>\n",
       "      <td>POINT (-16.12916666666668 9.883333333333336)</td>\n",
       "    </tr>\n",
       "    <tr>\n",
       "      <th>2</th>\n",
       "      <td>mpoly 1left dupl</td>\n",
       "      <td>6</td>\n",
       "      <td>3</td>\n",
       "      <td>0</td>\n",
       "      <td>3</td>\n",
       "      <td>6.0</td>\n",
       "      <td>135.0</td>\n",
       "      <td>POINT (1.775 15.19166666666667)</td>\n",
       "    </tr>\n",
       "    <tr>\n",
       "      <th>3</th>\n",
       "      <td>mpoly 1left 1right dupl</td>\n",
       "      <td>7</td>\n",
       "      <td>3</td>\n",
       "      <td>0</td>\n",
       "      <td>3</td>\n",
       "      <td>6.0</td>\n",
       "      <td>135.0</td>\n",
       "      <td>POINT (-6.858333333333334 15.19166666666667)</td>\n",
       "    </tr>\n",
       "    <tr>\n",
       "      <th>4</th>\n",
       "      <td>mpoly 1left 1right dupl</td>\n",
       "      <td>7</td>\n",
       "      <td>9</td>\n",
       "      <td>1</td>\n",
       "      <td>3</td>\n",
       "      <td>18.0</td>\n",
       "      <td>135.0</td>\n",
       "      <td>POINT (-2.858333333333334 15.19166666666667)</td>\n",
       "    </tr>\n",
       "    <tr>\n",
       "      <th>5</th>\n",
       "      <td>mpoly 2left 2right dupl</td>\n",
       "      <td>8</td>\n",
       "      <td>2</td>\n",
       "      <td>0</td>\n",
       "      <td>2</td>\n",
       "      <td>3.0</td>\n",
       "      <td>90.0</td>\n",
       "      <td>POINT (-19.13333333333334 15.19166666666667)</td>\n",
       "    </tr>\n",
       "    <tr>\n",
       "      <th>6</th>\n",
       "      <td>mpoly 2left 2right dupl</td>\n",
       "      <td>8</td>\n",
       "      <td>4</td>\n",
       "      <td>0</td>\n",
       "      <td>4</td>\n",
       "      <td>6.0</td>\n",
       "      <td>135.0</td>\n",
       "      <td>POINT (-16.13333333333334 15.19166666666667)</td>\n",
       "    </tr>\n",
       "    <tr>\n",
       "      <th>7</th>\n",
       "      <td>mpoly 2left 2right dupl</td>\n",
       "      <td>8</td>\n",
       "      <td>8</td>\n",
       "      <td>1</td>\n",
       "      <td>2</td>\n",
       "      <td>12.0</td>\n",
       "      <td>90.0</td>\n",
       "      <td>POINT (-15.13333333333334 15.19166666666667)</td>\n",
       "    </tr>\n",
       "    <tr>\n",
       "      <th>8</th>\n",
       "      <td>mpoly 2left 2right dupl</td>\n",
       "      <td>8</td>\n",
       "      <td>10</td>\n",
       "      <td>1</td>\n",
       "      <td>4</td>\n",
       "      <td>15.0</td>\n",
       "      <td>135.0</td>\n",
       "      <td>POINT (-12.13333333333334 15.19166666666667)</td>\n",
       "    </tr>\n",
       "  </tbody>\n",
       "</table>\n",
       "</div>"
      ],
      "text/plain": [
       "                descriptio  id  vertex_ind  vertex_par  vertex_p_1  distance  \\\n",
       "0               line1 dupl   3           2           0           2       6.0   \n",
       "1         line1 ring 1dupl   4           2           0           2       6.0   \n",
       "2         mpoly 1left dupl   6           3           0           3       6.0   \n",
       "3  mpoly 1left 1right dupl   7           3           0           3       6.0   \n",
       "4  mpoly 1left 1right dupl   7           9           1           3      18.0   \n",
       "5  mpoly 2left 2right dupl   8           2           0           2       3.0   \n",
       "6  mpoly 2left 2right dupl   8           4           0           4       6.0   \n",
       "7  mpoly 2left 2right dupl   8           8           1           2      12.0   \n",
       "8  mpoly 2left 2right dupl   8          10           1           4      15.0   \n",
       "\n",
       "   angle                                      geometry  \n",
       "0   90.0  POINT (-10.41666666666667 9.824999999999999)  \n",
       "1   90.0  POINT (-16.12916666666668 9.883333333333336)  \n",
       "2  135.0               POINT (1.775 15.19166666666667)  \n",
       "3  135.0  POINT (-6.858333333333334 15.19166666666667)  \n",
       "4  135.0  POINT (-2.858333333333334 15.19166666666667)  \n",
       "5   90.0  POINT (-19.13333333333334 15.19166666666667)  \n",
       "6  135.0  POINT (-16.13333333333334 15.19166666666667)  \n",
       "7   90.0  POINT (-15.13333333333334 15.19166666666667)  \n",
       "8  135.0  POINT (-12.13333333333334 15.19166666666667)  "
      ]
     },
     "execution_count": 32,
     "metadata": {},
     "output_type": "execute_result"
    }
   ],
   "source": [
    "expected_duplicates"
   ]
  },
  {
   "cell_type": "markdown",
   "metadata": {},
   "source": [
    "NOTE:\n",
    "In order to compare the result `duplicated_coordinates` geopandas.GeoSeries has to be exploded. This will split multipart features into singlepart onces."
   ]
  },
  {
   "cell_type": "code",
   "execution_count": 37,
   "metadata": {},
   "outputs": [],
   "source": [
    "assert len(expected_duplicates) == len(duplicated_coordinates.explode())"
   ]
  },
  {
   "cell_type": "code",
   "execution_count": 38,
   "metadata": {},
   "outputs": [
    {
     "data": {
      "text/plain": [
       "geopandas.geodataframe.GeoDataFrame"
      ]
     },
     "execution_count": 38,
     "metadata": {},
     "output_type": "execute_result"
    }
   ],
   "source": [
    "type(expected_duplicates)"
   ]
  },
  {
   "cell_type": "code",
   "execution_count": 39,
   "metadata": {},
   "outputs": [
    {
     "data": {
      "text/plain": [
       "geopandas.geoseries.GeoSeries"
      ]
     },
     "execution_count": 39,
     "metadata": {},
     "output_type": "execute_result"
    }
   ],
   "source": [
    "type(duplicated_coordinates.explode())"
   ]
  },
  {
   "cell_type": "code",
   "execution_count": 49,
   "metadata": {},
   "outputs": [],
   "source": [
    "duplicated_coordinates_geoseries = gpd.GeoSeries(\n",
    "    duplicated_coordinates\n",
    "        .explode()\n",
    "        .reset_index()\n",
    "        .drop(['level_0', 'level_1'], axis=1)\n",
    "        .geometry\n",
    ")"
   ]
  },
  {
   "cell_type": "code",
   "execution_count": 50,
   "metadata": {},
   "outputs": [],
   "source": [
    "from pandas.testing import assert_series_equal"
   ]
  },
  {
   "cell_type": "code",
   "execution_count": 51,
   "metadata": {},
   "outputs": [],
   "source": [
    "assert_series_equal(duplicated_coordinates_geoseries, expected_duplicates.geometry, check_index_type=False)"
   ]
  },
  {
   "cell_type": "code",
   "execution_count": null,
   "metadata": {},
   "outputs": [],
   "source": []
  }
 ],
 "metadata": {
  "kernelspec": {
   "display_name": "geonurse",
   "language": "python",
   "name": "geonurse"
  },
  "language_info": {
   "codemirror_mode": {
    "name": "ipython",
    "version": 3
   },
   "file_extension": ".py",
   "mimetype": "text/x-python",
   "name": "python",
   "nbconvert_exporter": "python",
   "pygments_lexer": "ipython3",
   "version": "3.7.3"
  }
 },
 "nbformat": 4,
 "nbformat_minor": 2
}
