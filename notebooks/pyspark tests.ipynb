{
 "cells": [
  {
   "cell_type": "markdown",
   "metadata": {},
   "source": [
    "# PYSPARK integration"
   ]
  },
  {
   "cell_type": "markdown",
   "metadata": {},
   "source": [
    "## 1. Import libraries"
   ]
  },
  {
   "cell_type": "code",
   "execution_count": 1,
   "metadata": {},
   "outputs": [],
   "source": [
    "%load_ext autoreload\n",
    "%autoreload 2\n",
    "%matplotlib inline"
   ]
  },
  {
   "cell_type": "code",
   "execution_count": 2,
   "metadata": {},
   "outputs": [
    {
     "data": {
      "text/plain": [
       "'/home/lukasz/miniconda3/envs/geonurse/bin/python'"
      ]
     },
     "execution_count": 2,
     "metadata": {},
     "output_type": "execute_result"
    }
   ],
   "source": [
    "import sys\n",
    "import os\n",
    "\n",
    "os.environ['PYSPARK_PYTHON']"
   ]
  },
  {
   "cell_type": "code",
   "execution_count": 3,
   "metadata": {},
   "outputs": [],
   "source": [
    "from pyspark.sql import SparkSession"
   ]
  },
  {
   "cell_type": "code",
   "execution_count": 4,
   "metadata": {},
   "outputs": [],
   "source": [
    "spark = SparkSession.builder.appName('pyspark-geonurse').master('local[*]').getOrCreate()\n",
    "sc = spark.sparkContext"
   ]
  },
  {
   "cell_type": "code",
   "execution_count": 5,
   "metadata": {},
   "outputs": [
    {
     "data": {
      "text/html": [
       "\n",
       "            <div>\n",
       "                <p><b>SparkSession - in-memory</b></p>\n",
       "                \n",
       "        <div>\n",
       "            <p><b>SparkContext</b></p>\n",
       "\n",
       "            <p><a href=\"http://192.168.0.130:4040\">Spark UI</a></p>\n",
       "\n",
       "            <dl>\n",
       "              <dt>Version</dt>\n",
       "                <dd><code>v2.4.0</code></dd>\n",
       "              <dt>Master</dt>\n",
       "                <dd><code>local[*]</code></dd>\n",
       "              <dt>AppName</dt>\n",
       "                <dd><code>pyspark-geonurse</code></dd>\n",
       "            </dl>\n",
       "        </div>\n",
       "        \n",
       "            </div>\n",
       "        "
      ],
      "text/plain": [
       "<pyspark.sql.session.SparkSession at 0x7f1a3838d358>"
      ]
     },
     "execution_count": 5,
     "metadata": {},
     "output_type": "execute_result"
    }
   ],
   "source": [
    "spark"
   ]
  },
  {
   "cell_type": "code",
   "execution_count": 6,
   "metadata": {},
   "outputs": [],
   "source": [
    "import geopandas as gpd\n",
    "import geonurse\n",
    "import geonurse.tools.conversion"
   ]
  },
  {
   "cell_type": "code",
   "execution_count": 7,
   "metadata": {},
   "outputs": [
    {
     "data": {
      "text/plain": [
       "'/home/lukasz/Projects/geonurse/notebooks'"
      ]
     },
     "execution_count": 7,
     "metadata": {},
     "output_type": "execute_result"
    }
   ],
   "source": [
    "os.getcwd()"
   ]
  },
  {
   "cell_type": "code",
   "execution_count": 8,
   "metadata": {},
   "outputs": [
    {
     "data": {
      "text/html": [
       "<div>\n",
       "<style scoped>\n",
       "    .dataframe tbody tr th:only-of-type {\n",
       "        vertical-align: middle;\n",
       "    }\n",
       "\n",
       "    .dataframe tbody tr th {\n",
       "        vertical-align: top;\n",
       "    }\n",
       "\n",
       "    .dataframe thead th {\n",
       "        text-align: right;\n",
       "    }\n",
       "</style>\n",
       "<table border=\"1\" class=\"dataframe\">\n",
       "  <thead>\n",
       "    <tr style=\"text-align: right;\">\n",
       "      <th></th>\n",
       "      <th>featurecla</th>\n",
       "      <th>name</th>\n",
       "      <th>comment</th>\n",
       "      <th>adm0_usa</th>\n",
       "      <th>adm0_left</th>\n",
       "      <th>adm0_right</th>\n",
       "      <th>adm0_a3_l</th>\n",
       "      <th>adm0_a3_r</th>\n",
       "      <th>sov_a3_l</th>\n",
       "      <th>sov_a3_r</th>\n",
       "      <th>type</th>\n",
       "      <th>labelrank</th>\n",
       "      <th>scalerank</th>\n",
       "      <th>min_zoom</th>\n",
       "      <th>min_label</th>\n",
       "      <th>note</th>\n",
       "      <th>adm0_abr_l</th>\n",
       "      <th>adm0_abr_r</th>\n",
       "      <th>geometry</th>\n",
       "    </tr>\n",
       "  </thead>\n",
       "  <tbody>\n",
       "    <tr>\n",
       "      <th>0</th>\n",
       "      <td>Indefinite (please verify)</td>\n",
       "      <td>None</td>\n",
       "      <td>None</td>\n",
       "      <td>1</td>\n",
       "      <td>Canada</td>\n",
       "      <td>United States of America</td>\n",
       "      <td>CAN</td>\n",
       "      <td>USA</td>\n",
       "      <td>Wat</td>\n",
       "      <td>US1</td>\n",
       "      <td>Water Indicator</td>\n",
       "      <td>2</td>\n",
       "      <td>1</td>\n",
       "      <td>2.0</td>\n",
       "      <td>7.6</td>\n",
       "      <td>None</td>\n",
       "      <td>Can.</td>\n",
       "      <td>U.S.A.</td>\n",
       "      <td>LINESTRING (-124.7588659269999 48.494017843000...</td>\n",
       "    </tr>\n",
       "    <tr>\n",
       "      <th>1</th>\n",
       "      <td>International boundary (verify)</td>\n",
       "      <td>None</td>\n",
       "      <td>None</td>\n",
       "      <td>1</td>\n",
       "      <td>Sweden</td>\n",
       "      <td>Norway</td>\n",
       "      <td>SWE</td>\n",
       "      <td>NOR</td>\n",
       "      <td>SWE</td>\n",
       "      <td>NOR</td>\n",
       "      <td>Water Indicator</td>\n",
       "      <td>2</td>\n",
       "      <td>1</td>\n",
       "      <td>0.0</td>\n",
       "      <td>7.6</td>\n",
       "      <td>None</td>\n",
       "      <td>Swe.</td>\n",
       "      <td>Nor.</td>\n",
       "      <td>LINESTRING (11.4375106135067 58.99172086270566...</td>\n",
       "    </tr>\n",
       "    <tr>\n",
       "      <th>2</th>\n",
       "      <td>International boundary (verify)</td>\n",
       "      <td>None</td>\n",
       "      <td>None</td>\n",
       "      <td>1</td>\n",
       "      <td>Denmark</td>\n",
       "      <td>Germany</td>\n",
       "      <td>DNK</td>\n",
       "      <td>DEU</td>\n",
       "      <td>DN1</td>\n",
       "      <td>DEU</td>\n",
       "      <td>Water Indicator</td>\n",
       "      <td>5</td>\n",
       "      <td>1</td>\n",
       "      <td>0.0</td>\n",
       "      <td>8.0</td>\n",
       "      <td>None</td>\n",
       "      <td>Den.</td>\n",
       "      <td>Ger.</td>\n",
       "      <td>(LINESTRING (8.394091838000094 55.096328024000...</td>\n",
       "    </tr>\n",
       "    <tr>\n",
       "      <th>3</th>\n",
       "      <td>International boundary (verify)</td>\n",
       "      <td>None</td>\n",
       "      <td>None</td>\n",
       "      <td>1</td>\n",
       "      <td>Singapore</td>\n",
       "      <td>Malaysia</td>\n",
       "      <td>SGP</td>\n",
       "      <td>MYS</td>\n",
       "      <td>SGP</td>\n",
       "      <td>MYS</td>\n",
       "      <td>Water Indicator</td>\n",
       "      <td>3</td>\n",
       "      <td>1</td>\n",
       "      <td>0.0</td>\n",
       "      <td>9.0</td>\n",
       "      <td>None</td>\n",
       "      <td>Sing.</td>\n",
       "      <td>Malay.</td>\n",
       "      <td>LINESTRING (104.067683554 1.277390849000057, 1...</td>\n",
       "    </tr>\n",
       "    <tr>\n",
       "      <th>4</th>\n",
       "      <td>International boundary (verify)</td>\n",
       "      <td>None</td>\n",
       "      <td>None</td>\n",
       "      <td>1</td>\n",
       "      <td>Uruguay</td>\n",
       "      <td>Argentina</td>\n",
       "      <td>URY</td>\n",
       "      <td>ARG</td>\n",
       "      <td>URY</td>\n",
       "      <td>ARG</td>\n",
       "      <td>Water Indicator</td>\n",
       "      <td>2</td>\n",
       "      <td>1</td>\n",
       "      <td>0.0</td>\n",
       "      <td>8.0</td>\n",
       "      <td>None</td>\n",
       "      <td>Ury.</td>\n",
       "      <td>Arg.</td>\n",
       "      <td>LINESTRING (-58.20011185221784 -32.44712991235...</td>\n",
       "    </tr>\n",
       "  </tbody>\n",
       "</table>\n",
       "</div>"
      ],
      "text/plain": [
       "                        featurecla  name comment  adm0_usa  adm0_left  \\\n",
       "0       Indefinite (please verify)  None    None         1     Canada   \n",
       "1  International boundary (verify)  None    None         1     Sweden   \n",
       "2  International boundary (verify)  None    None         1    Denmark   \n",
       "3  International boundary (verify)  None    None         1  Singapore   \n",
       "4  International boundary (verify)  None    None         1    Uruguay   \n",
       "\n",
       "                 adm0_right adm0_a3_l adm0_a3_r sov_a3_l sov_a3_r  \\\n",
       "0  United States of America       CAN       USA      Wat      US1   \n",
       "1                    Norway       SWE       NOR      SWE      NOR   \n",
       "2                   Germany       DNK       DEU      DN1      DEU   \n",
       "3                  Malaysia       SGP       MYS      SGP      MYS   \n",
       "4                 Argentina       URY       ARG      URY      ARG   \n",
       "\n",
       "              type  labelrank  scalerank  min_zoom  min_label  note  \\\n",
       "0  Water Indicator          2          1       2.0        7.6  None   \n",
       "1  Water Indicator          2          1       0.0        7.6  None   \n",
       "2  Water Indicator          5          1       0.0        8.0  None   \n",
       "3  Water Indicator          3          1       0.0        9.0  None   \n",
       "4  Water Indicator          2          1       0.0        8.0  None   \n",
       "\n",
       "  adm0_abr_l adm0_abr_r                                           geometry  \n",
       "0       Can.     U.S.A.  LINESTRING (-124.7588659269999 48.494017843000...  \n",
       "1       Swe.       Nor.  LINESTRING (11.4375106135067 58.99172086270566...  \n",
       "2       Den.       Ger.  (LINESTRING (8.394091838000094 55.096328024000...  \n",
       "3      Sing.     Malay.  LINESTRING (104.067683554 1.277390849000057, 1...  \n",
       "4       Ury.       Arg.  LINESTRING (-58.20011185221784 -32.44712991235...  "
      ]
     },
     "execution_count": 8,
     "metadata": {},
     "output_type": "execute_result"
    }
   ],
   "source": [
    "data = '../tests/data/conversion/shp/naturalearth_admin_boundary_lines.shp'\n",
    "\n",
    "gdf = gpd.read_file(data)\n",
    "gdf.head()"
   ]
  },
  {
   "cell_type": "markdown",
   "metadata": {},
   "source": [
    "## 2. READ_FILE and create GeoRDD using geonurse (fiona under the hood)"
   ]
  },
  {
   "cell_type": "code",
   "execution_count": 9,
   "metadata": {},
   "outputs": [],
   "source": [
    "geoRdd = geonurse.read_file(spark, data)"
   ]
  },
  {
   "cell_type": "code",
   "execution_count": 10,
   "metadata": {},
   "outputs": [
    {
     "data": {
      "text/plain": [
       "ParallelCollectionRDD[0] at parallelize at PythonRDD.scala:195"
      ]
     },
     "execution_count": 10,
     "metadata": {},
     "output_type": "execute_result"
    }
   ],
   "source": [
    "geoRdd"
   ]
  },
  {
   "cell_type": "code",
   "execution_count": 11,
   "metadata": {},
   "outputs": [
    {
     "data": {
      "text/plain": [
       "geonurse.base.GeoRDD"
      ]
     },
     "execution_count": 11,
     "metadata": {},
     "output_type": "execute_result"
    }
   ],
   "source": [
    "type(geoRdd)"
   ]
  },
  {
   "cell_type": "code",
   "execution_count": 12,
   "metadata": {},
   "outputs": [
    {
     "data": {
      "text/plain": [
       "[{'type': 'Feature',\n",
       "  'id': '0',\n",
       "  'properties': OrderedDict([('featurecla', 'Indefinite (please verify)'),\n",
       "               ('name', None),\n",
       "               ('comment', None),\n",
       "               ('adm0_usa', 1),\n",
       "               ('adm0_left', 'Canada'),\n",
       "               ('adm0_right', 'United States of America'),\n",
       "               ('adm0_a3_l', 'CAN'),\n",
       "               ('adm0_a3_r', 'USA'),\n",
       "               ('sov_a3_l', 'Wat'),\n",
       "               ('sov_a3_r', 'US1'),\n",
       "               ('type', 'Water Indicator'),\n",
       "               ('labelrank', 2),\n",
       "               ('scalerank', 1),\n",
       "               ('min_zoom', 2.0),\n",
       "               ('min_label', 7.6),\n",
       "               ('note', None),\n",
       "               ('adm0_abr_l', 'Can.'),\n",
       "               ('adm0_abr_r', 'U.S.A.')]),\n",
       "  'geometry': {'type': 'LineString',\n",
       "   'coordinates': [(-124.75886592699995, 48.49401784300004),\n",
       "    (-124.58285599799993, 48.44391754200002),\n",
       "    (-124.31713578399993, 48.36828908300008),\n",
       "    (-124.12464107299994, 48.313537903000096),\n",
       "    (-124.00511348499995, 48.27958648700006),\n",
       "    (-123.85395992099988, 48.255582784000055),\n",
       "    (-123.70668208899987, 48.23212168400006),\n",
       "    (-123.58508744399984, 48.212717184),\n",
       "    (-123.52764908899992, 48.216231181000055),\n",
       "    (-123.41685481799992, 48.238193665000026),\n",
       "    (-123.27296179299992, 48.26671905600007),\n",
       "    (-123.23180151399994, 48.28917246500008),\n",
       "    (-123.17322627799993, 48.35482737200003),\n",
       "    (-123.11932775899989, 48.415366313000064),\n",
       "    (-123.17782548099989, 48.46652598100006),\n",
       "    (-123.21257788099992, 48.53347279900005),\n",
       "    (-123.26012019999993, 48.68261098200007),\n",
       "    (-123.1204646409999, 48.72312530500007),\n",
       "    (-123.00520035899987, 48.75671498700011),\n",
       "    (-123.0031333009999, 48.78544708300002),\n",
       "    (-123.00520035899987, 48.81500600200006),\n",
       "    (-123.10028499499991, 48.86988637300006),\n",
       "    (-123.21366308699992, 48.935360413000055),\n",
       "    (-123.3126234539999, 48.992514547000084)]}}]"
      ]
     },
     "execution_count": 12,
     "metadata": {},
     "output_type": "execute_result"
    }
   ],
   "source": [
    "geoRdd.take(1)"
   ]
  },
  {
   "cell_type": "markdown",
   "metadata": {},
   "source": [
    "### 2.1. Get all geometries as GeoJson"
   ]
  },
  {
   "cell_type": "code",
   "execution_count": 13,
   "metadata": {},
   "outputs": [],
   "source": [
    "geojson_geometries = geoRdd.geometries('geoJson')"
   ]
  },
  {
   "cell_type": "code",
   "execution_count": 14,
   "metadata": {},
   "outputs": [
    {
     "data": {
      "text/plain": [
       "[{'type': 'LineString',\n",
       "  'coordinates': [(-124.75886592699995, 48.49401784300004),\n",
       "   (-124.58285599799993, 48.44391754200002),\n",
       "   (-124.31713578399993, 48.36828908300008),\n",
       "   (-124.12464107299994, 48.313537903000096),\n",
       "   (-124.00511348499995, 48.27958648700006),\n",
       "   (-123.85395992099988, 48.255582784000055),\n",
       "   (-123.70668208899987, 48.23212168400006),\n",
       "   (-123.58508744399984, 48.212717184),\n",
       "   (-123.52764908899992, 48.216231181000055),\n",
       "   (-123.41685481799992, 48.238193665000026),\n",
       "   (-123.27296179299992, 48.26671905600007),\n",
       "   (-123.23180151399994, 48.28917246500008),\n",
       "   (-123.17322627799993, 48.35482737200003),\n",
       "   (-123.11932775899989, 48.415366313000064),\n",
       "   (-123.17782548099989, 48.46652598100006),\n",
       "   (-123.21257788099992, 48.53347279900005),\n",
       "   (-123.26012019999993, 48.68261098200007),\n",
       "   (-123.1204646409999, 48.72312530500007),\n",
       "   (-123.00520035899987, 48.75671498700011),\n",
       "   (-123.0031333009999, 48.78544708300002),\n",
       "   (-123.00520035899987, 48.81500600200006),\n",
       "   (-123.10028499499991, 48.86988637300006),\n",
       "   (-123.21366308699992, 48.935360413000055),\n",
       "   (-123.3126234539999, 48.992514547000084)]}]"
      ]
     },
     "execution_count": 14,
     "metadata": {},
     "output_type": "execute_result"
    }
   ],
   "source": [
    "geojson_geometries.take(1)"
   ]
  },
  {
   "cell_type": "markdown",
   "metadata": {},
   "source": [
    "### 2.2. Get all geometries as SHAPELY objects"
   ]
  },
  {
   "cell_type": "code",
   "execution_count": 15,
   "metadata": {},
   "outputs": [],
   "source": [
    "shapely_geometries = geoRdd.geometries('shapely')"
   ]
  },
  {
   "cell_type": "code",
   "execution_count": 16,
   "metadata": {},
   "outputs": [
    {
     "data": {
      "text/plain": [
       "[<shapely.geometry.linestring.LineString at 0x7f1a24cb6438>,\n",
       " <shapely.geometry.linestring.LineString at 0x7f1a24cb6588>,\n",
       " <shapely.geometry.multilinestring.MultiLineString at 0x7f1a24cb6f60>,\n",
       " <shapely.geometry.linestring.LineString at 0x7f1a24cb6940>,\n",
       " <shapely.geometry.linestring.LineString at 0x7f1a24cb6c18>,\n",
       " <shapely.geometry.multilinestring.MultiLineString at 0x7f1a24cb66a0>,\n",
       " <shapely.geometry.linestring.LineString at 0x7f1a24cb6b00>,\n",
       " <shapely.geometry.linestring.LineString at 0x7f1a24cb6550>,\n",
       " <shapely.geometry.linestring.LineString at 0x7f1a24cb6898>,\n",
       " <shapely.geometry.multilinestring.MultiLineString at 0x7f1a24cb6518>]"
      ]
     },
     "execution_count": 16,
     "metadata": {},
     "output_type": "execute_result"
    }
   ],
   "source": [
    "shapely_geometries.take(10)"
   ]
  },
  {
   "cell_type": "markdown",
   "metadata": {},
   "source": [
    "### 2.3. Get all geometries as WKT String"
   ]
  },
  {
   "cell_type": "code",
   "execution_count": 17,
   "metadata": {},
   "outputs": [],
   "source": [
    "wkt_geometries = geoRdd.geometries('wkt')"
   ]
  },
  {
   "cell_type": "code",
   "execution_count": 18,
   "metadata": {},
   "outputs": [
    {
     "data": {
      "text/plain": [
       "['LINESTRING (-124.7588659269999 48.49401784300004, -124.5828559979999 48.44391754200002, -124.3171357839999 48.36828908300008, -124.1246410729999 48.3135379030001, -124.005113485 48.27958648700006, -123.8539599209999 48.25558278400005, -123.7066820889999 48.23212168400006, -123.5850874439998 48.212717184, -123.5276490889999 48.21623118100005, -123.4168548179999 48.23819366500003, -123.2729617929999 48.26671905600007, -123.2318015139999 48.28917246500008, -123.1732262779999 48.35482737200003, -123.1193277589999 48.41536631300006, -123.1778254809999 48.46652598100006, -123.2125778809999 48.53347279900005, -123.2601201999999 48.68261098200007, -123.1204646409999 48.72312530500007, -123.0052003589999 48.75671498700011, -123.0031333009999 48.78544708300002, -123.0052003589999 48.81500600200006, -123.1002849949999 48.86988637300006, -123.2136630869999 48.93536041300005, -123.3126234539999 48.99251454700008)',\n",
       " 'LINESTRING (11.4375106135067 58.99172086270566, 11.40093672600008 59.02590728800003, 11.37675215600009 59.07882395500009, 11.35825199400009 59.10026967400002, 11.31680749500012 59.10647084600002, 11.2593433020001 59.10409373000006, 11.20353275600013 59.09913279300009, 11.16539554800008 59.08864247700005, 11.13201257300011 59.07277781200004, 11.11723311300008 59.05272735699999, 11.10193688900003 59.00254954000006, 11.08974125100011 58.9813105270001, 11.05429121900008 58.96126007100004, 10.90701338700006 58.93692047200004)']"
      ]
     },
     "execution_count": 18,
     "metadata": {},
     "output_type": "execute_result"
    }
   ],
   "source": [
    "wkt_geometries.take(2)"
   ]
  },
  {
   "cell_type": "markdown",
   "metadata": {},
   "source": [
    "### 2.4. Get all properties"
   ]
  },
  {
   "cell_type": "code",
   "execution_count": 19,
   "metadata": {},
   "outputs": [],
   "source": [
    "raw_properties = geoRdd._properties"
   ]
  },
  {
   "cell_type": "code",
   "execution_count": 20,
   "metadata": {},
   "outputs": [
    {
     "data": {
      "text/plain": [
       "[{'featurecla': 'Indefinite (please verify)',\n",
       "  'name': None,\n",
       "  'comment': None,\n",
       "  'adm0_usa': 1,\n",
       "  'adm0_left': 'Canada',\n",
       "  'adm0_right': 'United States of America',\n",
       "  'adm0_a3_l': 'CAN',\n",
       "  'adm0_a3_r': 'USA',\n",
       "  'sov_a3_l': 'Wat',\n",
       "  'sov_a3_r': 'US1',\n",
       "  'type': 'Water Indicator',\n",
       "  'labelrank': 2,\n",
       "  'scalerank': 1,\n",
       "  'min_zoom': 2.0,\n",
       "  'min_label': 7.6,\n",
       "  'note': None,\n",
       "  'adm0_abr_l': 'Can.',\n",
       "  'adm0_abr_r': 'U.S.A.'}]"
      ]
     },
     "execution_count": 20,
     "metadata": {},
     "output_type": "execute_result"
    }
   ],
   "source": [
    "raw_properties.take(1)"
   ]
  },
  {
   "cell_type": "code",
   "execution_count": 21,
   "metadata": {},
   "outputs": [
    {
     "data": {
      "text/plain": [
       "PythonRDD[6] at RDD at PythonRDD.scala:53"
      ]
     },
     "execution_count": 21,
     "metadata": {},
     "output_type": "execute_result"
    }
   ],
   "source": [
    "properties_rdd = geoRdd.properties()\n",
    "properties_rdd"
   ]
  },
  {
   "cell_type": "code",
   "execution_count": 22,
   "metadata": {},
   "outputs": [
    {
     "data": {
      "text/plain": [
       "[{'featurecla': 'Indefinite (please verify)',\n",
       "  'name': 'No Data',\n",
       "  'comment': 'No Data',\n",
       "  'adm0_usa': 1,\n",
       "  'adm0_left': 'Canada',\n",
       "  'adm0_right': 'United States of America',\n",
       "  'adm0_a3_l': 'CAN',\n",
       "  'adm0_a3_r': 'USA',\n",
       "  'sov_a3_l': 'Wat',\n",
       "  'sov_a3_r': 'US1',\n",
       "  'type': 'Water Indicator',\n",
       "  'labelrank': 2,\n",
       "  'scalerank': 1,\n",
       "  'min_zoom': 2.0,\n",
       "  'min_label': 7.6,\n",
       "  'note': 'No Data',\n",
       "  'adm0_abr_l': 'Can.',\n",
       "  'adm0_abr_r': 'U.S.A.'}]"
      ]
     },
     "execution_count": 22,
     "metadata": {},
     "output_type": "execute_result"
    }
   ],
   "source": [
    "properties_rdd.take(1)"
   ]
  },
  {
   "cell_type": "markdown",
   "metadata": {},
   "source": [
    "## 3. Convert GeoRDD to DF"
   ]
  },
  {
   "cell_type": "markdown",
   "metadata": {},
   "source": [
    "### 3.1. Properties DF"
   ]
  },
  {
   "cell_type": "code",
   "execution_count": 23,
   "metadata": {},
   "outputs": [
    {
     "name": "stderr",
     "output_type": "stream",
     "text": [
      "/home/lukasz/miniconda3/envs/geonurse/lib/python3.7/site-packages/pyspark/sql/session.py:366: UserWarning: Using RDD of dict to inferSchema is deprecated. Use pyspark.sql.Row instead\n",
      "  warnings.warn(\"Using RDD of dict to inferSchema is deprecated. \"\n"
     ]
    }
   ],
   "source": [
    "properties_df = geoRdd._property_df"
   ]
  },
  {
   "cell_type": "code",
   "execution_count": 24,
   "metadata": {},
   "outputs": [
    {
     "name": "stdout",
     "output_type": "stream",
     "text": [
      "root\n",
      " |-- adm0_a3_l: string (nullable = true)\n",
      " |-- adm0_a3_r: string (nullable = true)\n",
      " |-- adm0_abr_l: string (nullable = true)\n",
      " |-- adm0_abr_r: string (nullable = true)\n",
      " |-- adm0_left: string (nullable = true)\n",
      " |-- adm0_right: string (nullable = true)\n",
      " |-- adm0_usa: long (nullable = true)\n",
      " |-- comment: string (nullable = true)\n",
      " |-- featurecla: string (nullable = true)\n",
      " |-- labelrank: long (nullable = true)\n",
      " |-- min_label: double (nullable = true)\n",
      " |-- min_zoom: double (nullable = true)\n",
      " |-- name: string (nullable = true)\n",
      " |-- note: string (nullable = true)\n",
      " |-- scalerank: long (nullable = true)\n",
      " |-- sov_a3_l: string (nullable = true)\n",
      " |-- sov_a3_r: string (nullable = true)\n",
      " |-- type: string (nullable = true)\n",
      "\n"
     ]
    }
   ],
   "source": [
    "properties_df.printSchema()"
   ]
  },
  {
   "cell_type": "code",
   "execution_count": 25,
   "metadata": {},
   "outputs": [
    {
     "name": "stdout",
     "output_type": "stream",
     "text": [
      "+---------+---------+----------+----------+---------+--------------------+--------+-------+--------------------+---------+---------+--------+-------+-------+---------+--------+--------+---------------+\n",
      "|adm0_a3_l|adm0_a3_r|adm0_abr_l|adm0_abr_r|adm0_left|          adm0_right|adm0_usa|comment|          featurecla|labelrank|min_label|min_zoom|   name|   note|scalerank|sov_a3_l|sov_a3_r|           type|\n",
      "+---------+---------+----------+----------+---------+--------------------+--------+-------+--------------------+---------+---------+--------+-------+-------+---------+--------+--------+---------------+\n",
      "|      CAN|      USA|      Can.|    U.S.A.|   Canada|United States of ...|       1|No Data|Indefinite (pleas...|        2|      7.6|     2.0|No Data|No Data|        1|     Wat|     US1|Water Indicator|\n",
      "|      SWE|      NOR|      Swe.|      Nor.|   Sweden|              Norway|       1|No Data|International bou...|        2|      7.6|     0.0|No Data|No Data|        1|     SWE|     NOR|Water Indicator|\n",
      "+---------+---------+----------+----------+---------+--------------------+--------+-------+--------------------+---------+---------+--------+-------+-------+---------+--------+--------+---------------+\n",
      "only showing top 2 rows\n",
      "\n"
     ]
    }
   ],
   "source": [
    "properties_df.show(2)"
   ]
  },
  {
   "cell_type": "markdown",
   "metadata": {},
   "source": [
    "### 3.2. Geometries DF"
   ]
  },
  {
   "cell_type": "code",
   "execution_count": 26,
   "metadata": {},
   "outputs": [],
   "source": [
    "geometries_df = geoRdd._geometry_df"
   ]
  },
  {
   "cell_type": "code",
   "execution_count": 27,
   "metadata": {},
   "outputs": [
    {
     "name": "stdout",
     "output_type": "stream",
     "text": [
      "+--------------------+\n",
      "|            geometry|\n",
      "+--------------------+\n",
      "|LINESTRING (-124....|\n",
      "|LINESTRING (11.43...|\n",
      "|MULTILINESTRING (...|\n",
      "|LINESTRING (104.0...|\n",
      "+--------------------+\n",
      "only showing top 4 rows\n",
      "\n"
     ]
    }
   ],
   "source": [
    "geometries_df.show(4)"
   ]
  },
  {
   "cell_type": "markdown",
   "metadata": {},
   "source": [
    "### 3.3. Join geometries and properties DF's"
   ]
  },
  {
   "cell_type": "code",
   "execution_count": 28,
   "metadata": {},
   "outputs": [],
   "source": [
    "geoDf = geoRdd.toGeoDF()"
   ]
  },
  {
   "cell_type": "code",
   "execution_count": 29,
   "metadata": {},
   "outputs": [
    {
     "name": "stdout",
     "output_type": "stream",
     "text": [
      "root\n",
      " |-- adm0_a3_l: string (nullable = true)\n",
      " |-- adm0_a3_r: string (nullable = true)\n",
      " |-- adm0_abr_l: string (nullable = true)\n",
      " |-- adm0_abr_r: string (nullable = true)\n",
      " |-- adm0_left: string (nullable = true)\n",
      " |-- adm0_right: string (nullable = true)\n",
      " |-- adm0_usa: long (nullable = true)\n",
      " |-- comment: string (nullable = true)\n",
      " |-- featurecla: string (nullable = true)\n",
      " |-- labelrank: long (nullable = true)\n",
      " |-- min_label: double (nullable = true)\n",
      " |-- min_zoom: double (nullable = true)\n",
      " |-- name: string (nullable = true)\n",
      " |-- note: string (nullable = true)\n",
      " |-- scalerank: long (nullable = true)\n",
      " |-- sov_a3_l: string (nullable = true)\n",
      " |-- sov_a3_r: string (nullable = true)\n",
      " |-- type: string (nullable = true)\n",
      " |-- id: long (nullable = false)\n",
      " |-- geometry: string (nullable = true)\n",
      "\n"
     ]
    }
   ],
   "source": [
    "geoDf.printSchema()"
   ]
  },
  {
   "cell_type": "code",
   "execution_count": 30,
   "metadata": {},
   "outputs": [
    {
     "name": "stdout",
     "output_type": "stream",
     "text": [
      "+---------+---------+----------+----------+---------+--------------------+--------+-------+--------------------+---------+---------+--------+-------+-------+---------+--------+--------+---------------+---+--------------------+\n",
      "|adm0_a3_l|adm0_a3_r|adm0_abr_l|adm0_abr_r|adm0_left|          adm0_right|adm0_usa|comment|          featurecla|labelrank|min_label|min_zoom|   name|   note|scalerank|sov_a3_l|sov_a3_r|           type| id|            geometry|\n",
      "+---------+---------+----------+----------+---------+--------------------+--------+-------+--------------------+---------+---------+--------+-------+-------+---------+--------+--------+---------------+---+--------------------+\n",
      "|      CAN|      USA|      Can.|    U.S.A.|   Canada|United States of ...|       1|No Data|Indefinite (pleas...|        2|      7.6|     2.0|No Data|No Data|        1|     Wat|     US1|Water Indicator|  0|LINESTRING (-124....|\n",
      "|      SWE|      NOR|      Swe.|      Nor.|   Sweden|              Norway|       1|No Data|International bou...|        2|      7.6|     0.0|No Data|No Data|        1|     SWE|     NOR|Water Indicator|  1|LINESTRING (11.43...|\n",
      "|      DNK|      DEU|      Den.|      Ger.|  Denmark|             Germany|       1|No Data|International bou...|        5|      8.0|     0.0|No Data|No Data|        1|     DN1|     DEU|Water Indicator|  2|MULTILINESTRING (...|\n",
      "|      SGP|      MYS|     Sing.|    Malay.|Singapore|            Malaysia|       1|No Data|International bou...|        3|      9.0|     0.0|No Data|No Data|        1|     SGP|     MYS|Water Indicator|  3|LINESTRING (104.0...|\n",
      "+---------+---------+----------+----------+---------+--------------------+--------+-------+--------------------+---------+---------+--------+-------+-------+---------+--------+--------+---------------+---+--------------------+\n",
      "only showing top 4 rows\n",
      "\n"
     ]
    }
   ],
   "source": [
    "geoDf.show(4)"
   ]
  },
  {
   "cell_type": "code",
   "execution_count": 31,
   "metadata": {},
   "outputs": [
    {
     "name": "stdout",
     "output_type": "stream",
     "text": [
      "+---+-------+--------------------+\n",
      "| id|   name|            geometry|\n",
      "+---+-------+--------------------+\n",
      "|  0|No Data|LINESTRING (-124....|\n",
      "|  1|No Data|LINESTRING (11.43...|\n",
      "|  2|No Data|MULTILINESTRING (...|\n",
      "|  3|No Data|LINESTRING (104.0...|\n",
      "|  4|No Data|LINESTRING (-58.2...|\n",
      "+---+-------+--------------------+\n",
      "only showing top 5 rows\n",
      "\n"
     ]
    }
   ],
   "source": [
    "geoDf.select('id', 'name', 'geometry').show(5)"
   ]
  },
  {
   "cell_type": "code",
   "execution_count": null,
   "metadata": {},
   "outputs": [],
   "source": []
  }
 ],
 "metadata": {
  "kernelspec": {
   "display_name": "geonurse",
   "language": "python",
   "name": "geonurse"
  },
  "language_info": {
   "codemirror_mode": {
    "name": "ipython",
    "version": 3
   },
   "file_extension": ".py",
   "mimetype": "text/x-python",
   "name": "python",
   "nbconvert_exporter": "python",
   "pygments_lexer": "ipython3",
   "version": "3.7.3"
  }
 },
 "nbformat": 4,
 "nbformat_minor": 2
}
